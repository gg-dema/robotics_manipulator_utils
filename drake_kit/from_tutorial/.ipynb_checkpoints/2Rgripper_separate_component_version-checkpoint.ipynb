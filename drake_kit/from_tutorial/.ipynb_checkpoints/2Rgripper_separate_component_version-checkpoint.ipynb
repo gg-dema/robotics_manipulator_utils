{
 "cells": [
  {
   "cell_type": "code",
   "execution_count": 1,
   "id": "a78486ee",
   "metadata": {},
   "outputs": [],
   "source": [
    "import numpy as np\n",
    "import os\n",
    "from pydrake.common import temp_directory, FindResourceOrThrow\n",
    "from pydrake.geometry import (\n",
    "    MeshcatVisualizer, MeshcatVisualizerParams, \n",
    "    Role, StartMeshcat\n",
    ")\n",
    "\n",
    "from pydrake.math import RigidTransform, RollPitchYaw\n",
    "from pydrake.multibody.parsing import Parser\n",
    "from pydrake.multibody.plant import AddMultibodyPlantSceneGraph\n",
    "from pydrake.systems.analysis import Simulator\n",
    "from pydrake.systems.framework import DiagramBuilder\n",
    "from pydrake.visualization import ModelVisualizer\n",
    "\n",
    "from manipulation.scenarios import AddMultibodyTriad, AddPackagePaths"
   ]
  },
  {
   "cell_type": "code",
   "execution_count": 2,
   "id": "55417e97",
   "metadata": {},
   "outputs": [
    {
     "name": "stderr",
     "output_type": "stream",
     "text": [
      "INFO:drake:Meshcat listening for connections at http://localhost:7001\n"
     ]
    }
   ],
   "source": [
    "meshcat = StartMeshcat()"
   ]
  },
  {
   "cell_type": "code",
   "execution_count": 3,
   "id": "2ded4c93",
   "metadata": {},
   "outputs": [],
   "source": [
    "hand_url = FindResourceOrThrow(\n",
    "    \"drake/manipulation/models/wsg_50_description/sdf/schunk_wsg_50_with_tip.sdf\"\n",
    ")\n",
    "arm_url = '../robot_models/planar_2R.sdf'\n",
    "\n",
    "full_2r_directives = '''\n",
    "directives: \n",
    "- add_model: \n",
    "    name: 2R_planar_robot\n",
    "    file: file:///home/dema/PycharmProjects/robot_manipulator/robot_models/planar_2R.sdf\n",
    "    default_joint_positions: \n",
    "        q1: [0]\n",
    "        q2: [0]\n",
    "\n",
    "\n",
    "- add_model: \n",
    "    name: end_effector\n",
    "    file: file:///home/dema/PycharmProjects/robot_manipulator/lib/python3.10/site-packages/pydrake/common/../lib/../share/drake/manipulation/models/wsg_50_description/sdf/schunk_wsg_50_with_tip.sdf\n",
    "- add_weld: \n",
    "    parent: 2R_planar_robot::joint_case2\n",
    "    child: end_effector::body_frame\n",
    "    X_PC: \n",
    "        translation: [0, 0.5, 0]\n",
    "        rotation: !Rpy {deg: [0, 0, 1.6]}\n",
    "'''\n"
   ]
  },
  {
   "cell_type": "code",
   "execution_count": 6,
   "id": "dc8cb04f",
   "metadata": {},
   "outputs": [],
   "source": [
    "builder = DiagramBuilder()\n",
    "time_step = 0.003\n",
    "plant, scene_graph = AddMultibodyPlantSceneGraph(builder, time_step)\n",
    "\n",
    "parser = Parser(plant)\n",
    "parser.AddModelsFromString(full_2r_directives, '.dmd.yaml')\n",
    "plant.Finalize()\n",
    "\n",
    "BODY_NAMES = ['l1', 'l2', \"joint_case1\", \"joint_case2\", 'body']\n",
    "BODY_NAMES = ['joint_case1', 'joint_case2', 'body']\n",
    "for body_name in BODY_NAMES:  \n",
    "    AddMultibodyTriad(plant.GetFrameByName(body_name), scene_graph)\n",
    "       \n",
    "visualizer = MeshcatVisualizer.AddToBuilder(\n",
    "    builder, \n",
    "    scene_graph.get_query_output_port(),\n",
    "    meshcat\n",
    ")\n",
    "\n",
    "diagram = builder.Build()\n",
    "diagram_context = diagram.CreateDefaultContext()\n",
    "    \n",
    "diagram.ForcedPublish(diagram_context)"
   ]
  },
  {
   "cell_type": "code",
   "execution_count": 60,
   "id": "62d66cb6",
   "metadata": {},
   "outputs": [],
   "source": [
    "simulator = Simulator(diagram, diagram_context)\n",
    "simulator.set_target_realtime_rate(1.0)\n",
    "simulator.set_publish_every_time_step(False)\n",
    "visualizer.StartRecording()\n",
    "simulator.Initialize()\n",
    "visualizer.StopRecording()\n",
    "visualizer.PublishRecording()"
   ]
  },
  {
   "cell_type": "code",
   "execution_count": null,
   "id": "081dedab",
   "metadata": {},
   "outputs": [],
   "source": []
  }
 ],
 "metadata": {
  "kernelspec": {
   "display_name": "robot_manipulator",
   "language": "python",
   "name": "robot_manipulator"
  },
  "language_info": {
   "codemirror_mode": {
    "name": "ipython",
    "version": 3
   },
   "file_extension": ".py",
   "mimetype": "text/x-python",
   "name": "python",
   "nbconvert_exporter": "python",
   "pygments_lexer": "ipython3",
   "version": "3.10.6"
  }
 },
 "nbformat": 4,
 "nbformat_minor": 5
}
