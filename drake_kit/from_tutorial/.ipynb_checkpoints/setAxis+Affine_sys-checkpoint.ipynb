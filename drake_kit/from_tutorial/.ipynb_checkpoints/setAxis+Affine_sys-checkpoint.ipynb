{
 "cells": [
  {
   "cell_type": "markdown",
   "id": "921863f7",
   "metadata": {},
   "source": [
    "# defining LeafSystems + Affine systems"
   ]
  },
  {
   "cell_type": "code",
   "execution_count": 84,
   "id": "99fd40b5",
   "metadata": {},
   "outputs": [],
   "source": [
    "from pydrake.all import (LeafSystem, \n",
    "                         Parser, DiagramBuilder, LogVectorOutput, \n",
    "                         AddMultibodyPlantSceneGraph,\n",
    "                         RigidTransform, RollPitchYaw, RotationMatrix, \n",
    "                         CoulombFriction, SpatialVelocity, \n",
    "                         HalfSpace, AffineSystem, ConstantVectorSource,\n",
    "                         GeometryInstance, Cylinder, MakePhongIllustrationProperties, \n",
    "                         BasicVector, \n",
    "                        MeshcatVisualizer, Meshcat, \n",
    "                        Simulator)\n",
    "import numpy as np\n"
   ]
  },
  {
   "cell_type": "code",
   "execution_count": 80,
   "id": "4907519f",
   "metadata": {},
   "outputs": [
    {
     "ename": "RuntimeError",
     "evalue": "Meshcat failed to open a websocket port.",
     "output_type": "error",
     "traceback": [
      "\u001b[0;31m---------------------------------------------------------------------------\u001b[0m",
      "\u001b[0;31mRuntimeError\u001b[0m                              Traceback (most recent call last)",
      "Cell \u001b[0;32mIn[80], line 1\u001b[0m\n\u001b[0;32m----> 1\u001b[0m meshcat \u001b[38;5;241m=\u001b[39m \u001b[43mMeshcat\u001b[49m\u001b[43m(\u001b[49m\u001b[38;5;241;43m7000\u001b[39;49m\u001b[43m)\u001b[49m\n",
      "\u001b[0;31mRuntimeError\u001b[0m: Meshcat failed to open a websocket port."
     ]
    }
   ],
   "source": [
    "meshcat = Meshcat(7000)"
   ]
  },
  {
   "cell_type": "code",
   "execution_count": 53,
   "id": "812b0381",
   "metadata": {},
   "outputs": [],
   "source": [
    "# add function --> extra element of the simulation \n",
    "\n",
    "def AddTriad(source_id,  # source registered with SceneGraph\n",
    "             frame_id,   # a geometry frame_id registered with SceneGraph\n",
    "             scene_graph, \n",
    "             length=0.25, \n",
    "             radius=0.001, \n",
    "             opacity=1., \n",
    "             X_FT=RigidTransform(), # rigid transform from triad Frame T to frame_id F\n",
    "             name='frame'):\n",
    "    \n",
    "    # x-axis\n",
    "    X_TG = RigidTransform(RotationMatrix.MakeYRotation(np.pi/2),\n",
    "                          [length/2.0, 0, 0])\n",
    "    geom = GeometryInstance(X_FT.multiply(X_TG), Cylinder(radius, length), name+'x_axis')\n",
    "    geom.set_illustration_properties(MakePhongIllustrationProperties([1, 0, 0, opacity]))\n",
    "    scene_graph.RegisterGeometry(source_id, frame_id, geom)\n",
    "    \n",
    "    # y-axis\n",
    "    X_TG = RigidTransform(RotationMatrix.MakeXRotation(np.pi/2), \n",
    "                          [0, length/2.0, 0])\n",
    "    geom = GeometryInstance(X_FT.multiply(X_TG), Cylinder(radius, length), name+'y_axis')\n",
    "    geom.set_illustration_properties(MakePhongIllustrationProperties([0, 1, 0, opacity]))\n",
    "    scene_graph.RegisterGeometry(source_id, frame_id, geom)\n",
    "\n",
    "    # z-axis\n",
    "    X_TG = RigidTransform([0, 0, length/2.0])\n",
    "    geom = GeometryInstance(X_FT.multiply(X_TG), Cylinder(radius, length), name+'z_axis')\n",
    "    geom.set_illustration_properties(MakePhongIllustrationProperties([0, 0, 1, opacity]))\n",
    "    scene_graph.RegisterGeometry(source_id, frame_id, geom)\n",
    "    \n",
    "    \n",
    "def AddMultibodyTriad(frame, scene_graph, length=0.25, radius=0.001, opacity=1.):\n",
    "    plant = frame.GetParentPlant()\n",
    "    AddTriad(plant.get_source_id(), \n",
    "            plant.GetBodyFrameIdOrThrow(frame.body().index()),\n",
    "            scene_graph, \n",
    "            length, radius, opacity, \n",
    "            frame.GetFixedPoseInBodyFrame())\n",
    "    \n",
    "\n",
    "def AddGround(plant):\n",
    "    \"\"\" Add a flat ground with friction \"\"\"\n",
    "\n",
    "    # Constants\n",
    "    transparent_color = np.array([0.5,0.5,0.5,0])\n",
    "    nontransparent_color = np.array([0.5,0.5,0.5,0.1])\n",
    "\n",
    "    p_GroundOrigin = [0, 0.0, 0.0]\n",
    "    R_GroundOrigin = RotationMatrix.MakeXRotation(0.0)\n",
    "    X_GroundOrigin = RigidTransform(R_GroundOrigin,p_GroundOrigin)\n",
    "\n",
    "    # Set Up Ground on Plant\n",
    "\n",
    "    surface_friction = CoulombFriction(\n",
    "            static_friction = 0.7,\n",
    "            dynamic_friction = 0.5)\n",
    "    plant.RegisterCollisionGeometry(\n",
    "            plant.world_body(),\n",
    "            X_GroundOrigin,\n",
    "            HalfSpace(),\n",
    "            \"ground_collision\",\n",
    "            surface_friction)\n",
    "    plant.RegisterVisualGeometry(\n",
    "            plant.world_body(),\n",
    "            X_GroundOrigin,\n",
    "            HalfSpace(),\n",
    "            \"ground_visual\",\n",
    "            transparent_color) \n"
   ]
  },
  {
   "cell_type": "code",
   "execution_count": 70,
   "id": "a403573f",
   "metadata": {},
   "outputs": [],
   "source": [
    "class BlockHandlerSystem(LeafSystem): \n",
    "    \n",
    "    def __init__(self, plant, scene_graph): \n",
    "        LeafSystem.__init__(self)\n",
    "        \n",
    "        self.block_name = 'block_with_slots'\n",
    "        \n",
    "        self.plant = plant\n",
    "        self.block_as_model = Parser(plant=self.plant).AddModelFromFile('./model/block.urdf', self.block_name)\n",
    "        AddGround(self.plant)\n",
    "        self.scene_graph = scene_graph\n",
    "        AddMultibodyTriad(plant.GetFrameByName('body'), self.scene_graph)\n",
    "        self.plant.Finalize()\n",
    "        self.context = self.plant.CreateDefaultContext()\n",
    "        \n",
    "        # create input port for the slider block system \n",
    "        # desired_pose = name of the input\n",
    "        self.desired_pose_port = self.DeclareVectorInputPort('desired_pose', BasicVector(6))\n",
    "        # create output port for share the pose of the block\n",
    "        self.DeclareVectorOutputPort(\n",
    "            'measured_block_pose',\n",
    "            BasicVector(6), \n",
    "            self.SetBlockPose,  # function is a function  \n",
    "            {self.time_ticket()}\n",
    "        )\n",
    "        \n",
    "    \n",
    "    def SetBlockPose(self, context, output):  \n",
    "        \"\"\"set the desired pose of the block\"\"\"\n",
    "        plant_context = self.context\n",
    "       # get current pose\n",
    "        pose_as_vect = self.desired_pose_port.Eval(context)\n",
    "        \n",
    "        self.plant.SetFreeBodyPose( \n",
    "            plant_context, \n",
    "            self.plant.GetBodyByName('body', self.block_as_model), \n",
    "            RigidTransform(RollPitchYaw(pose_as_vec[:3]), pose_as_vec[3:])\n",
    "        )\n",
    "        \n",
    "        self.plant.SetFreeBodySpatialVelocity(\n",
    "            self.plant.GetBodyByName('body', self.block_as_model), \n",
    "            SpatialVelocity(np.zeros(3), np.array([0.0, 0.0, 0.0])),\n",
    "            plant_context\n",
    "        )\n",
    "        \n",
    "        X_WorldBlock = self.plant.GetFreeBodyPose(\n",
    "            plant_context, \n",
    "            self.plant.GetBodyByName('body', self.block_as_model)\n",
    "        )\n",
    "        \n",
    "        pose_as_vector = np.hstack([\n",
    "            RollPitchYaw(X_WorldBlock.rotation()).vector(), \n",
    "            X_WorldBlock.translation()\n",
    "            ])\n",
    "        # output = it's a port\n",
    "        output.SetFromVector(pose_as_vector)\n",
    "        \n",
    "    def SetInitialBlockState(self, diagram_context): \n",
    "        p_WBlock = [0.0, 0.0, 0.2]\n",
    "        R_WBlock = RotationMatrix.MakeXRotation(np.pi/2.)\n",
    "        X_WBlock = RigidTransform(R_WBlock, p_WBlock)\n",
    "        \n",
    "        self.plant.SetFreeBodyPose(\n",
    "            self.plant.GetMyContextFromRoot(diagram_context), \n",
    "            self.plant.GetBodyByName('body', self.block_as_model), \n",
    "            X_WBlock\n",
    "        )\n",
    "        \n",
    "        self.plant.SetFreeBodySpatialVelocity(\n",
    "           self.plant.GetBodyByName(\"body\", self.block_as_model),\n",
    "           SpatialVelocity(np.zeros(3),np.array([0.0,0.0,0.0])),\n",
    "           self.plant.GetMyContextFromRoot(diagram_context))\n"
   ]
  },
  {
   "cell_type": "code",
   "execution_count": 78,
   "id": "8b6bce6c",
   "metadata": {},
   "outputs": [
    {
     "name": "stderr",
     "output_type": "stream",
     "text": [
      "WARNING:drake:Warning parsing file '/home/dema/PycharmProjects/robot_manipulator/from_tutorial/model/SliderBlockv3.obj' : Material file [ c7870aad-3263-497b-8697-9d26285c5211.mtl ] not found in a path : /home/dema/PycharmProjects/robot_manipulator/from_tutorial/model/\n",
      "Failed to load material file(s). Use default material.\n",
      "material [ 'Steel_-_Satin' ] not found in .mtl\n",
      "\n"
     ]
    }
   ],
   "source": [
    "builder = DiagramBuilder()\n",
    "plant, scene_graph = AddMultibodyPlantSceneGraph(builder, time_step=1e-3)\n",
    "block_handler_system = builder.AddSystem(BlockHandlerSystem(plant, scene_graph))\n",
    "\n",
    "A = np.zeros((6, 6))\n",
    "B = np.zeros((6, 1))\n",
    "f0 = np.array([0.0, 0.1, 0.1, 0.0, 0.0, 0.0])\n",
    "C = np.eye(6)\n",
    "D = np.zeros((6, 1))\n",
    "\n",
    "y0 = np.zeros((6, 1))\n",
    "x0 = np.array([0.0, 0.0, 0.0, 0.0, 0.2, 0.5])\n",
    "\n",
    "target_source2 = builder.AddSystem(\n",
    "    AffineSystem(A, B, f0, C, D, y0)\n",
    ")\n",
    "\n",
    "\n",
    "target_source2.configure_default_state(x0)\n",
    "command_logger = LogVectorOutput(target_source2.get_output_port(),\n",
    "                                builder)\n",
    "command_logger.set_name('command_logger')\n",
    "\n",
    "builder.Connect(\n",
    "    target_source2.get_output_port(), \n",
    "    block_handler_system.GetInputPort('desired_pose')\n",
    ")\n",
    "\n",
    "u0 = np.array([0.2])\n",
    "affine_system_input = builder.AddSystem(ConstantVectorSource(u0))\n",
    "builder.Connect(\n",
    "    affine_system_input.get_output_port(), \n",
    "    target_source2.get_input_port()\n",
    ")"
   ]
  },
  {
   "cell_type": "code",
   "execution_count": 81,
   "id": "534a3998",
   "metadata": {
    "scrolled": true
   },
   "outputs": [
    {
     "data": {
      "text/plain": [
       "<pydrake.geometry.MeshcatVisualizer_[float] at 0x7fd81b910e70>"
      ]
     },
     "execution_count": 81,
     "metadata": {},
     "output_type": "execute_result"
    }
   ],
   "source": [
    "visualizer = MeshcatVisualizer(meshcat)\n",
    "visualizer.AddToBuilder(builder, scene_graph, meshcat)"
   ]
  },
  {
   "cell_type": "code",
   "execution_count": 82,
   "id": "aae183a3",
   "metadata": {
    "scrolled": true
   },
   "outputs": [
    {
     "name": "stderr",
     "output_type": "stream",
     "text": [
      "/tmp/ipykernel_22000/3843936313.py:5: DrakeDeprecationWarning: (Deprecated) See ForcedPublish() \n",
      "*/ (Deprecated.)\n",
      "\n",
      "Deprecated:\n",
      "    Use ForcedPublish() instead This will be removed from Drake on or\n",
      "    after 2023-03-01.\n",
      "  diagram.Publish(diagram_context)\n",
      "WARNING:drake:Meshcat: Failed to load texture. /home/dema/PycharmProjects/robot_manipulator/from_tutorial/model/SliderBlockv3.obj references c7870aad-3263-497b-8697-9d26285c5211.mtl, but Meshcat could not open filename \"/home/dema/PycharmProjects/robot_manipulator/from_tutorial/model/c7870aad-3263-497b-8697-9d26285c5211.mtl\"\n",
      "WARNING:drake:Meshcat does not display HalfSpace geometry (yet).\n"
     ]
    }
   ],
   "source": [
    "diagram = builder.Build()\n",
    "diagram_context = diagram.CreateDefaultContext()\n",
    "\n",
    "block_handler_system.SetInitialBlockState(diagram_context)\n",
    "diagram.Publish(diagram_context)"
   ]
  },
  {
   "cell_type": "code",
   "execution_count": 85,
   "id": "b35bb4c6",
   "metadata": {},
   "outputs": [
    {
     "name": "stderr",
     "output_type": "stream",
     "text": [
      "WARNING:drake:Meshcat: Failed to load texture. /home/dema/PycharmProjects/robot_manipulator/from_tutorial/model/SliderBlockv3.obj references c7870aad-3263-497b-8697-9d26285c5211.mtl, but Meshcat could not open filename \"/home/dema/PycharmProjects/robot_manipulator/from_tutorial/model/c7870aad-3263-497b-8697-9d26285c5211.mtl\"\n",
      "WARNING:drake:Meshcat does not display HalfSpace geometry (yet).\n"
     ]
    },
    {
     "data": {
      "text/plain": [
       "<pydrake.systems.analysis.SimulatorStatus at 0x7fd81c149e70>"
      ]
     },
     "execution_count": 85,
     "metadata": {},
     "output_type": "execute_result"
    }
   ],
   "source": [
    "simulator = Simulator(diagram, diagram_context)\n",
    "block_handler_system.context = block_handler_system.plant.GetMyMutableContextFromRoot(diagram_context)\n",
    "simulator.set_target_realtime_rate(1.0)\n",
    "simulator.set_publish_every_time_step(False)\n",
    "\n",
    "# Run simulation\n",
    "simulator.Initialize()\n",
    "simulator.AdvanceTo(15.0)\n"
   ]
  }
 ],
 "metadata": {
  "kernelspec": {
   "display_name": "robot_manipulator",
   "language": "python",
   "name": "robot_manipulator"
  },
  "language_info": {
   "codemirror_mode": {
    "name": "ipython",
    "version": 3
   },
   "file_extension": ".py",
   "mimetype": "text/x-python",
   "name": "python",
   "nbconvert_exporter": "python",
   "pygments_lexer": "ipython3",
   "version": "3.10.6"
  }
 },
 "nbformat": 4,
 "nbformat_minor": 5
}
