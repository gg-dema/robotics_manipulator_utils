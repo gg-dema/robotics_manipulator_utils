{
 "cells": [
  {
   "cell_type": "markdown",
   "id": "f3bc6a53",
   "metadata": {},
   "source": [
    "general workflow for defining a obj: \n",
    "   - 3d drawing (autodesk fusion 360) --> get a stl file\n",
    "   - convert to urdf file \n",
    "       - from .stl to .obj\n",
    "       - define property in udrf inside the ROBOT tag\n",
    "           - visual parameters (mainly from obj)\n",
    "           - collision properties\n",
    "           - inertial parameters\n",
    "    "
   ]
  },
  {
   "cell_type": "code",
   "execution_count": 2,
   "id": "392ce655",
   "metadata": {},
   "outputs": [],
   "source": [
    "from pydrake.all import (\n",
    "    DiagramBuilder, \n",
    "    AddMultibodyPlantSceneGraph, \n",
    "    Parser, \n",
    "    RotationMatrix, RigidTransform, \n",
    "    CoulombFriction, \n",
    "    HalfSpace\n",
    ")\n",
    "import numpy as np\n",
    "import matplotlib.pyplot as plt\n",
    "import requests\n",
    "import os"
   ]
  },
  {
   "cell_type": "code",
   "execution_count": 3,
   "id": "2e56ce22",
   "metadata": {},
   "outputs": [],
   "source": [
    "destination_path = './model/'\n",
    "if not os.path.isdir(destination_path):\n",
    "    os.mkdir(destination_path)"
   ]
  },
  {
   "cell_type": "code",
   "execution_count": 4,
   "id": "af03ea42",
   "metadata": {},
   "outputs": [],
   "source": [
    "\n",
    "file_path_urdf = \"https://raw.githubusercontent.com/kwesiRutledge/OzayGroupExploration/921e835f121afb7d0a0434d0648d816bde7b8b2e/drake/manip_tests/slider/slider-block.urdf\"\n",
    "file_path_obj = 'https://raw.githubusercontent.com/kwesiRutledge/OzayGroupExploration/921e835f121afb7d0a0434d0648d816bde7b8b2e/drake/manip_tests/slider/SliderBlockv3.obj'\n",
    "\n",
    "req_urdf = requests.get(file_path_urdf)\n",
    "if req_urdf.status_code == requests.codes.ok: \n",
    "    str_urdf = req_urdf.content.decode('UTF-8')\n",
    "    \n",
    "req_obj = requests.get(file_path_obj)\n",
    "if req_obj.status_code == requests.codes.ok: \n",
    "    str_obj = req_obj.content.decode('UTF-8')\n",
    "    \n",
    "file_urdf = open(destination_path+'block.urdf', 'w')\n",
    "file_obj = open(destination_path+'SliderBlockv3.obj', 'w')\n",
    "\n",
    "file_urdf.write(str_urdf)\n",
    "file_obj.write(str_obj)\n",
    "\n",
    "file_urdf.close()\n",
    "file_obj.close()\n"
   ]
  },
  {
   "cell_type": "code",
   "execution_count": 6,
   "id": "d1b3875e",
   "metadata": {},
   "outputs": [
    {
     "name": "stderr",
     "output_type": "stream",
     "text": [
      "INFO:drake:Meshcat listening for connections at http://localhost:7000\n"
     ]
    }
   ],
   "source": [
    "from pydrake.all import Meshcat, MeshcatVisualizer\n",
    "meshcat = Meshcat(port=7000)"
   ]
  },
  {
   "cell_type": "code",
   "execution_count": 5,
   "id": "e25bbfe2",
   "metadata": {},
   "outputs": [],
   "source": [
    "def AddGround(plant): \n",
    "    '''add a flat ground with friction'''\n",
    "    # Constants\n",
    "    transparent_color = np.array([0.5, 0.5, 0.5, 0])\n",
    "    non_transparent_color = np.array([0.5, 0.5, 0.5, 0.1])\n",
    "\n",
    "    Pos_GroundOrigin = [0, 0.0, 0.0]\n",
    "    R_GroundOrigin = RotationMatrix.MakeXRotation(0.0)\n",
    "    X_GroundOrigin = RigidTransform(R_GroundOrigin, Pos_GroundOrigin)\n",
    "    \n",
    "    surface_friction = CoulombFriction(\n",
    "        static_friction=0.7, \n",
    "        dynamic_friction=0.5\n",
    "    )\n",
    "    plant.RegisterCollisionGeometry(\n",
    "        plant.world_body(), \n",
    "        X_GroundOrigin, \n",
    "        HalfSpace(), \n",
    "        'ground_collision', \n",
    "        surface_friction\n",
    "    )\n",
    "    plant.RegisterVisualGeometry(\n",
    "        plant.world_body(),\n",
    "        X_GroundOrigin,\n",
    "        HalfSpace(),\n",
    "        \"ground_visual\",\n",
    "        transparent_color\n",
    "    )"
   ]
  },
  {
   "cell_type": "code",
   "execution_count": 24,
   "id": "09956ca6",
   "metadata": {},
   "outputs": [
    {
     "name": "stderr",
     "output_type": "stream",
     "text": [
      "WARNING:drake:Warning parsing file '/home/dema/PycharmProjects/robot_manipulator/from_tutorial/model/SliderBlockv3.obj' : Material file [ c7870aad-3263-497b-8697-9d26285c5211.mtl ] not found in a path : /home/dema/PycharmProjects/robot_manipulator/from_tutorial/model/\n",
      "Failed to load material file(s). Use default material.\n",
      "material [ 'Steel_-_Satin' ] not found in .mtl\n",
      "\n"
     ]
    }
   ],
   "source": [
    "# init diagram \n",
    "\n",
    "# - SceneGraph: visualization\n",
    "# - AddGround : add  a plane with friction \n",
    "\n",
    "builder =  DiagramBuilder()\n",
    "plant, scene_graph = AddMultibodyPlantSceneGraph(builder, time_step=1e-3)\n",
    "\n",
    "block_as_model = Parser(plant=plant).AddModelFromFile(\n",
    "                destination_path+'block.urdf')\n",
    "AddGround(plant)\n",
    "plant.Finalize()"
   ]
  },
  {
   "cell_type": "code",
   "execution_count": 25,
   "id": "031a4bee",
   "metadata": {},
   "outputs": [],
   "source": [
    "from pydrake.all import LogVectorOutput\n",
    "# Monitoring the block trajectory\n",
    "state_logger = LogVectorOutput(plant.get_state_output_port(block_as_model), builder)\n",
    "state_logger.set_name('state_logger')"
   ]
  },
  {
   "cell_type": "code",
   "execution_count": 26,
   "id": "0bf79e88",
   "metadata": {},
   "outputs": [
    {
     "data": {
      "text/plain": [
       "<pydrake.geometry.MeshcatVisualizer_[float] at 0x7fa97797f0b0>"
      ]
     },
     "execution_count": 26,
     "metadata": {},
     "output_type": "execute_result"
    }
   ],
   "source": [
    "visualizer = MeshcatVisualizer(meshcat)\n",
    "visualizer.AddToBuilder(builder, scene_graph, meshcat)"
   ]
  },
  {
   "cell_type": "code",
   "execution_count": 27,
   "id": "a91856a9",
   "metadata": {},
   "outputs": [],
   "source": [
    "diagram = builder.Build() \n",
    "diagram_context = diagram.CreateDefaultContext()"
   ]
  },
  {
   "cell_type": "code",
   "execution_count": 28,
   "id": "61f3f420",
   "metadata": {},
   "outputs": [],
   "source": [
    "pos_white_block = [0.0, 0.0, 1.5]\n",
    "R_matrix_white_block = RotationMatrix.MakeXRotation(np.pi/2.0)\n",
    "X_white_block = RigidTransform(R_matrix_white_block, pos_white_block)"
   ]
  },
  {
   "cell_type": "code",
   "execution_count": 29,
   "id": "bc430819",
   "metadata": {},
   "outputs": [],
   "source": [
    "plant.SetFreeBodyPose(\n",
    "    plant.GetMyContextFromRoot(diagram_context),\n",
    "    plant.GetBodyByName('body', block_as_model), \n",
    "    X_white_block\n",
    ")"
   ]
  },
  {
   "cell_type": "code",
   "execution_count": 30,
   "id": "16c4948e",
   "metadata": {},
   "outputs": [],
   "source": [
    "from pydrake.all import SpatialVelocity\n",
    "\n",
    "plant.SetFreeBodySpatialVelocity(\n",
    "    plant.GetBodyByName('body', block_as_model),\n",
    "    SpatialVelocity(np.array([0.0, 0.0, 0.0]), np.array([0.0, 0.0, 0.0])), \n",
    "    plant.GetMyContextFromRoot(diagram_context)\n",
    ")\n"
   ]
  },
  {
   "cell_type": "code",
   "execution_count": 31,
   "id": "ad00346f",
   "metadata": {},
   "outputs": [
    {
     "name": "stderr",
     "output_type": "stream",
     "text": [
      "WARNING:drake:Meshcat: Failed to load texture. /home/dema/PycharmProjects/robot_manipulator/from_tutorial/model/SliderBlockv3.obj references c7870aad-3263-497b-8697-9d26285c5211.mtl, but Meshcat could not open filename \"/home/dema/PycharmProjects/robot_manipulator/from_tutorial/model/c7870aad-3263-497b-8697-9d26285c5211.mtl\"\n",
      "WARNING:drake:Meshcat does not display HalfSpace geometry (yet).\n"
     ]
    }
   ],
   "source": [
    "diagram.ForcedPublish(diagram_context)"
   ]
  },
  {
   "cell_type": "code",
   "execution_count": 32,
   "id": "b75a0717",
   "metadata": {},
   "outputs": [],
   "source": [
    "from pydrake.all import Simulator\n",
    "\n",
    "# Set up simulation\n",
    "simulator = Simulator(diagram, diagram_context)\n",
    "simulator.set_target_realtime_rate(1.0)\n",
    "simulator.set_publish_every_time_step(False)"
   ]
  },
  {
   "cell_type": "code",
   "execution_count": 33,
   "id": "3d748b1f",
   "metadata": {},
   "outputs": [
    {
     "name": "stderr",
     "output_type": "stream",
     "text": [
      "WARNING:drake:Meshcat: Failed to load texture. /home/dema/PycharmProjects/robot_manipulator/from_tutorial/model/SliderBlockv3.obj references c7870aad-3263-497b-8697-9d26285c5211.mtl, but Meshcat could not open filename \"/home/dema/PycharmProjects/robot_manipulator/from_tutorial/model/c7870aad-3263-497b-8697-9d26285c5211.mtl\"\n",
      "WARNING:drake:Meshcat does not display HalfSpace geometry (yet).\n"
     ]
    },
    {
     "data": {
      "text/plain": [
       "<pydrake.systems.analysis.SimulatorStatus at 0x7fa974797030>"
      ]
     },
     "execution_count": 33,
     "metadata": {},
     "output_type": "execute_result"
    }
   ],
   "source": [
    "# RUN\n",
    "simulator.Initialize()\n",
    "simulator.AdvanceTo(5.0)"
   ]
  },
  {
   "cell_type": "code",
   "execution_count": 16,
   "id": "1e6f43eb",
   "metadata": {},
   "outputs": [
    {
     "name": "stdout",
     "output_type": "stream",
     "text": [
      "(13, 1)\n"
     ]
    }
   ],
   "source": [
    "state_log = state_logger.FindLog(diagram_context)\n",
    "log_times = state_log.sample_times()\n",
    "state_data = state_log.data()\n"
   ]
  },
  {
   "cell_type": "code",
   "execution_count": 17,
   "id": "76e235e3",
   "metadata": {},
   "outputs": [
    {
     "name": "stdout",
     "output_type": "stream",
     "text": [
      "(13, 1) \n",
      " [[0.70710678]\n",
      " [0.70710678]\n",
      " [0.        ]\n",
      " [0.        ]\n",
      " [0.        ]\n",
      " [0.        ]\n",
      " [1.5       ]\n",
      " [0.        ]\n",
      " [0.        ]\n",
      " [0.        ]\n",
      " [0.        ]\n",
      " [0.        ]\n",
      " [0.        ]]\n"
     ]
    }
   ],
   "source": [
    "print(state_data.shape, '\\n', state_data)"
   ]
  },
  {
   "cell_type": "code",
   "execution_count": 21,
   "id": "b8bfa457",
   "metadata": {},
   "outputs": [
    {
     "name": "stdout",
     "output_type": "stream",
     "text": [
      "(1,) \n",
      " [0.]\n"
     ]
    }
   ],
   "source": [
    "print(log_times.shape, '\\n', log_times)"
   ]
  }
 ],
 "metadata": {
  "kernelspec": {
   "display_name": "robot_manipulator",
   "language": "python",
   "name": "robot_manipulator"
  },
  "language_info": {
   "codemirror_mode": {
    "name": "ipython",
    "version": 3
   },
   "file_extension": ".py",
   "mimetype": "text/x-python",
   "name": "python",
   "nbconvert_exporter": "python",
   "pygments_lexer": "ipython3",
   "version": "3.10.6"
  }
 },
 "nbformat": 4,
 "nbformat_minor": 5
}
