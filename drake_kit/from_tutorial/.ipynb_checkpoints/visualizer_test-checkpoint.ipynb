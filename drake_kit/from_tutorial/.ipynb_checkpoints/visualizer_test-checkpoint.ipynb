{
 "cells": [
  {
   "cell_type": "code",
   "execution_count": 1,
   "id": "f8d946b7",
   "metadata": {},
   "outputs": [],
   "source": [
    "import numpy as np\n",
    "import os\n",
    "from pydrake.common import temp_directory, FindResourceOrThrow\n",
    "from pydrake.geometry import (\n",
    "    MeshcatVisualizer, MeshcatVisualizerParams, \n",
    "    Role, StartMeshcat\n",
    ")\n",
    "\n",
    "from pydrake.math import RigidTransform, RollPitchYaw\n",
    "from pydrake.multibody.parsing import Parser\n",
    "from pydrake.multibody.plant import AddMultibodyPlantSceneGraph\n",
    "from pydrake.systems.analysis import Simulator\n",
    "from pydrake.systems.framework import DiagramBuilder\n",
    "from pydrake.visualization import ModelVisualizer\n",
    "\n",
    "from manipulation.scenarios import AddMultibodyTriad, AddPackagePaths"
   ]
  },
  {
   "cell_type": "code",
   "execution_count": 2,
   "id": "e4d18ad2",
   "metadata": {},
   "outputs": [
    {
     "name": "stderr",
     "output_type": "stream",
     "text": [
      "INFO:drake:Meshcat listening for connections at http://localhost:7000\n"
     ]
    }
   ],
   "source": [
    "meshcat = StartMeshcat()"
   ]
  },
  {
   "cell_type": "markdown",
   "id": "83cc78bd",
   "metadata": {},
   "source": [
    "# MODEL VIEWING"
   ]
  },
  {
   "cell_type": "code",
   "execution_count": 3,
   "id": "36edbaec",
   "metadata": {},
   "outputs": [
    {
     "data": {
      "text/plain": [
       "'/home/dema/PycharmProjects/robot_manipulator/lib/python3.10/site-packages/pydrake/common/../lib/../share/drake/manipulation/models/iiwa_description/iiwa7/iiwa7_with_box_collision.sdf'"
      ]
     },
     "execution_count": 3,
     "metadata": {},
     "output_type": "execute_result"
    }
   ],
   "source": [
    "iiwa7_model_url = FindResourceOrThrow(\"drake/manipulation/models/iiwa_description/iiwa7/iiwa7_with_box_collision.sdf\")\n",
    "iiwa7_model_url"
   ]
  },
  {
   "cell_type": "code",
   "execution_count": 4,
   "id": "70908962",
   "metadata": {},
   "outputs": [
    {
     "data": {
      "text/plain": [
       "[ModelInstanceIndex(2)]"
      ]
     },
     "execution_count": 4,
     "metadata": {},
     "output_type": "execute_result"
    }
   ],
   "source": [
    "visualizer = ModelVisualizer(meshcat=meshcat)\n",
    "visualizer.parser().AddModels(file_name=iiwa7_model_url)"
   ]
  },
  {
   "cell_type": "code",
   "execution_count": 5,
   "id": "2b569c75",
   "metadata": {},
   "outputs": [
    {
     "name": "stdout",
     "output_type": "stream",
     "text": [
      "Click 'Stop Running' or press Esc to quit\n"
     ]
    },
    {
     "data": {
      "text/plain": [
       "<RunResult.STOPPED: 2>"
      ]
     },
     "execution_count": 5,
     "metadata": {},
     "output_type": "execute_result"
    }
   ],
   "source": [
    "# When this notebook is run in test mode it needs to stop execution without\n",
    "# user interaction. For interactive model visualization you won't normally\n",
    "# need the 'loop_once' flag.\n",
    "test_mode = True if \"TEST_SRCDIR\" in os.environ else False\n",
    "\n",
    "# Start the interactive visualizer.\n",
    "# Click the \"Stop Running\" button in MeshCat when you're finished.\n",
    "visualizer.Run(loop_once=test_mode)\n",
    "\n"
   ]
  },
  {
   "cell_type": "code",
   "execution_count": 5,
   "id": "6bf34768",
   "metadata": {},
   "outputs": [],
   "source": [
    "schunk_wsg50_model_url = FindResourceOrThrow(\n",
    "    \"drake/manipulation/models/wsg_50_description/sdf/schunk_wsg_50_with_tip.sdf\"\n",
    ")"
   ]
  },
  {
   "cell_type": "code",
   "execution_count": 6,
   "id": "cdb48906",
   "metadata": {},
   "outputs": [
    {
     "data": {
      "text/plain": [
       "'/home/dema/PycharmProjects/robot_manipulator/lib/python3.10/site-packages/pydrake/common/../lib/../share/drake/manipulation/models/wsg_50_description/sdf/schunk_wsg_50_with_tip.sdf'"
      ]
     },
     "execution_count": 6,
     "metadata": {},
     "output_type": "execute_result"
    }
   ],
   "source": [
    "schunk_wsg50_model_url"
   ]
  },
  {
   "cell_type": "code",
   "execution_count": 7,
   "id": "2ff888b1",
   "metadata": {},
   "outputs": [
    {
     "name": "stdout",
     "output_type": "stream",
     "text": [
      "Click 'Stop Running' or press Esc to quit\n"
     ]
    },
    {
     "data": {
      "text/plain": [
       "<RunResult.STOPPED: 2>"
      ]
     },
     "execution_count": 7,
     "metadata": {},
     "output_type": "execute_result"
    }
   ],
   "source": [
    "visualizer = ModelVisualizer(meshcat=meshcat)\n",
    "visualizer.parser().AddModels(file_name=schunk_wsg50_model_url)\n",
    "visualizer.Run(loop_once=False)"
   ]
  },
  {
   "cell_type": "markdown",
   "id": "d299b1d9",
   "metadata": {},
   "source": [
    "# Model DEF sdf"
   ]
  },
  {
   "cell_type": "code",
   "execution_count": 8,
   "id": "0b693732",
   "metadata": {},
   "outputs": [
    {
     "data": {
      "text/plain": [
       "<RunResult.LOOP_ONCE: 1>"
      ]
     },
     "execution_count": 8,
     "metadata": {},
     "output_type": "execute_result"
    }
   ],
   "source": [
    "cylinder_sdf = \"\"\"\n",
    "<?xml version=\"1.0\"?>\n",
    "<sdf version=\"1.7\">\n",
    "    <model name=\"cylinder\">\n",
    "        <pose>0 0 0 0 0 0</pose>\n",
    "        <link name=\"cylinder_link\">\n",
    "            <inertial>\n",
    "                <mass>1.0</mass>\n",
    "                <inertia>\n",
    "                  <ixx>0.005833</ixx>\n",
    "                  <ixy>0.0</ixy>\n",
    "                  <ixz>0.0</ixz>\n",
    "                  <iyy>0.005833</iyy>\n",
    "                  <iyz>0.0</iyz>\n",
    "                  <izz>0.005</izz>\n",
    "                </inertia>\n",
    "            </inertial>\n",
    "\n",
    "            <collision name=\"collision\">\n",
    "                <geometry>\n",
    "                    <cylinder>\n",
    "                        <radius>0.1</radius>\n",
    "                        <length>0.2</length>\n",
    "                    </cylinder>\n",
    "                </geometry>\n",
    "            </collision>\n",
    "\n",
    "            <visual name=\"visual\">\n",
    "                <geometry>\n",
    "                    <cylinder>\n",
    "                        <radius>0.1</radius>\n",
    "                        <length>0.2</length>                    \n",
    "                    </cylinder>\n",
    "                </geometry>\n",
    "                <material>\n",
    "                    <diffuse>1.0 1.0 1.0 1.0</diffuse>\n",
    "                </material>\n",
    "            </visual>\n",
    "        </link>\n",
    "    </model>\n",
    "</sdf>\n",
    "\"\"\"\n",
    "\n",
    "visualizer = ModelVisualizer(meshcat=meshcat)\n",
    "visualizer.parser().AddModelsFromString(cylinder_sdf, 'sdf')\n",
    "visualizer.Run(loop_once=True)"
   ]
  },
  {
   "cell_type": "code",
   "execution_count": 3,
   "id": "329943ee",
   "metadata": {},
   "outputs": [
    {
     "data": {
      "text/plain": [
       "<RunResult.LOOP_ONCE: 1>"
      ]
     },
     "execution_count": 3,
     "metadata": {},
     "output_type": "execute_result"
    }
   ],
   "source": [
    "path = '../robot_models/Planar-v2.sdf'\n",
    "visualizer = ModelVisualizer(meshcat=meshcat)\n",
    "visualizer.parser().AddModelFromFile(path)\n",
    "visualizer.Run(loop_once=True)"
   ]
  },
  {
   "cell_type": "code",
   "execution_count": null,
   "id": "bd4feb7b",
   "metadata": {},
   "outputs": [
    {
     "name": "stdout",
     "output_type": "stream",
     "text": [
      "Click 'Stop Running' or press Esc to quit\n"
     ]
    }
   ],
   "source": [
    "full_2r_directives = '''\n",
    "directives: \n",
    "- add_model: \n",
    "    name: 2R_planar_robot\n",
    "    file: file:///home/dema/PycharmProjects/robot_manipulator/robot_models/Planar-v2.sdf\n",
    "    default_joint_positions: \n",
    "        q1: [0]\n",
    "        q2: [0]\n",
    "\n",
    "- add_model: \n",
    "    name: end_effector\n",
    "    file: file:///home/dema/PycharmProjects/robot_manipulator/lib/python3.10/site-packages/pydrake/common/../lib/../share/drake/manipulation/models/wsg_50_description/sdf/schunk_wsg_50_with_tip.sdf\n",
    "- add_weld: \n",
    "    parent: 2R_planar_robot::l2\n",
    "    child: end_effector::body_frame\n",
    "    X_PC: \n",
    "        translation: [0.5, 0, 0]\n",
    "        rotation: !Rpy {deg: [0, 0, -90]}\n",
    "'''\n",
    "visualizer = ModelVisualizer(meshcat=meshcat)\n",
    "visualizer.parser().AddModelsFromString(full_2r_directives, '.dmd.yaml')\n",
    "visualizer.Run(loop_once=False)\n"
   ]
  },
  {
   "cell_type": "code",
   "execution_count": 11,
   "id": "aebf2226",
   "metadata": {},
   "outputs": [],
   "source": [
    "import urllib.parse\n",
    "\n",
    "def path_to_uri(path):\n",
    "    \"\"\"Convert a local file path to a file URI.\"\"\"\n",
    "    # Use the 'file://' scheme for local file URIs\n",
    "    # Encode the path to handle spaces and other special characters\n",
    "    return urllib.parse.urljoin('file:', urllib.parse.quote(path))"
   ]
  },
  {
   "cell_type": "code",
   "execution_count": 12,
   "id": "de4303c9",
   "metadata": {},
   "outputs": [
    {
     "data": {
      "text/plain": [
       "'file:///robot_models/planar_2R.sdf'"
      ]
     },
     "execution_count": 12,
     "metadata": {},
     "output_type": "execute_result"
    }
   ],
   "source": [
    "path_to_uri('../robot_models/planar_2R.sdf')"
   ]
  },
  {
   "cell_type": "markdown",
   "id": "f45cfda1",
   "metadata": {},
   "source": [
    "# MultiOBJ Scene (robots/objects)"
   ]
  },
  {
   "cell_type": "code",
   "execution_count": 14,
   "id": "8d51f31a",
   "metadata": {},
   "outputs": [],
   "source": [
    "# original code save all in a temp_dir, i'd like to store all: './model'\n",
    "table_top_sdf_file = './model/table_top.sdf'\n",
    "table_top_sdf = \"\"\"\n",
    "<?xml version=\"1.0\"?>\n",
    "<sdf version=\"1.7\">\n",
    "    <model name=\"table_top\">\n",
    "        <link name=\"table_top_link\">\n",
    "            \n",
    "            <visual name=\"visual\">\n",
    "                <pose>0 0 0.445 0 0 0</pose>\n",
    "                <geometry>\n",
    "                    <box>\n",
    "                        <size>0.55 1.1 0.05</size>\n",
    "                    </box>\n",
    "                </geometry>\n",
    "                <material>\n",
    "                    <diffuse>0.9 0.8 0.7 1.0</diffuse>\n",
    "                </material>\n",
    "            </visual>\n",
    "            \n",
    "            <collision name=\"collision\">\n",
    "                <pose>0 0 0.445 0 0 0</pose>\n",
    "                <geometry>\n",
    "                    <box>\n",
    "                        <size>0.55 1.1 0.05</size>\n",
    "                    </box>\n",
    "                </geometry>\n",
    "            </collision>\n",
    "            \n",
    "        </link>\n",
    "        \n",
    "        <frame name=\"table_top_center\">\n",
    "            <pose relative_to=\"table_top_link\">0 0 0.47 0 0 0</pose>\n",
    "        </frame>\n",
    "    </model>\n",
    "</sdf>\n",
    "\"\"\"\n",
    "\n",
    "with open(table_top_sdf_file, 'w') as f:\n",
    "    f.write(table_top_sdf)\n",
    "    \n"
   ]
  },
  {
   "cell_type": "code",
   "execution_count": 16,
   "id": "d977a516",
   "metadata": {},
   "outputs": [
    {
     "ename": "NameError",
     "evalue": "name 'cylinder_sdf' is not defined",
     "output_type": "error",
     "traceback": [
      "\u001b[0;31m---------------------------------------------------------------------------\u001b[0m",
      "\u001b[0;31mNameError\u001b[0m                                 Traceback (most recent call last)",
      "Cell \u001b[0;32mIn[16], line 70\u001b[0m\n\u001b[1;32m     66\u001b[0m     simulator\u001b[38;5;241m.\u001b[39mAdvanceTo(\u001b[38;5;241m5.0\u001b[39m)\n\u001b[1;32m     67\u001b[0m     visualizer\u001b[38;5;241m.\u001b[39mPublishRecording()\n\u001b[0;32m---> 70\u001b[0m \u001b[43mrun_simulation\u001b[49m\u001b[43m(\u001b[49m\u001b[43m)\u001b[49m\n",
      "Cell \u001b[0;32mIn[16], line 63\u001b[0m, in \u001b[0;36mrun_simulation\u001b[0;34m(sim_time_step)\u001b[0m\n\u001b[1;32m     62\u001b[0m \u001b[38;5;28;01mdef\u001b[39;00m \u001b[38;5;21mrun_simulation\u001b[39m(sim_time_step\u001b[38;5;241m=\u001b[39m\u001b[38;5;241m0.0001\u001b[39m): \n\u001b[0;32m---> 63\u001b[0m     diagram, visualizer \u001b[38;5;241m=\u001b[39m \u001b[43mcreate_scene\u001b[49m\u001b[43m(\u001b[49m\u001b[43msim_time_step\u001b[49m\u001b[43m)\u001b[49m\n\u001b[1;32m     64\u001b[0m     simulator \u001b[38;5;241m=\u001b[39m init_simulation(diagram)\n\u001b[1;32m     65\u001b[0m     visualizer\u001b[38;5;241m.\u001b[39mStartRecording()\n",
      "Cell \u001b[0;32mIn[16], line 13\u001b[0m, in \u001b[0;36mcreate_scene\u001b[0;34m(sim_time_step)\u001b[0m\n\u001b[1;32m     11\u001b[0m parser \u001b[38;5;241m=\u001b[39m Parser(plant)\n\u001b[1;32m     12\u001b[0m parser\u001b[38;5;241m.\u001b[39mAddModelFromFile(\u001b[38;5;124m'\u001b[39m\u001b[38;5;124m../robot_models/planar_2R.sdf\u001b[39m\u001b[38;5;124m'\u001b[39m)\n\u001b[0;32m---> 13\u001b[0m parser\u001b[38;5;241m.\u001b[39mAddModelsFromString(\u001b[43mcylinder_sdf\u001b[49m, \u001b[38;5;124m'\u001b[39m\u001b[38;5;124msdf\u001b[39m\u001b[38;5;124m'\u001b[39m)\n\u001b[1;32m     14\u001b[0m parser\u001b[38;5;241m.\u001b[39mAddModels(table_top_sdf_file)\n\u001b[1;32m     17\u001b[0m table_frame \u001b[38;5;241m=\u001b[39m plant\u001b[38;5;241m.\u001b[39mGetFrameByName(\u001b[38;5;124m'\u001b[39m\u001b[38;5;124mtable_top_center\u001b[39m\u001b[38;5;124m'\u001b[39m)\n",
      "\u001b[0;31mNameError\u001b[0m: name 'cylinder_sdf' is not defined"
     ]
    }
   ],
   "source": [
    "cracker_box = FindResourceOrThrow('drake/manipulation/models/ycb/sdf/003_cracker_box.sdf')\n",
    "\n",
    "def create_scene(sim_time_step=0.0001): \n",
    "    meshcat.Delete()\n",
    "    meshcat.DeleteAddedControls()\n",
    "    \n",
    "    builder = DiagramBuilder()\n",
    "    plant, scene_graph = AddMultibodyPlantSceneGraph(\n",
    "        builder, time_step=sim_time_step\n",
    "    )\n",
    "    parser = Parser(plant)\n",
    "    parser.AddModelFromFile('../robot_models/planar_2R.sdf')\n",
    "    parser.AddModelsFromString(cylinder_sdf, 'sdf')\n",
    "    parser.AddModels(table_top_sdf_file)\n",
    "    \n",
    "    \n",
    "    table_frame = plant.GetFrameByName('table_top_center')\n",
    "    plant.WeldFrames(plant.world_frame(), table_frame)\n",
    "    \n",
    "    \n",
    "    plant.Finalize()\n",
    "    plant_context = plant.CreateDefaultContext()\n",
    "    \n",
    "    # connect actuation port\n",
    "    torque_port = plant.get_actuation_input_port()\n",
    "    \n",
    "    # set initial pose for all the free body\n",
    "    # table, cylinder, arm\n",
    "    cylinder = plant.GetBodyByName('cylinder_link')\n",
    "    X_WorldTable = table_frame.CalcPoseInWorld(plant_context)\n",
    "    X_TableCylinder = RigidTransform(\n",
    "        RollPitchYaw(np.asarray([90, 0, 0]) * np.pi/180), \n",
    "        p=[0, 0, 0.5]\n",
    "    )\n",
    "    X_WorldCylinder = X_WorldTable.multiply(X_TableCylinder)\n",
    "    plant.SetDefaultFreeBodyPose(cylinder, X_WorldCylinder)\n",
    "    \n",
    "    Manipulator = plant.GetBodyByName('l1')\n",
    "    X_TableManipulator= RigidTransform(\n",
    "        RollPitchYaw(np.asarray([45, 30, 0]) * np.pi / 180),\n",
    "        p=[0, 0, 0.1]\n",
    "    )\n",
    "    X_WorldManipulator = X_WorldTable.multiply(X_TableManipulator)\n",
    "    plant.SetDefaultFreeBodyPose(Manipulator, X_WorldManipulator)\n",
    "    \n",
    "    \n",
    "    # visualizer \n",
    "    visualizer = MeshcatVisualizer.AddToBuilder(\n",
    "        builder, scene_graph, meshcat, \n",
    "        MeshcatVisualizerParams(role=Role.kPerception, prefix=\"visual\")\n",
    "    )\n",
    "    diagram = builder.Build()\n",
    "    return diagram, visualizer \n",
    "\n",
    "\n",
    "def init_simulation(diagram): \n",
    "    simulator = Simulator(diagram)\n",
    "    simulator.Initialize()\n",
    "    simulator.set_target_realtime_rate(1.)\n",
    "    return simulator\n",
    "\n",
    "def run_simulation(sim_time_step=0.0001): \n",
    "    diagram, visualizer = create_scene(sim_time_step)\n",
    "    simulator = init_simulation(diagram)\n",
    "    visualizer.StartRecording()\n",
    "    simulator.AdvanceTo(5.0)\n",
    "    visualizer.PublishRecording()\n",
    "    \n",
    "\n",
    "run_simulation()"
   ]
  },
  {
   "cell_type": "code",
   "execution_count": 58,
   "id": "e42f5bff",
   "metadata": {},
   "outputs": [],
   "source": [
    "builder = DiagramBuilder()\n",
    "plant, scene_graph = AddMultibodyPlantSceneGraph(\n",
    "    builder, time_step=0.1\n",
    ")\n",
    "parser = Parser(plant)\n",
    "parser.AddModelFromFile('../robot_models/planar_2R.sdf')\n",
    "plant.Finalize()\n",
    "torque_port = plant.get_actuation_input_port()\n"
   ]
  }
 ],
 "metadata": {
  "kernelspec": {
   "display_name": "robot_manipulator",
   "language": "python",
   "name": "robot_manipulator"
  },
  "language_info": {
   "codemirror_mode": {
    "name": "ipython",
    "version": 3
   },
   "file_extension": ".py",
   "mimetype": "text/x-python",
   "name": "python",
   "nbconvert_exporter": "python",
   "pygments_lexer": "ipython3",
   "version": "3.10.6"
  }
 },
 "nbformat": 4,
 "nbformat_minor": 5
}
