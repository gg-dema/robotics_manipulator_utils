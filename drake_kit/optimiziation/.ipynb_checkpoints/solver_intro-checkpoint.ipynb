{
 "cells": [
  {
   "cell_type": "markdown",
   "id": "7a4e7468",
   "metadata": {},
   "source": [
    "part of a mathematical optimization problem: \n",
    "    - decision variable (real)          x\n",
    "    - cost function (real)              f(x)\n",
    "    - contraint set                     S\n",
    "    - optima value that minimize f(x)   x*\n",
    "\n",
    "Solving by programming: \n",
    "    - linear programming, \n",
    "    - quadratic programming, \n",
    "    - mixed-iteger programming, \n",
    "    ...\n",
    "   "
   ]
  },
  {
   "cell_type": "code",
   "execution_count": 8,
   "id": "cad25eb5",
   "metadata": {},
   "outputs": [],
   "source": [
    "from pydrake.solvers import MathematicalProgram\n",
    "import numpy as np\n",
    "import matplotlib.pyplot as plt \n",
    "\n",
    "program = MathematicalProgram() # empty"
   ]
  },
  {
   "cell_type": "code",
   "execution_count": 9,
   "id": "66ac5168",
   "metadata": {},
   "outputs": [],
   "source": [
    "numb_var = 2\n",
    "x_vect = program.NewContinuousVariables(numb_var)"
   ]
  },
  {
   "cell_type": "code",
   "execution_count": 11,
   "id": "cc6fa720",
   "metadata": {},
   "outputs": [
    {
     "data": {
      "text/plain": [
       "1"
      ]
     },
     "execution_count": 11,
     "metadata": {},
     "output_type": "execute_result"
    }
   ],
   "source": [
    "# the result is a simbolic expression \n",
    "# can use np.sin etc but raise a warning, see if eval will set all\n",
    "1 + (x_vect[0]*2) + 3*x_vect[0] + 4*x_vect[1] "
   ]
  },
  {
   "cell_type": "code",
   "execution_count": 12,
   "id": "cd3c3b0c",
   "metadata": {},
   "outputs": [
    {
     "data": {
      "text/plain": [
       "<Expression \"(2 * output(0) + pow(output(1), 3))\">"
      ]
     },
     "execution_count": 12,
     "metadata": {},
     "output_type": "execute_result"
    }
   ],
   "source": [
    "y = program.NewContinuousVariables(numb_var, 'output')\n",
    "y[0] + y[0] + y[1]*y[1]*y[1]"
   ]
  },
  {
   "cell_type": "code",
   "execution_count": 13,
   "id": "b7cee360",
   "metadata": {},
   "outputs": [
    {
     "data": {
      "text/plain": [
       "array([[Variable('A(0,0)', Continuous), Variable('A(0,1)', Continuous)],\n",
       "       [Variable('A(1,0)', Continuous), Variable('A(1,1)', Continuous)],\n",
       "       [Variable('A(2,0)', Continuous), Variable('A(2,1)', Continuous)]],\n",
       "      dtype=object)"
      ]
     },
     "execution_count": 13,
     "metadata": {},
     "output_type": "execute_result"
    }
   ],
   "source": [
    "#Matrix: \n",
    "var_matrix = program.NewContinuousVariables(3, 2, \"A\")\n",
    "var_matrix"
   ]
  },
  {
   "cell_type": "code",
   "execution_count": 16,
   "id": "4f6ef68b",
   "metadata": {},
   "outputs": [
    {
     "data": {
      "text/plain": [
       "<pydrake.solvers.Binding[Constraint] at 0x7fd6f4a12f70>"
      ]
     },
     "execution_count": 16,
     "metadata": {},
     "output_type": "execute_result"
    }
   ],
   "source": [
    "# Constraints\n",
    "program.AddConstraint(x_vect[0] * x_vect[1] == 1)\n",
    "program.AddConstraint(x_vect[0] - x_vect[1] <= 0)"
   ]
  },
  {
   "cell_type": "code",
   "execution_count": 17,
   "id": "c9982a70",
   "metadata": {},
   "outputs": [],
   "source": [
    "# generic rule: tot const funct = sum of several cost funct\n",
    "program.AddCost(x_vect[0]**2 + 3)       # f_1(x)\n",
    "program.AddCost(x_vect[1] + x_vect[0])  # f_2(x)\n",
    "\n",
    "# total cost_funct  = f_1(x) + f_2(x)\n",
    "from pydrake.solvers import Solve\n",
    "result = Solve(program)"
   ]
  },
  {
   "cell_type": "code",
   "execution_count": 19,
   "id": "3e7f8939",
   "metadata": {},
   "outputs": [
    {
     "data": {
      "text/plain": [
       "('solved: ', True, 'result', array([-1., -1.]))"
      ]
     },
     "execution_count": 19,
     "metadata": {},
     "output_type": "execute_result"
    }
   ],
   "source": [
    "'solved: ', result.is_success(), 'result', result.GetSolution(x_vect)"
   ]
  },
  {
   "cell_type": "markdown",
   "id": "d80da3f3",
   "metadata": {},
   "source": [
    "# CALLBACK"
   ]
  },
  {
   "cell_type": "code",
   "execution_count": 30,
   "id": "f4ef47af",
   "metadata": {},
   "outputs": [
    {
     "data": {
      "image/png": "[encoded data removed]",
      "text/plain": [
       "<Figure size 640x480 with 1 Axes>"
      ]
     },
     "metadata": {},
     "output_type": "display_data"
    }
   ],
   "source": [
    "fig = plt.figure()\n",
    "curve_x = np.linspace(1, 10, 100)\n",
    "ax = plt.gca()\n",
    "ax.plot(curve_x, 9.0/curve_x)\n",
    "ax.plot(-curve_x, -9.0/curve_x)\n",
    "ax.plot(0, 0, 'o')\n",
    "\n",
    "x_init = [4., 5.]\n",
    "ax.plot(x_init[0], x_init[1], 'X', color='blue')\n",
    "\n",
    "def update(x): \n",
    "    ax.plot(x[0], x[1], 'x', color='red')\n",
    "    \n",
    "program = MathematicalProgram()\n",
    "x = program.NewContinuousVariables(2)\n",
    "program.AddConstraint(x[0] * x[1] == 9)\n",
    "program.AddCost(x[0]**2 + x[1]**2)\n",
    "program.AddVisualizationCallback(update, x)\n",
    "result = Solve(program, x_init)"
   ]
  }
 ],
 "metadata": {
  "kernelspec": {
   "display_name": "robot_manipulator",
   "language": "python",
   "name": "robot_manipulator"
  },
  "language_info": {
   "codemirror_mode": {
    "name": "ipython",
    "version": 3
   },
   "file_extension": ".py",
   "mimetype": "text/x-python",
   "name": "python",
   "nbconvert_exporter": "python",
   "pygments_lexer": "ipython3",
   "version": "3.10.6"
  }
 },
 "nbformat": 4,
 "nbformat_minor": 5
}
