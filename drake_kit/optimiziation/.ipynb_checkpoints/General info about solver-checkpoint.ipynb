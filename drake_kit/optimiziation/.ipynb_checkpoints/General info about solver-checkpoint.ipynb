{
 "cells": [
  {
   "cell_type": "code",
   "execution_count": 1,
   "id": "82ba6ecb",
   "metadata": {},
   "outputs": [],
   "source": [
    "from pydrake.solvers import MathematicalProgram, Solve, SolverOptions\n",
    "from pydrake.solvers import IpoptSolver\n",
    "import numpy as np"
   ]
  },
  {
   "cell_type": "markdown",
   "id": "766c8ee3",
   "metadata": {},
   "source": [
    "# SOLVER OPT"
   ]
  },
  {
   "cell_type": "markdown",
   "id": "9684759b",
   "metadata": {},
   "source": [
    "### first way\n",
    "setting the solver option inside the program. \n",
    "PS: this is valid only if i use a particular solver (the same specify in program.SetSolverOption"
   ]
  },
  {
   "cell_type": "code",
   "execution_count": 4,
   "id": "7e3677de",
   "metadata": {},
   "outputs": [
    {
     "name": "stderr",
     "output_type": "stream",
     "text": [
      "WARNING:drake:IPOPT terminated after exceeding the maximum iteration limit.  Hint: Remember that IPOPT is an interior-point method and performs badly if any variables are unbounded.\n"
     ]
    }
   ],
   "source": [
    "# with few iteration the program cannot solve nothing \n",
    "\n",
    "program = MathematicalProgram()\n",
    "x = program.NewContinuousVariables(2)\n",
    "program.AddCost(x[0]**2 + x[1]**2)\n",
    "program.AddConstraint(x[0] + x[1] == 1)\n",
    "\n",
    "\n",
    "\n",
    "program.SetSolverOption(IpoptSolver().solver_id(), 'max_iter', 1)\n",
    "solver = IpoptSolver()\n",
    "result = solver.Solve(program, np.array([10, 1]), None)"
   ]
  },
  {
   "cell_type": "markdown",
   "id": "da0eb27f",
   "metadata": {},
   "source": [
    "### Second way:\n",
    "define a solver options and pass this to the solve method\n",
    "\n",
    "\n",
    "<b>ADVANTAGE</b>: this is indipendent from the program setting"
   ]
  },
  {
   "cell_type": "code",
   "execution_count": 5,
   "id": "8474d4cc",
   "metadata": {},
   "outputs": [
    {
     "data": {
      "text/plain": [
       "<pydrake.solvers.Binding[Constraint] at 0x7fde780769b0>"
      ]
     },
     "execution_count": 5,
     "metadata": {},
     "output_type": "execute_result"
    }
   ],
   "source": [
    "program = MathematicalProgram()\n",
    "x = program.NewContinuousVariables(2)\n",
    "program.AddCost(x[0]**2 + x[1] ** 2)\n",
    "program.AddConstraint(x[0] + x[1] == 1)"
   ]
  },
  {
   "cell_type": "code",
   "execution_count": 6,
   "id": "50a86851",
   "metadata": {},
   "outputs": [
    {
     "name": "stderr",
     "output_type": "stream",
     "text": [
      "WARNING:drake:IPOPT terminated after exceeding the maximum iteration limit.  Hint: Remember that IPOPT is an interior-point method and performs badly if any variables are unbounded.\n"
     ]
    }
   ],
   "source": [
    "solver_opt = SolverOptions()\n",
    "solver_opt.SetOption(IpoptSolver().solver_id(), 'max_iter', 1)\n",
    "solver = IpoptSolver()\n",
    "\n",
    "# using max numb of iter\n",
    "result = solver.Solve(program, np.array([10, 1]), solver_opt)\n",
    "\n",
    "result = solver.Solve(program, np.array([10, 1]), None)"
   ]
  },
  {
   "cell_type": "markdown",
   "id": "3909950f",
   "metadata": {},
   "source": [
    "# Update costs and constraints\n",
    "\n",
    "<b>Control setting</b> ---> solve a new problem at each step :\n",
    "       update cost funct, constraint etc"
   ]
  },
  {
   "cell_type": "code",
   "execution_count": 8,
   "id": "d86a4ca2",
   "metadata": {},
   "outputs": [
    {
     "data": {
      "text/plain": [
       "(array([-1., -1.]), -3.0)"
      ]
     },
     "execution_count": 8,
     "metadata": {},
     "output_type": "execute_result"
    }
   ],
   "source": [
    "program = MathematicalProgram()\n",
    "x = program.NewContinuousVariables(2)\n",
    "# any linear cost : (x.t a) + b\n",
    "cost1 = program.AddLinearCost(2*x[0] + 3*x[1] + 2)\n",
    "\n",
    "program.AddBoundingBoxConstraint(-1, 1, x)\n",
    "result = Solve(program)\n",
    "result.GetSolution(x), result.get_optimal_cost()"
   ]
  },
  {
   "cell_type": "code",
   "execution_count": null,
   "id": "642c7178",
   "metadata": {
    "collapsed": true
   },
   "outputs": [],
   "source": []
  }
 ],
 "metadata": {
  "kernelspec": {
   "display_name": "robot_manipulator",
   "language": "python",
   "name": "robot_manipulator"
  },
  "language_info": {
   "codemirror_mode": {
    "name": "ipython",
    "version": 3
   },
   "file_extension": ".py",
   "mimetype": "text/x-python",
   "name": "python",
   "nbconvert_exporter": "python",
   "pygments_lexer": "ipython3",
   "version": "3.10.6"
  }
 },
 "nbformat": 4,
 "nbformat_minor": 5
}
