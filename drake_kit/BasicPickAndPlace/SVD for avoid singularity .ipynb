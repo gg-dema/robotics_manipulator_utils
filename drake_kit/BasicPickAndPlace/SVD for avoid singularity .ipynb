{
 "cells": [
  {
   "cell_type": "code",
   "execution_count": 1,
   "id": "1dca1e3a",
   "metadata": {},
   "outputs": [],
   "source": [
    "import numpy as np\n",
    "from IPython.display import clear_output, display\n",
    "\n",
    "from pydrake.all import (\n",
    "    AbstractValue, AddMultibodyPlantSceneGraph, \n",
    "    DiagramBuilder, JacobianWrtVariable, JointSliders, \n",
    "    LeafSystem, MeshcatVisualizer, Parser, RigidTransform, \n",
    "    RollPitchYaw, StartMeshcat\n",
    ")\n",
    "\n",
    "from manipulation import FindResource, running_as_notebook\n",
    "from manipulation.scenarios import AddPackagePaths"
   ]
  },
  {
   "cell_type": "code",
   "execution_count": 2,
   "id": "33362566",
   "metadata": {},
   "outputs": [
    {
     "name": "stderr",
     "output_type": "stream",
     "text": [
      "INFO:drake:Meshcat listening for connections at http://localhost:7000\n"
     ]
    }
   ],
   "source": [
    "meshcat = StartMeshcat()"
   ]
  },
  {
   "cell_type": "code",
   "execution_count": null,
   "id": "8fbd7613",
   "metadata": {},
   "outputs": [
    {
     "name": "stdout",
     "output_type": "stream",
     "text": [
      "J_G: \n",
      "[[  0.0   1.0   0.0  -0.2   0.7   0.5   0.8   0.0   0.0]\n",
      " [  0.0   0.0  -0.1  -1.0  -0.2   0.8  -0.4   0.0   0.0]\n",
      " [  1.0   0.0   1.0  -0.1   0.7  -0.3   0.4   0.0   0.0]\n",
      " [  0.2   0.0   0.1  -0.3   0.0   0.0  -0.0   0.0   0.0]\n",
      " [  0.4  -0.7   0.4   0.0   0.0  -0.1  -0.0   0.0   0.0]\n",
      " [  0.0  -0.2   0.0   0.4  -0.0  -0.1   0.0   0.0   0.0]]\n",
      "smallest singular value(J_G) : 0.027012349630897308\n"
     ]
    }
   ],
   "source": [
    "class PrintJacobian(LeafSystem): \n",
    "    \n",
    "    def __init__(self, plant, frame): \n",
    "        LeafSystem.__init__(self)\n",
    "        self._plant = plant\n",
    "        self._plant_context = plant.CreateDefaultContext()\n",
    "        self._frame = frame\n",
    "        self.DeclareVectorInputPort('state', plant.num_multibody_states())\n",
    "        self.DeclareForcedPublishEvent(self.Publish)\n",
    "        \n",
    "    def Publish(self, context): \n",
    "        state = self.get_input_port().Eval(context)\n",
    "        self._plant.SetPositionsAndVelocities(self._plant_context, state)\n",
    "        W = self._plant.world_frame()\n",
    "        J_G = self._plant.CalcJacobianSpatialVelocity(\n",
    "            self._plant_context, \n",
    "            JacobianWrtVariable.kQDot, \n",
    "            self._frame, \n",
    "            [0, 0, 0], \n",
    "            W, \n",
    "            W\n",
    "        )\n",
    "        \n",
    "        print(\"J_G: \")\n",
    "        print(np.array2string(J_G, formatter={\n",
    "            'float': lambda x: \"{:5.1f}\".format(x)\n",
    "        }))\n",
    "        print(\n",
    "            f\"smallest singular value(J_G) : {np.min(np.linalg.svd(J_G, compute_uv=False))}\"\n",
    "        )\n",
    "        clear_output(wait=True)\n",
    "    \n",
    "def jacobian_example(): \n",
    "    builder = DiagramBuilder()\n",
    "        \n",
    "    plant, scene_graph = AddMultibodyPlantSceneGraph(builder, time_step=0)\n",
    "    parser = Parser(plant)\n",
    "    AddPackagePaths(parser)\n",
    "    parser.AddAllModelsFromFile(\n",
    "        FindResource(\"models/iiwa_and_wsg.dmd.yaml\")\n",
    "    )\n",
    "    plant.Finalize()\n",
    "        \n",
    "    meshcat.Delete()\n",
    "    visualizer = MeshcatVisualizer.AddToBuilder(\n",
    "        builder, scene_graph.get_query_output_port(), meshcat\n",
    "    )\n",
    "      \n",
    "    G = plant.GetBodyByName(\"body\").body_frame()\n",
    "    print_jacobian = builder.AddSystem(PrintJacobian(plant, G))\n",
    "    builder.Connect(plant.get_state_output_port(), \n",
    "                  print_jacobian.get_input_port())\n",
    "        \n",
    "    default_interactive_timeout = None if running_as_notebook else 1.0\n",
    "    sliders = builder.AddSystem(JointSliders(meshcat, plant))\n",
    "    diagram = builder.Build()\n",
    "    sliders.Run(diagram, default_interactive_timeout)\n",
    "    meshcat.DeleteAddedControls()\n",
    "\n",
    "meshcat.DeleteAddedControls()\n",
    "jacobian_example()"
   ]
  }
 ],
 "metadata": {
  "kernelspec": {
   "display_name": "robot_manipulator",
   "language": "python",
   "name": "robot_manipulator"
  },
  "language_info": {
   "codemirror_mode": {
    "name": "ipython",
    "version": 3
   },
   "file_extension": ".py",
   "mimetype": "text/x-python",
   "name": "python",
   "nbconvert_exporter": "python",
   "pygments_lexer": "ipython3",
   "version": "3.10.6"
  }
 },
 "nbformat": 4,
 "nbformat_minor": 5
}
