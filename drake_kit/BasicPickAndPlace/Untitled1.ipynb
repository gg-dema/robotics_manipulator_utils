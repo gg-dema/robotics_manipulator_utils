{
 "cells": [
  {
   "cell_type": "code",
   "execution_count": 1,
   "id": "df178764",
   "metadata": {},
   "outputs": [],
   "source": [
    "import numpy as np\n",
    "from pydrake.all import (DiagramBuilder, Integrator, JacobianWrtVariable,\n",
    "                         LeafSystem, MeshcatVisualizer, Simulator,\n",
    "                         StartMeshcat)\n",
    "\n",
    "from manipulation import FindResource, running_as_notebook\n",
    "from manipulation.scenarios import MakeManipulationStation\n"
   ]
  },
  {
   "cell_type": "code",
   "execution_count": 2,
   "id": "5d63dae9",
   "metadata": {},
   "outputs": [
    {
     "name": "stderr",
     "output_type": "stream",
     "text": [
      "INFO:drake:Meshcat listening for connections at http://localhost:7001\n"
     ]
    }
   ],
   "source": [
    "meshcat = StartMeshcat()"
   ]
  },
  {
   "cell_type": "code",
   "execution_count": 3,
   "id": "c7c72bf3",
   "metadata": {},
   "outputs": [],
   "source": [
    "class PINV_Controller(LeafSystem): \n",
    "    \n",
    "    def __init__(self, plant):\n",
    "        \n",
    "        LeafSystem.__init__(self)\n",
    "        self._plant = plant\n",
    "        self._plant_context = plant.CreateDefaultContext()\n",
    "        self._iiwa = plant.GetModelInstanceByName('iiwa')\n",
    "        self._G = plant.GetBodyByName('body').body_frame()\n",
    "        self._W = plant.world_frame()\n",
    "        \n",
    "        # question: why we provide a velocity in output?\n",
    "        self.DeclareVectorInputPort('position', 7)\n",
    "        #                                           function to calc output\n",
    "        self.DeclareVectorOutputPort('velocity', 7, self.CalcOutput)\n",
    "        \n",
    "        \n",
    "    def CalcOutput(self, context, output): \n",
    "        q = self.get_input_port().Eval(context)\n",
    "        self._plant.SetPositions(self._plant_context, self._iiwa, q)\n",
    "        \n",
    "        Jac_G = self._plant.CalcJacobianSpatialVelocity(\n",
    "            self._plant_context,\n",
    "            JacobianWrtVariable.kQDot, \n",
    "            self._G, \n",
    "            [0, 0, 0], # pos vector origin\n",
    "            self._W,\n",
    "            self._W\n",
    "        )\n",
    "        Jac_G = Jac_G[:, 0:7] # remove gripper col\n",
    "        \n",
    "        \n",
    "        # questo dovrebbe essere l'errore per raggiungere\n",
    "        # una particolare posizione : mantenendolo costante otteniamo \n",
    "        # un movimento costante\n",
    "         \n",
    "        Vel_G_desired = np.array([0, # ROTATION VEL \n",
    "                                 -1,\n",
    "                                  0, \n",
    "                            #------------------------\n",
    "                                  0,  #TRANSLATION\n",
    "                                 -0.05, \n",
    "                                 -0.01])\n",
    "        \n",
    "        #q_dot_required = J^-1 * (error) = J^-1 * vel_desired_To_apply\n",
    "        \n",
    "        #main limitation: non invertible jac ---> crash\n",
    "        v = np.linalg.pinv(Jac_G).dot(Vel_G_desired)\n",
    "        output.SetFromVector(v)"
   ]
  },
  {
   "cell_type": "code",
   "execution_count": 5,
   "id": "a0704506",
   "metadata": {},
   "outputs": [],
   "source": [
    "def jac_controller_example(): \n",
    "    \n",
    "    builder = DiagramBuilder()\n",
    "    station = builder.AddSystem(\n",
    "        MakeManipulationStation(\n",
    "            filename=FindResource('models/iiwa_and_wsg.dmd.yaml')            \n",
    "        )\n",
    "    )\n",
    "    plant = station.GetSubsystemByName('plant')\n",
    "    \n",
    "    controller = builder.AddSystem(PINV_Controller(plant))\n",
    "    integrator = builder.AddSystem(Integrator(7))\n",
    "    \n",
    "    \n",
    "    builder.Connect(controller.get_output_port(), integrator.get_input_port())\n",
    "    # why the input is the position? \n",
    "    builder.Connect(integrator.get_output_port(), station.GetInputPort(\"iiwa_position\"))\n",
    "    builder.Connect(station.GetOutputPort(\"iiwa_position_measured\"), controller.get_input_port())\n",
    "    \n",
    "    meshcat.Delete()\n",
    "    visualizer = MeshcatVisualizer.AddToBuilder(\n",
    "        builder, station.GetOutputPort('query_object'), meshcat\n",
    "    )\n",
    "    \n",
    "    diagram = builder.Build()\n",
    "    simulator = Simulator(diagram)\n",
    "    context = simulator.get_mutable_context()\n",
    "    station_context = station.GetMyContextFromRoot(context)\n",
    "    \n",
    "    \n",
    "    station.GetInputPort('iiwa_feedforward_torque').FixValue(station_context, np.zeros([7, 1]))\n",
    "    station.GetInputPort('wsg_position').FixValue(station_context, [0.1])\n",
    "    \n",
    "    integrator.set_integral_value(\n",
    "        integrator.GetMyContextFromRoot(context), \n",
    "        plant.GetPositions(plant.GetMyContextFromRoot(context), \n",
    "                          plant.GetModelInstanceByName('iiwa'))\n",
    "    )\n",
    "    \n",
    "    visualizer.StartRecording(False)\n",
    "    simulator.AdvanceTo(5.0)\n",
    "    visualizer.PublishRecording()\n",
    "    \n",
    "\n",
    "jac_controller_example()"
   ]
  }
 ],
 "metadata": {
  "kernelspec": {
   "display_name": "robot_manipulator",
   "language": "python",
   "name": "robot_manipulator"
  },
  "language_info": {
   "codemirror_mode": {
    "name": "ipython",
    "version": 3
   },
   "file_extension": ".py",
   "mimetype": "text/x-python",
   "name": "python",
   "nbconvert_exporter": "python",
   "pygments_lexer": "ipython3",
   "version": "3.10.6"
  }
 },
 "nbformat": 4,
 "nbformat_minor": 5
}
