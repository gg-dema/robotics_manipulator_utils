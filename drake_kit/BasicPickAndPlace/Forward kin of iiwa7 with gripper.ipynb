{
 "cells": [
  {
   "cell_type": "code",
   "execution_count": 1,
   "id": "7cbf6535",
   "metadata": {},
   "outputs": [],
   "source": [
    "import numpy as np\n",
    "from IPython.display import clear_output, display\n",
    "from pydrake.all import (AbstractValue,\n",
    "                         AddMultibodyPlantSceneGraph,\n",
    "                         DiagramBuilder,\n",
    "                         JointSliders,\n",
    "                         LeafSystem,\n",
    "                         MeshcatVisualizer, \n",
    "                         Parser,\n",
    "                         RigidTransform,\n",
    "                         RollPitchYaw, \n",
    "                         StartMeshcat)\n",
    "\n",
    "from manipulation import FindResource, running_as_notebook\n",
    "from manipulation.scenarios import AddMultibodyTriad, AddPackagePaths\n"
   ]
  },
  {
   "cell_type": "code",
   "execution_count": 2,
   "id": "148283b4",
   "metadata": {},
   "outputs": [
    {
     "name": "stderr",
     "output_type": "stream",
     "text": [
      "INFO:drake:Meshcat listening for connections at http://localhost:7002\n"
     ]
    }
   ],
   "source": [
    "meshcat = StartMeshcat()"
   ]
  },
  {
   "cell_type": "code",
   "execution_count": 3,
   "id": "d0b75081",
   "metadata": {},
   "outputs": [],
   "source": [
    "class PrintPose(LeafSystem): \n",
    "    \n",
    "    def __init__(self, body_index): \n",
    "        LeafSystem.__init__(self)\n",
    "        self.__body_index__ = body_index\n",
    "        self.DeclareAbstractInputPort(\n",
    "            'body_poses', \n",
    "            AbstractValue.Make([RigidTransform()])\n",
    "        )\n",
    "        self.DeclareForcedPublishEvent(self.Publish)\n",
    "    \n",
    "    def Publish(self, context): \n",
    "        pose = self.get_input_port().Eval(context)[self.__body_index__]\n",
    "        print(pose)\n",
    "        print('gripper at (m): ' + np.array2string(pose.translation(),\n",
    "                                                   formatter={'float': lambda x: \"{:3.2f}\".format(x)}))\n",
    "        print('gripper RPY (Rad): ' + \n",
    "              np.array2string( RollPitchYaw(pose.rotation()).vector(),\n",
    "                              formatter={'float': lambda x: \"{:3.2f}\".format(x)}\n",
    "                             ))\n",
    "        clear_output(wait=True) # from IPython display\n",
    "        # clear_output clean all the out for each invoke, aka i'll see only the last print\n",
    "        \n",
    "def gripper_forward_kinematics_example(): \n",
    "    builder = DiagramBuilder()\n",
    "    \n",
    "    # build the system \n",
    "    plant, scene_graph = AddMultibodyPlantSceneGraph(builder, time_step=0)\n",
    "    parser = Parser(plant)\n",
    "    AddPackagePaths(parser)\n",
    "    parser.AddAllModelsFromFile(\n",
    "        FindResource(\"models/iiwa_and_wsg.dmd.yaml\")\n",
    "    )\n",
    "    plant.Finalize()\n",
    "    \n",
    "    # DRAW THE FRAME\n",
    "    BODY_NAMES = [\"iiwa_link_1\", \"iiwa_link_2\",\n",
    "                  \"iiwa_link_3\", \"iiwa_link_4\",\n",
    "                  \"iiwa_link_5\", \"iiwa_link_6\", \n",
    "                  \"iiwa_link_7\", \"body\"]\n",
    "\n",
    "    for body_name in BODY_NAMES: \n",
    "        # add the frame of each join \n",
    "        AddMultibodyTriad(plant.GetFrameByName(body_name), scene_graph)\n",
    "        \n",
    "    \n",
    "    meshcat.Delete() # IN THEORY DELETE ALL OBJ OF A GIVEN PATH\n",
    "    meshcat.DeleteAddedControls() # delete all button \n",
    "    \n",
    "    visualizer = MeshcatVisualizer.AddToBuilder(\n",
    "        builder, \n",
    "        scene_graph.get_query_output_port(),\n",
    "        meshcat\n",
    "    )\n",
    "    \n",
    "    \n",
    "    wsg = plant.GetModelInstanceByName('wsg')\n",
    "    gripper = plant.GetBodyByName('body', wsg) # CHECK WHY DOUBLE PARAMS\n",
    "    print_pose = builder.AddSystem(PrintPose(gripper.index()))\n",
    "    builder.Connect(\n",
    "        plant.get_body_poses_output_port(), \n",
    "        print_pose.get_input_port()\n",
    "    )\n",
    "    \n",
    "    default_interactive_timeout = None if running_as_notebook else 1.0\n",
    "    sliders = builder.AddSystem(JointSliders(meshcat, plant))\n",
    "    diagram = builder.Build()\n",
    "    sliders.Run(diagram, default_interactive_timeout)\n",
    "    meshcat.DeleteAddedControls()\n",
    "    \n",
    "    "
   ]
  },
  {
   "cell_type": "code",
   "execution_count": null,
   "id": "b673282b",
   "metadata": {},
   "outputs": [
    {
     "name": "stdout",
     "output_type": "stream",
     "text": [
      "RigidTransform(\n",
      "  R=RotationMatrix([\n",
      "    [-0.1167466996822696, -0.5705483455443228, -0.8129236086557797],\n",
      "    [0.9912062229443429, -0.015596928149360086, -0.1314038029461644],\n",
      "    [0.062293111254043715, -0.8211158999976438, 0.5673519604807508],\n",
      "  ]),\n",
      "  p=[-0.286425533560576, 0.06005799909015352, 0.5564220453622931],\n",
      ")\n",
      "gripper at (m): [-0.29 0.06 0.56]\n",
      "gripper RPY (Rad): [-0.97 -0.06 1.69]\n"
     ]
    }
   ],
   "source": [
    "gripper_forward_kinematics_example()"
   ]
  }
 ],
 "metadata": {
  "kernelspec": {
   "display_name": "robot_manipulator",
   "language": "python",
   "name": "robot_manipulator"
  },
  "language_info": {
   "codemirror_mode": {
    "name": "ipython",
    "version": 3
   },
   "file_extension": ".py",
   "mimetype": "text/x-python",
   "name": "python",
   "nbconvert_exporter": "python",
   "pygments_lexer": "ipython3",
   "version": "3.10.6"
  }
 },
 "nbformat": 4,
 "nbformat_minor": 5
}
