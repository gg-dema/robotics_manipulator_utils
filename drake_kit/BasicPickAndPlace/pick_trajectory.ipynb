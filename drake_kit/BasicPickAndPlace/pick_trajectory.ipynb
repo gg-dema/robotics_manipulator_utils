{
 "cells": [
  {
   "cell_type": "code",
   "execution_count": 6,
   "id": "19d14a0a",
   "metadata": {},
   "outputs": [],
   "source": [
    "import numpy as np\n",
    "import matplotlib.pyplot as plt\n",
    "import mpld3 # interactive matplotlib\n",
    "import pydot # interface to graphviz --> penso per visualizzare i diagrammi\n",
    "\n",
    "from IPython.display import SVG, display\n",
    ", \n",
    "from pydrake.geometry import MeshcatVisualizer, StartMeshcat, Rgba\n",
    "from pydrake.math import RotationMatrix, RigidTransform\n",
    "from pydrake.common.eigen_geometry import AngleAxis\n",
    "\n",
    "mpld3.enable_notebook()\n",
    "\n",
    "\n",
    "\n",
    "from pydrake.systems.framework import DiagramBuilder\n",
    "\n",
    "\n",
    "from pydrake.multibody.plant import AddMultibodyPlantSceneGraph\n",
    "from pydrake.multibody.parsing import Parser\n",
    "from pydrake.multibody.meshcat import JointSliders\n",
    "\n",
    "from pydrake.trajectories import PiecewisePose"
   ]
  },
  {
   "cell_type": "code",
   "execution_count": 7,
   "id": "1bc3e7e6",
   "metadata": {},
   "outputs": [
    {
     "name": "stderr",
     "output_type": "stream",
     "text": [
      "INFO:drake:Meshcat listening for connections at http://localhost:7001\n"
     ]
    }
   ],
   "source": [
    "meshcat = StartMeshcat()"
   ]
  },
  {
   "cell_type": "code",
   "execution_count": 8,
   "id": "97f5afcf",
   "metadata": {},
   "outputs": [
    {
     "name": "stdout",
     "output_type": "stream",
     "text": [
      "Sanity check: The entire maneuver will take 30.905782746839105 seconds to execute.\n"
     ]
    }
   ],
   "source": [
    "# definition of frame for our task ---> store all in a dict\n",
    "def MakeGripperFrames(X_gripper:dict, X_obj:dict): \n",
    "    '''\n",
    "    input: original position of gripper, original position of obj\n",
    "    All is a dict of rigid transform ---> rotation + translation \n",
    "    out: complete set of transformation needed for the task, + times dict\n",
    "    \n",
    "    '''\n",
    "    \n",
    "    p_Ggrasp_OBJ = [0, 0.11, 0]\n",
    "    R_Ggrasp_OBJ = (\n",
    "        RotationMatrix.MakeXRotation(np.pi/2.0) @ \n",
    "        RotationMatrix.MakeZRotation(np.pi/2.0)\n",
    "    )\n",
    "    X_Ggrasp_OBJ = RigidTransform(R_Ggrasp_OBJ, p_Ggrasp_OBJ)\n",
    "    X_Ggrasp_Gpregrasp = RigidTransform([0, -0.08, 0]) \n",
    "    \n",
    "    \n",
    "    X_gripper['pick'] = X_obj['initial'] @ X_Ggrasp_OBJ.inverse()\n",
    "    X_gripper['place'] = X_obj['goal'] @ X_Ggrasp_OBJ.inverse()\n",
    "    \n",
    "    X_gripper['prepick'] = X_gripper['pick'] @ X_Ggrasp_Gpregrasp\n",
    "    X_gripper['preplace'] = X_gripper['place'] @ X_Ggrasp_Gpregrasp\n",
    "    \n",
    "    # interpolate orientation by convertin to axis-angle: idk---> see again the book\n",
    "    # MAKE ROTATION OF FIXED ANGLE ALONG FIXED VECTOR  \n",
    "    # angle_axis : rotate around axis AXS of angle ALPHA\n",
    "    # -----------------------------------\n",
    "    X_Ginitial_Gprepick = X_gripper['initial'].inverse() @ X_gripper['prepick']\n",
    "    X_Gprepick_Gpreplace = X_gripper['prepick'].inverse() @ X_gripper['preplace']\n",
    "    angle_axis = X_Gprepick_Gpreplace.rotation().ToAngleAxis()\n",
    "    # DONT UNDERSTAND WHY THIS CALC, and i mean what is the use of ANGLE AXIS\n",
    "    X_Gprepick_Gclearance = RigidTransform(\n",
    "        AngleAxis(angle=angle_axis.angle() / 2.0, axis=angle_axis.axis()), \n",
    "        X_Gprepick_Gpreplace.translation() / 2.0 + np.array([0, -0.3, 0])\n",
    "    \n",
    "    )\n",
    "    X_gripper['clearance'] = X_G['prepick'] @ X_Gprepick_Gclearance\n",
    "    \n",
    "    #---------------------------------------------------------------\n",
    "    #---------------------------------------------------------------\n",
    "    #---------------------------------------------------------------\n",
    "    # SET TIMING: \n",
    "    times = {'initial':0}\n",
    "    times['prepick'] = times['initial'] + 10.0 * np.linalg.norm(X_Ginitial_Gprepick.translation())\n",
    "    # adding the norm means say that the time is proportional to the distance with a factor 10\n",
    "\n",
    "    times['pick_start'] = times['prepick'] + 2.0\n",
    "    times['pick_end'] = times['pick_start'] + 2.0\n",
    "    X_gripper['pick_start'] = X_gripper['pick']\n",
    "    X_gripper['pick_end'] = X_gripper['pick']\n",
    "    \n",
    "    times['postpick'] = times['pick_end'] + 2.0\n",
    "    X_gripper['postpick'] = X_gripper['prepick']\n",
    "    \n",
    "    \n",
    "    time_to_from_clearance = 10.0 * np.linalg.norm(X_Gprepick_Gclearance.translation())\n",
    "    times[\"clearance\"] = times[\"postpick\"] + time_to_from_clearance\n",
    "    times[\"preplace\"] = times[\"clearance\"] + time_to_from_clearance\n",
    "    times[\"place_start\"] = times[\"preplace\"] + 2.0\n",
    "    times[\"place_end\"] = times[\"place_start\"] + 2.0\n",
    "    \n",
    "    X_gripper['place_start'] = X_gripper['place']\n",
    "    X_gripper['place_end'] = X_gripper['place']\n",
    "    \n",
    "    times['postplace'] = times['place_end'] + 2.0\n",
    "    X_gripper['postplace'] = X_gripper['preplace']\n",
    "    \n",
    "    return X_gripper, times\n",
    "\n",
    "\n",
    "X_G = {\n",
    "    \"initial\": RigidTransform(\n",
    "        RotationMatrix.MakeXRotation(-np.pi / 2.0), [0, -0.25, 0.25]\n",
    "    )\n",
    "}\n",
    "X_O = {\n",
    "    \"initial\": RigidTransform(\n",
    "        RotationMatrix.MakeZRotation(np.pi / 2.0), [-0.2, -0.75, 0.025]\n",
    "    ),\n",
    "    \"goal\": RigidTransform(\n",
    "        RotationMatrix.MakeZRotation(np.pi), [0.75, 0, 0.025]\n",
    "    ),\n",
    "}\n",
    "X_G, times = MakeGripperFrames(X_G, X_O)\n",
    "print(\n",
    "    f\"Sanity check: The entire maneuver will take {times['postplace']} seconds to execute.\"\n",
    ")"
   ]
  },
  {
   "cell_type": "code",
   "execution_count": 9,
   "id": "6d5bc84f",
   "metadata": {},
   "outputs": [
    {
     "data": {
      "text/plain": [
       "dict_keys(['initial', 'pick', 'place', 'prepick', 'preplace', 'clearance', 'pick_start', 'pick_end', 'postpick', 'place_start', 'place_end', 'postplace'])"
      ]
     },
     "execution_count": 9,
     "metadata": {},
     "output_type": "execute_result"
    }
   ],
   "source": [
    "X_G.keys()"
   ]
  },
  {
   "cell_type": "code",
   "execution_count": 10,
   "id": "95753cd5",
   "metadata": {},
   "outputs": [],
   "source": [
    "#just for visualizer the pose that we get\n",
    "\n",
    "def visualize_gripper_frames(X_G, X_O):\n",
    "    builder = DiagramBuilder()\n",
    "\n",
    "    plant, scene_graph = AddMultibodyPlantSceneGraph(builder, time_step=0.0)\n",
    "    parser = Parser(plant, scene_graph)\n",
    "    parser.SetAutoRenaming(True)\n",
    "    for key, pose in X_G.items():\n",
    "        g = parser.AddModelsFromUrl(\n",
    "            \"package://drake/manipulation/models/wsg_50_description/sdf/schunk_wsg_50_no_tip.sdf\"\n",
    "        )[0]\n",
    "        plant.WeldFrames(\n",
    "            plant.world_frame(), plant.GetFrameByName(\"body\", g), pose\n",
    "        )\n",
    "    for key, pose in X_O.items():\n",
    "        o = parser.AddModelsFromUrl(\n",
    "            \"package://drake/examples/manipulation_station/models/061_foam_brick.sdf\"\n",
    "        )[0]\n",
    "        plant.WeldFrames(\n",
    "            plant.world_frame(), plant.GetFrameByName(\"base_link\", o), pose\n",
    "        )\n",
    "\n",
    "    plant.Finalize()\n",
    "\n",
    "    meshcat.Delete()\n",
    "    visualizer = MeshcatVisualizer.AddToBuilder(builder, scene_graph, meshcat)\n",
    "\n",
    "    diagram = builder.Build()\n",
    "    context = diagram.CreateDefaultContext()\n",
    "    diagram.ForcedPublish(context)\n",
    "\n",
    "\n",
    "visualize_gripper_frames(X_G, X_O)"
   ]
  },
  {
   "cell_type": "code",
   "execution_count": 23,
   "id": "813438e7",
   "metadata": {},
   "outputs": [
    {
     "data": {
      "text/plain": [
       "dict_keys(['initial', 'prepick', 'preplace', 'clearance', 'pick_start', 'pick_end', 'postpick', 'place_start', 'place_end', 'postplace'])"
      ]
     },
     "execution_count": 23,
     "metadata": {},
     "output_type": "execute_result"
    }
   ],
   "source": []
  },
  {
   "cell_type": "code",
   "execution_count": 25,
   "id": "a9da6e5a",
   "metadata": {},
   "outputs": [],
   "source": [
    "# X_G.pop('pick') ---> same of pre_pick\n",
    "# X_G.pop('place') ---> same of pre_place\n",
    "trajetory = PiecewisePose.MakeLinear(list(times.values()), list(X_G.values()))\n",
    "\n"
   ]
  },
  {
   "cell_type": "code",
   "execution_count": 37,
   "id": "49b57744",
   "metadata": {},
   "outputs": [
    {
     "data": {
      "text/html": [
       "\n",
       "\n",
       "<style>\n",
       "\n",
       "</style>\n",
       "\n",
       "<div id=\"fig_el149631397365681780648706883752\"></div>\n",
       "<script>\n",
       "function mpld3_load_lib(url, callback){\n",
       "  var s = document.createElement('script');\n",
       "  s.src = url;\n",
       "  s.async = true;\n",
       "  s.onreadystatechange = s.onload = callback;\n",
       "  s.onerror = function(){console.warn(\"failed to load library \" + url);};\n",
       "  document.getElementsByTagName(\"head\")[0].appendChild(s);\n",
       "}\n",
       "\n",
       "if(typeof(mpld3) !== \"undefined\" && mpld3._mpld3IsLoaded){\n",
       "   // already loaded: just create the figure\n",
       "   !function(mpld3){\n",
       "       \n",
       "       mpld3.draw_figure(\"fig_el149631397365681780648706883752\", {\"width\": 640.0, \"height\": 480.0, \"axes\": [{\"bbox\": [0.125, 0.10999999999999999, 0.775, 0.77], \"xlim\": [-1.5452891373419553, 32.45107188418106], \"ylim\": [-0.825, 0.825], \"xdomain\": [-1.5452891373419553, 32.45107188418106], \"ydomain\": [-0.825, 0.825], \"xscale\": \"linear\", \"yscale\": \"linear\", \"axes\": [{\"position\": \"bottom\", \"nticks\": 9, \"tickvalues\": null, \"tickformat_formatter\": \"\", \"tickformat\": null, \"scale\": \"linear\", \"fontsize\": 10.0, \"grid\": {\"gridOn\": false}, \"visible\": true}, {\"position\": \"left\", \"nticks\": 11, \"tickvalues\": null, \"tickformat_formatter\": \"\", \"tickformat\": null, \"scale\": \"linear\", \"fontsize\": 10.0, \"grid\": {\"gridOn\": false}, \"visible\": true}], \"axesbg\": \"#FFFFFF\", \"axesbgalpha\": null, \"zoomable\": true, \"id\": \"el14963139736568431088\", \"lines\": [{\"data\": \"data01\", \"xindex\": 0, \"yindex\": 1, \"coordinates\": \"data\", \"id\": \"el14963139736568446496\", \"color\": \"#1F77B4\", \"linewidth\": 1.5, \"dasharray\": \"none\", \"alpha\": 1, \"zorder\": 2, \"drawstyle\": \"default\"}, {\"data\": \"data01\", \"xindex\": 0, \"yindex\": 2, \"coordinates\": \"data\", \"id\": \"el14963139736568446592\", \"color\": \"#FF7F0E\", \"linewidth\": 1.5, \"dasharray\": \"none\", \"alpha\": 1, \"zorder\": 2, \"drawstyle\": \"default\"}, {\"data\": \"data01\", \"xindex\": 0, \"yindex\": 3, \"coordinates\": \"data\", \"id\": \"el14963139736568446640\", \"color\": \"#2CA02C\", \"linewidth\": 1.5, \"dasharray\": \"none\", \"alpha\": 1, \"zorder\": 2, \"drawstyle\": \"default\"}, {\"data\": \"data02\", \"xindex\": 0, \"yindex\": 1, \"coordinates\": \"axes\", \"id\": \"el14963139736569956960\", \"color\": \"#1F77B4\", \"linewidth\": 1.5, \"dasharray\": \"none\", \"alpha\": 1, \"zorder\": 1000002.0, \"drawstyle\": \"default\"}, {\"data\": \"data02\", \"xindex\": 0, \"yindex\": 2, \"coordinates\": \"axes\", \"id\": \"el14963139736569958448\", \"color\": \"#FF7F0E\", \"linewidth\": 1.5, \"dasharray\": \"none\", \"alpha\": 1, \"zorder\": 1000002.0, \"drawstyle\": \"default\"}, {\"data\": \"data02\", \"xindex\": 0, \"yindex\": 3, \"coordinates\": \"axes\", \"id\": \"el14963139736569959936\", \"color\": \"#2CA02C\", \"linewidth\": 1.5, \"dasharray\": \"none\", \"alpha\": 1, \"zorder\": 1000002.0, \"drawstyle\": \"default\"}], \"paths\": [{\"data\": \"data03\", \"xindex\": 0, \"yindex\": 1, \"coordinates\": \"axes\", \"pathcodes\": [\"M\", \"L\", \"S\", \"L\", \"S\", \"L\", \"S\", \"L\", \"S\", \"Z\"], \"id\": \"el14963139736569955520\", \"dasharray\": \"none\", \"alpha\": 0.8, \"facecolor\": \"rgba(255, 255, 255, 0.8)\", \"edgecolor\": \"rgba(204, 204, 204, 0.8)\", \"edgewidth\": 1.0, \"zorder\": 1000000.0}], \"markers\": [], \"texts\": [{\"text\": \"pos_gripper\", \"position\": [0.5, 1.0225468975468974], \"coordinates\": \"axes\", \"h_anchor\": \"middle\", \"v_baseline\": \"auto\", \"rotation\": -0.0, \"fontsize\": 12.0, \"color\": \"#000000\", \"alpha\": 1, \"zorder\": 3, \"id\": \"el14963139736568437904\"}, {\"text\": \"x\", \"position\": [0.10360663082437274, 0.9364177489177489], \"coordinates\": \"axes\", \"h_anchor\": \"start\", \"v_baseline\": \"auto\", \"rotation\": -0.0, \"fontsize\": 10.0, \"color\": \"#000000\", \"alpha\": 1, \"zorder\": 1000003.0, \"id\": \"el14963139736569956288\"}, {\"text\": \"y\", \"position\": [0.10360663082437274, 0.8797498797498798], \"coordinates\": \"axes\", \"h_anchor\": \"start\", \"v_baseline\": \"auto\", \"rotation\": -0.0, \"fontsize\": 10.0, \"color\": \"#000000\", \"alpha\": 1, \"zorder\": 1000003.0, \"id\": \"el14963139736569957776\"}, {\"text\": \"z\", \"position\": [0.10360663082437274, 0.8230820105820105], \"coordinates\": \"axes\", \"h_anchor\": \"start\", \"v_baseline\": \"auto\", \"rotation\": -0.0, \"fontsize\": 10.0, \"color\": \"#000000\", \"alpha\": 1, \"zorder\": 1000003.0, \"id\": \"el14963139736569959264\"}], \"collections\": [], \"images\": [], \"sharex\": [], \"sharey\": []}], \"data\": {\"data01\": [[0.0, 0.0, -0.25, 0.25], [5.396526660732809, -0.2, -0.75, 0.21500000000000002], [7.396526660732809, 0.75, -7.1238589676438235e-34, 0.21500000000000002], [9.396526660732809, 0.27499999999999997, -0.375, 0.5149999999999999], [11.396526660732809, -0.2, -0.75, 0.135], [18.151154703785956, -0.2, -0.75, 0.135], [24.905782746839105, -0.2, -0.75, 0.21500000000000002], [26.905782746839105, 0.75, -4.124339402320109e-34, 0.135], [28.905782746839105, 0.75, -4.124339402320109e-34, 0.135], [30.905782746839105, 0.75, -7.1238589676438235e-34, 0.21500000000000002]], \"data02\": [[0.025201612903225812, 0.9495701058201058, 0.8929022366522368, 0.8362343674843674], [0.05320340501792115, 0.9495701058201058, 0.8929022366522368, 0.8362343674843674], [0.0812051971326165, 0.9495701058201058, 0.8929022366522368, 0.8362343674843674]], \"data03\": [[0.01960125448028671, 0.7999338624338624], [0.12584005376344085, 0.7999338624338624], [0.1314404121863799, 0.7999338624338624], [0.1314404121863799, 0.8074494949494949], [0.1314404121863799, 0.9736952861952862], [0.1314404121863799, 0.9812109187109187], [0.12584005376344085, 0.9812109187109187], [0.01960125448028671, 0.9812109187109187], [0.014000896057347667, 0.9812109187109187], [0.014000896057347667, 0.9736952861952862], [0.014000896057347667, 0.8074494949494949], [0.014000896057347667, 0.7999338624338624], [0.01960125448028671, 0.7999338624338624]]}, \"id\": \"el14963139736568178064\", \"plugins\": [{\"type\": \"reset\"}, {\"type\": \"zoom\", \"button\": true, \"enabled\": false}, {\"type\": \"boxzoom\", \"button\": true, \"enabled\": false}]});\n",
       "   }(mpld3);\n",
       "}else if(typeof define === \"function\" && define.amd){\n",
       "   // require.js is available: use it to load d3/mpld3\n",
       "   require.config({paths: {d3: \"https://d3js.org/d3.v5\"}});\n",
       "   require([\"d3\"], function(d3){\n",
       "      window.d3 = d3;\n",
       "      mpld3_load_lib(\"https://mpld3.github.io/js/mpld3.v0.5.9.js\", function(){\n",
       "         \n",
       "         mpld3.draw_figure(\"fig_el149631397365681780648706883752\", {\"width\": 640.0, \"height\": 480.0, \"axes\": [{\"bbox\": [0.125, 0.10999999999999999, 0.775, 0.77], \"xlim\": [-1.5452891373419553, 32.45107188418106], \"ylim\": [-0.825, 0.825], \"xdomain\": [-1.5452891373419553, 32.45107188418106], \"ydomain\": [-0.825, 0.825], \"xscale\": \"linear\", \"yscale\": \"linear\", \"axes\": [{\"position\": \"bottom\", \"nticks\": 9, \"tickvalues\": null, \"tickformat_formatter\": \"\", \"tickformat\": null, \"scale\": \"linear\", \"fontsize\": 10.0, \"grid\": {\"gridOn\": false}, \"visible\": true}, {\"position\": \"left\", \"nticks\": 11, \"tickvalues\": null, \"tickformat_formatter\": \"\", \"tickformat\": null, \"scale\": \"linear\", \"fontsize\": 10.0, \"grid\": {\"gridOn\": false}, \"visible\": true}], \"axesbg\": \"#FFFFFF\", \"axesbgalpha\": null, \"zoomable\": true, \"id\": \"el14963139736568431088\", \"lines\": [{\"data\": \"data01\", \"xindex\": 0, \"yindex\": 1, \"coordinates\": \"data\", \"id\": \"el14963139736568446496\", \"color\": \"#1F77B4\", \"linewidth\": 1.5, \"dasharray\": \"none\", \"alpha\": 1, \"zorder\": 2, \"drawstyle\": \"default\"}, {\"data\": \"data01\", \"xindex\": 0, \"yindex\": 2, \"coordinates\": \"data\", \"id\": \"el14963139736568446592\", \"color\": \"#FF7F0E\", \"linewidth\": 1.5, \"dasharray\": \"none\", \"alpha\": 1, \"zorder\": 2, \"drawstyle\": \"default\"}, {\"data\": \"data01\", \"xindex\": 0, \"yindex\": 3, \"coordinates\": \"data\", \"id\": \"el14963139736568446640\", \"color\": \"#2CA02C\", \"linewidth\": 1.5, \"dasharray\": \"none\", \"alpha\": 1, \"zorder\": 2, \"drawstyle\": \"default\"}, {\"data\": \"data02\", \"xindex\": 0, \"yindex\": 1, \"coordinates\": \"axes\", \"id\": \"el14963139736569956960\", \"color\": \"#1F77B4\", \"linewidth\": 1.5, \"dasharray\": \"none\", \"alpha\": 1, \"zorder\": 1000002.0, \"drawstyle\": \"default\"}, {\"data\": \"data02\", \"xindex\": 0, \"yindex\": 2, \"coordinates\": \"axes\", \"id\": \"el14963139736569958448\", \"color\": \"#FF7F0E\", \"linewidth\": 1.5, \"dasharray\": \"none\", \"alpha\": 1, \"zorder\": 1000002.0, \"drawstyle\": \"default\"}, {\"data\": \"data02\", \"xindex\": 0, \"yindex\": 3, \"coordinates\": \"axes\", \"id\": \"el14963139736569959936\", \"color\": \"#2CA02C\", \"linewidth\": 1.5, \"dasharray\": \"none\", \"alpha\": 1, \"zorder\": 1000002.0, \"drawstyle\": \"default\"}], \"paths\": [{\"data\": \"data03\", \"xindex\": 0, \"yindex\": 1, \"coordinates\": \"axes\", \"pathcodes\": [\"M\", \"L\", \"S\", \"L\", \"S\", \"L\", \"S\", \"L\", \"S\", \"Z\"], \"id\": \"el14963139736569955520\", \"dasharray\": \"none\", \"alpha\": 0.8, \"facecolor\": \"rgba(255, 255, 255, 0.8)\", \"edgecolor\": \"rgba(204, 204, 204, 0.8)\", \"edgewidth\": 1.0, \"zorder\": 1000000.0}], \"markers\": [], \"texts\": [{\"text\": \"pos_gripper\", \"position\": [0.5, 1.0225468975468974], \"coordinates\": \"axes\", \"h_anchor\": \"middle\", \"v_baseline\": \"auto\", \"rotation\": -0.0, \"fontsize\": 12.0, \"color\": \"#000000\", \"alpha\": 1, \"zorder\": 3, \"id\": \"el14963139736568437904\"}, {\"text\": \"x\", \"position\": [0.10360663082437274, 0.9364177489177489], \"coordinates\": \"axes\", \"h_anchor\": \"start\", \"v_baseline\": \"auto\", \"rotation\": -0.0, \"fontsize\": 10.0, \"color\": \"#000000\", \"alpha\": 1, \"zorder\": 1000003.0, \"id\": \"el14963139736569956288\"}, {\"text\": \"y\", \"position\": [0.10360663082437274, 0.8797498797498798], \"coordinates\": \"axes\", \"h_anchor\": \"start\", \"v_baseline\": \"auto\", \"rotation\": -0.0, \"fontsize\": 10.0, \"color\": \"#000000\", \"alpha\": 1, \"zorder\": 1000003.0, \"id\": \"el14963139736569957776\"}, {\"text\": \"z\", \"position\": [0.10360663082437274, 0.8230820105820105], \"coordinates\": \"axes\", \"h_anchor\": \"start\", \"v_baseline\": \"auto\", \"rotation\": -0.0, \"fontsize\": 10.0, \"color\": \"#000000\", \"alpha\": 1, \"zorder\": 1000003.0, \"id\": \"el14963139736569959264\"}], \"collections\": [], \"images\": [], \"sharex\": [], \"sharey\": []}], \"data\": {\"data01\": [[0.0, 0.0, -0.25, 0.25], [5.396526660732809, -0.2, -0.75, 0.21500000000000002], [7.396526660732809, 0.75, -7.1238589676438235e-34, 0.21500000000000002], [9.396526660732809, 0.27499999999999997, -0.375, 0.5149999999999999], [11.396526660732809, -0.2, -0.75, 0.135], [18.151154703785956, -0.2, -0.75, 0.135], [24.905782746839105, -0.2, -0.75, 0.21500000000000002], [26.905782746839105, 0.75, -4.124339402320109e-34, 0.135], [28.905782746839105, 0.75, -4.124339402320109e-34, 0.135], [30.905782746839105, 0.75, -7.1238589676438235e-34, 0.21500000000000002]], \"data02\": [[0.025201612903225812, 0.9495701058201058, 0.8929022366522368, 0.8362343674843674], [0.05320340501792115, 0.9495701058201058, 0.8929022366522368, 0.8362343674843674], [0.0812051971326165, 0.9495701058201058, 0.8929022366522368, 0.8362343674843674]], \"data03\": [[0.01960125448028671, 0.7999338624338624], [0.12584005376344085, 0.7999338624338624], [0.1314404121863799, 0.7999338624338624], [0.1314404121863799, 0.8074494949494949], [0.1314404121863799, 0.9736952861952862], [0.1314404121863799, 0.9812109187109187], [0.12584005376344085, 0.9812109187109187], [0.01960125448028671, 0.9812109187109187], [0.014000896057347667, 0.9812109187109187], [0.014000896057347667, 0.9736952861952862], [0.014000896057347667, 0.8074494949494949], [0.014000896057347667, 0.7999338624338624], [0.01960125448028671, 0.7999338624338624]]}, \"id\": \"el14963139736568178064\", \"plugins\": [{\"type\": \"reset\"}, {\"type\": \"zoom\", \"button\": true, \"enabled\": false}, {\"type\": \"boxzoom\", \"button\": true, \"enabled\": false}]});\n",
       "      });\n",
       "    });\n",
       "}else{\n",
       "    // require.js not available: dynamically load d3 & mpld3\n",
       "    mpld3_load_lib(\"https://d3js.org/d3.v5.js\", function(){\n",
       "         mpld3_load_lib(\"https://mpld3.github.io/js/mpld3.v0.5.9.js\", function(){\n",
       "                 \n",
       "                 mpld3.draw_figure(\"fig_el149631397365681780648706883752\", {\"width\": 640.0, \"height\": 480.0, \"axes\": [{\"bbox\": [0.125, 0.10999999999999999, 0.775, 0.77], \"xlim\": [-1.5452891373419553, 32.45107188418106], \"ylim\": [-0.825, 0.825], \"xdomain\": [-1.5452891373419553, 32.45107188418106], \"ydomain\": [-0.825, 0.825], \"xscale\": \"linear\", \"yscale\": \"linear\", \"axes\": [{\"position\": \"bottom\", \"nticks\": 9, \"tickvalues\": null, \"tickformat_formatter\": \"\", \"tickformat\": null, \"scale\": \"linear\", \"fontsize\": 10.0, \"grid\": {\"gridOn\": false}, \"visible\": true}, {\"position\": \"left\", \"nticks\": 11, \"tickvalues\": null, \"tickformat_formatter\": \"\", \"tickformat\": null, \"scale\": \"linear\", \"fontsize\": 10.0, \"grid\": {\"gridOn\": false}, \"visible\": true}], \"axesbg\": \"#FFFFFF\", \"axesbgalpha\": null, \"zoomable\": true, \"id\": \"el14963139736568431088\", \"lines\": [{\"data\": \"data01\", \"xindex\": 0, \"yindex\": 1, \"coordinates\": \"data\", \"id\": \"el14963139736568446496\", \"color\": \"#1F77B4\", \"linewidth\": 1.5, \"dasharray\": \"none\", \"alpha\": 1, \"zorder\": 2, \"drawstyle\": \"default\"}, {\"data\": \"data01\", \"xindex\": 0, \"yindex\": 2, \"coordinates\": \"data\", \"id\": \"el14963139736568446592\", \"color\": \"#FF7F0E\", \"linewidth\": 1.5, \"dasharray\": \"none\", \"alpha\": 1, \"zorder\": 2, \"drawstyle\": \"default\"}, {\"data\": \"data01\", \"xindex\": 0, \"yindex\": 3, \"coordinates\": \"data\", \"id\": \"el14963139736568446640\", \"color\": \"#2CA02C\", \"linewidth\": 1.5, \"dasharray\": \"none\", \"alpha\": 1, \"zorder\": 2, \"drawstyle\": \"default\"}, {\"data\": \"data02\", \"xindex\": 0, \"yindex\": 1, \"coordinates\": \"axes\", \"id\": \"el14963139736569956960\", \"color\": \"#1F77B4\", \"linewidth\": 1.5, \"dasharray\": \"none\", \"alpha\": 1, \"zorder\": 1000002.0, \"drawstyle\": \"default\"}, {\"data\": \"data02\", \"xindex\": 0, \"yindex\": 2, \"coordinates\": \"axes\", \"id\": \"el14963139736569958448\", \"color\": \"#FF7F0E\", \"linewidth\": 1.5, \"dasharray\": \"none\", \"alpha\": 1, \"zorder\": 1000002.0, \"drawstyle\": \"default\"}, {\"data\": \"data02\", \"xindex\": 0, \"yindex\": 3, \"coordinates\": \"axes\", \"id\": \"el14963139736569959936\", \"color\": \"#2CA02C\", \"linewidth\": 1.5, \"dasharray\": \"none\", \"alpha\": 1, \"zorder\": 1000002.0, \"drawstyle\": \"default\"}], \"paths\": [{\"data\": \"data03\", \"xindex\": 0, \"yindex\": 1, \"coordinates\": \"axes\", \"pathcodes\": [\"M\", \"L\", \"S\", \"L\", \"S\", \"L\", \"S\", \"L\", \"S\", \"Z\"], \"id\": \"el14963139736569955520\", \"dasharray\": \"none\", \"alpha\": 0.8, \"facecolor\": \"rgba(255, 255, 255, 0.8)\", \"edgecolor\": \"rgba(204, 204, 204, 0.8)\", \"edgewidth\": 1.0, \"zorder\": 1000000.0}], \"markers\": [], \"texts\": [{\"text\": \"pos_gripper\", \"position\": [0.5, 1.0225468975468974], \"coordinates\": \"axes\", \"h_anchor\": \"middle\", \"v_baseline\": \"auto\", \"rotation\": -0.0, \"fontsize\": 12.0, \"color\": \"#000000\", \"alpha\": 1, \"zorder\": 3, \"id\": \"el14963139736568437904\"}, {\"text\": \"x\", \"position\": [0.10360663082437274, 0.9364177489177489], \"coordinates\": \"axes\", \"h_anchor\": \"start\", \"v_baseline\": \"auto\", \"rotation\": -0.0, \"fontsize\": 10.0, \"color\": \"#000000\", \"alpha\": 1, \"zorder\": 1000003.0, \"id\": \"el14963139736569956288\"}, {\"text\": \"y\", \"position\": [0.10360663082437274, 0.8797498797498798], \"coordinates\": \"axes\", \"h_anchor\": \"start\", \"v_baseline\": \"auto\", \"rotation\": -0.0, \"fontsize\": 10.0, \"color\": \"#000000\", \"alpha\": 1, \"zorder\": 1000003.0, \"id\": \"el14963139736569957776\"}, {\"text\": \"z\", \"position\": [0.10360663082437274, 0.8230820105820105], \"coordinates\": \"axes\", \"h_anchor\": \"start\", \"v_baseline\": \"auto\", \"rotation\": -0.0, \"fontsize\": 10.0, \"color\": \"#000000\", \"alpha\": 1, \"zorder\": 1000003.0, \"id\": \"el14963139736569959264\"}], \"collections\": [], \"images\": [], \"sharex\": [], \"sharey\": []}], \"data\": {\"data01\": [[0.0, 0.0, -0.25, 0.25], [5.396526660732809, -0.2, -0.75, 0.21500000000000002], [7.396526660732809, 0.75, -7.1238589676438235e-34, 0.21500000000000002], [9.396526660732809, 0.27499999999999997, -0.375, 0.5149999999999999], [11.396526660732809, -0.2, -0.75, 0.135], [18.151154703785956, -0.2, -0.75, 0.135], [24.905782746839105, -0.2, -0.75, 0.21500000000000002], [26.905782746839105, 0.75, -4.124339402320109e-34, 0.135], [28.905782746839105, 0.75, -4.124339402320109e-34, 0.135], [30.905782746839105, 0.75, -7.1238589676438235e-34, 0.21500000000000002]], \"data02\": [[0.025201612903225812, 0.9495701058201058, 0.8929022366522368, 0.8362343674843674], [0.05320340501792115, 0.9495701058201058, 0.8929022366522368, 0.8362343674843674], [0.0812051971326165, 0.9495701058201058, 0.8929022366522368, 0.8362343674843674]], \"data03\": [[0.01960125448028671, 0.7999338624338624], [0.12584005376344085, 0.7999338624338624], [0.1314404121863799, 0.7999338624338624], [0.1314404121863799, 0.8074494949494949], [0.1314404121863799, 0.9736952861952862], [0.1314404121863799, 0.9812109187109187], [0.12584005376344085, 0.9812109187109187], [0.01960125448028671, 0.9812109187109187], [0.014000896057347667, 0.9812109187109187], [0.014000896057347667, 0.9736952861952862], [0.014000896057347667, 0.8074494949494949], [0.014000896057347667, 0.7999338624338624], [0.01960125448028671, 0.7999338624338624]]}, \"id\": \"el14963139736568178064\", \"plugins\": [{\"type\": \"reset\"}, {\"type\": \"zoom\", \"button\": true, \"enabled\": false}, {\"type\": \"boxzoom\", \"button\": true, \"enabled\": false}]});\n",
       "            })\n",
       "         });\n",
       "}\n",
       "</script>"
      ],
      "text/plain": [
       "<IPython.core.display.HTML object>"
      ]
     },
     "execution_count": 37,
     "metadata": {},
     "output_type": "execute_result"
    }
   ],
   "source": [
    "trajectory_path_GRIPPER = trajetory.get_position_trajectory()\n",
    "pos_gripper = trajectory_path_GRIPPER.vector_values(trajectory_path_GRIPPER.get_segment_times())\n",
    "\n",
    "\n",
    "plt.plot(trajectory_path_GRIPPER.get_segment_times(), pos_gripper.T)\n",
    "plt.legend(['x', 'y', 'z'])\n",
    "plt.title('pos_gripper')\n",
    "mpld3.display()"
   ]
  },
  {
   "cell_type": "code",
   "execution_count": 42,
   "id": "d437e10c",
   "metadata": {},
   "outputs": [],
   "source": [
    "meshcat.ResetRenderMode()\n",
    "meshcat.SetLine('pos_gripper', pos_gripper, 5.0, rgba=Rgba(1, 0.65, 0))"
   ]
  }
 ],
 "metadata": {
  "kernelspec": {
   "display_name": "robot_manipulator",
   "language": "python",
   "name": "robot_manipulator"
  },
  "language_info": {
   "codemirror_mode": {
    "name": "ipython",
    "version": 3
   },
   "file_extension": ".py",
   "mimetype": "text/x-python",
   "name": "python",
   "nbconvert_exporter": "python",
   "pygments_lexer": "ipython3",
   "version": "3.10.6"
  }
 },
 "nbformat": 4,
 "nbformat_minor": 5
}
