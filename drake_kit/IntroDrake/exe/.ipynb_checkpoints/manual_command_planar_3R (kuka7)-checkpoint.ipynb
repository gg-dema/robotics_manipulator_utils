{
 "cells": [
  {
   "cell_type": "code",
   "execution_count": 1,
   "id": "6a2c287e",
   "metadata": {},
   "outputs": [],
   "source": [
    "import numpy as np\n",
    "from pydrake.geometry import MeshcatVisualizer, StartMeshcat\n",
    "from pydrake.systems.analysis import Simulator\n",
    "from pydrake.systems.framework import DiagramBuilder\n",
    "\n",
    "from manipulation import running_as_notebook\n",
    "from manipulation.meshcat_utils import MeshcatPoseSliders\n",
    "from manipulation.scenarios import MakeManipulationStation"
   ]
  },
  {
   "cell_type": "code",
   "execution_count": 2,
   "id": "8a99a10c",
   "metadata": {},
   "outputs": [
    {
     "name": "stderr",
     "output_type": "stream",
     "text": [
      "INFO:drake:Meshcat listening for connections at http://localhost:7001\n"
     ]
    }
   ],
   "source": [
    "# Start the visualizer.\n",
    "meshcat = StartMeshcat()\n",
    "\n",
    "model_directives = \"\"\"\n",
    "directives:\n",
    "- add_model:\n",
    "    name: iiwa\n",
    "    file: package://drake/manipulation/models/iiwa_description/urdf/planar_iiwa14_spheres_dense_elbow_collision.urdf\n",
    "    default_joint_positions:\n",
    "        iiwa_joint_2: [0.1]\n",
    "        iiwa_joint_4: [-1.2]\n",
    "        iiwa_joint_6: [1.6]\n",
    "- add_weld:\n",
    "    parent: world\n",
    "    child: iiwa::iiwa_link_0\n",
    "\"\"\""
   ]
  },
  {
   "cell_type": "code",
   "execution_count": null,
   "id": "385ca594",
   "metadata": {},
   "outputs": [
    {
     "name": "stdout",
     "output_type": "stream",
     "text": [
      "Current joint angles: [-0.00027473  0.00180615 -0.00333018]\n",
      "Please enter value for first movable joint (current value: -0.000)0.4\n",
      "Please enter value for second movable joint (current value: 0.002)0\n",
      "Please enter value for third movable joint (current value: -0.003)0\n",
      "Current commanded joint angles: [0.4 0.  0. ]\n",
      "\n",
      "Current joint angles: [0.40204031 0.02194281 0.00483079]\n",
      "Please enter value for first movable joint (current value: 0.402)0.4\n",
      "Please enter value for second movable joint (current value: 0.022)0.5\n",
      "Please enter value for third movable joint (current value: 0.005)0.0\n",
      "Current commanded joint angles: [0.4 0.5 0. ]\n",
      "\n",
      "Current joint angles: [ 0.38320092  0.46321063 -0.02320342]\n",
      "Please enter value for first movable joint (current value: 0.383)0.4\n",
      "Please enter value for second movable joint (current value: 0.463)0.4\n",
      "Please enter value for third movable joint (current value: -0.023)-0.6\n",
      "Current commanded joint angles: [ 0.4  0.4 -0.6]\n",
      "\n",
      "Current joint angles: [ 0.38604068  0.37541371 -0.59706975]\n"
     ]
    }
   ],
   "source": [
    "def teleop_2d_direct(interactive=False, q_cmd=np.array([0, 2, 3])):\n",
    "    \"\"\"\n",
    "    Joint position control of the Kuka iiwa robot, without using teleop sliders or differential IK.\n",
    "\n",
    "    Args:\n",
    "        interactive (bool): If True, function will query the user to manually set the desired joint positions\n",
    "            while running the simulator. Otherwise, function will use \"q_cmd\" as the target joint position.\n",
    "        q_cmd (np.ndarray): Shape (3,). Desired positions of the three movable joints on the 2D robot.\n",
    "            \"q_cmd\" cannot be None if \"interactive\" is set to False.\n",
    "    \"\"\"\n",
    "    assert (not interactive and q_cmd is not None) or interactive, 'Variable \"q_cmd\" must not be None if the function is run in non-interactive mode'\n",
    "\n",
    "    builder = DiagramBuilder()\n",
    "\n",
    "    time_step = 0.001\n",
    "    station = builder.AddSystem(\n",
    "        MakeManipulationStation(model_directives, time_step=time_step))\n",
    "\n",
    "    # Add a meshcat visualizer.\n",
    "    visualizer = MeshcatVisualizer.AddToBuilder(\n",
    "        builder, \n",
    "        station.GetOutputPort(\"query_object\"),\n",
    "        meshcat)\n",
    "    meshcat.Set2dRenderMode(xmin=-0.25, xmax=1.5, ymin=-0.1, ymax=1.3)\n",
    "\n",
    "    #######################################################################\n",
    "    # Your code here \n",
    "    # (setup the diagram, simulation, and necessary contexts)\n",
    "\n",
    "    diagram = builder.Build()\n",
    "    simulator = Simulator(diagram)\n",
    "    context = simulator.get_mutable_context()\n",
    "    station_context = station.GetMyMutableContextFromRoot(context)\n",
    "\n",
    "    #######################################################################\n",
    "\n",
    "    if simulator is None:\n",
    "        print(\"You must set the simulator variable above\")\n",
    "        return station, context\n",
    "        \n",
    "    simulator.set_target_realtime_rate(1.0 if interactive else 0)\n",
    "    meshcat.AddButton(\"Stop Simulation\")\n",
    "    while meshcat.GetButtonClicks(\"Stop Simulation\") < 1:\n",
    "        simulator.AdvanceTo(simulator.get_context().get_time() + 2.0)       \n",
    "\n",
    "        #######################################################################\n",
    "        # Your code here \n",
    "        # (read the current measured joint angles into the variable `q_current`)\n",
    "        # (hint: what output ports does the `station` instance have available?)\n",
    "        \n",
    "        q_current = station.GetOutputPort('iiwa_position_measured').Eval(station_context)\n",
    "        print(f'Current joint angles: {q_current}')            \n",
    "\n",
    "        ####################################################################### \n",
    "\n",
    "        if interactive and running_as_notebook:\n",
    "            j1_input = input(f'Please enter value for first movable joint (current value: {q_current[0]:.3f})')\n",
    "            j2_input = input(f'Please enter value for second movable joint (current value: {q_current[1]:.3f})')\n",
    "            j3_input = input(f'Please enter value for third movable joint (current value: {q_current[2]:.3f})') \n",
    "            j_inputs = [j1_input, j2_input, j3_input]\n",
    "            q_cmd = q_current.copy()\n",
    "            for j_idx, j_inp in enumerate(j_inputs):\n",
    "                try:\n",
    "                    j_val = float(j_inp)\n",
    "                except Exception as e:\n",
    "                    print(e)\n",
    "                    print(f'Setting joint {j_idx} value to current joint value')\n",
    "                    j_val = q_cmd[j_idx]\n",
    "                q_cmd[j_idx] = j_val                      \n",
    "\n",
    "        #######################################################################\n",
    "        # Your code here \n",
    "        # (command the desired joint positions, and read the joint angle command into variable `q_current_cmd`)\n",
    "        \n",
    "        station.GetInputPort('iiwa_position').FixValue(station_context, q_cmd)\n",
    "        q_current_cmd = station.GetOutputPort('iiwa_position_commanded').Eval(station_context)\n",
    "        print(f'Current commanded joint angles: {q_current_cmd}\\n')\n",
    "\n",
    "        #######################################################################  \n",
    "\n",
    "        if not interactive or not running_as_notebook:\n",
    "            break\n",
    "            \n",
    "    meshcat.DeleteButton(\"Stop Simulation\")\n",
    "        \n",
    "    return station, context\n",
    "\n",
    "teleop_2d_direct(True);"
   ]
  },
  {
   "cell_type": "code",
   "execution_count": 20,
   "id": "14ba4a4d",
   "metadata": {},
   "outputs": [
    {
     "name": "stdout",
     "output_type": "stream",
     "text": [
      "Total score is 5/5.\n",
      "\n",
      "Score for Test iiwa_position_measured is 5/5.\n",
      "- Current joint angles: [-0.00027473  0.00180615 -0.00333018]\n",
      "Current commanded joint angles: [0.1 0.2 0.3]\n",
      "\n",
      "\n"
     ]
    }
   ],
   "source": [
    "from manipulation.exercises.grader import Grader\n",
    "from manipulation.exercises.robot.test_direct_joint_control import \\\n",
    "    TestDirectJointControl\n",
    "\n",
    "Grader.grade_output([TestDirectJointControl], [locals()], 'results.json')\n",
    "Grader.print_test_results('results.json')"
   ]
  }
 ],
 "metadata": {
  "kernelspec": {
   "display_name": "robot_manipulator",
   "language": "python",
   "name": "robot_manipulator"
  },
  "language_info": {
   "codemirror_mode": {
    "name": "ipython",
    "version": 3
   },
   "file_extension": ".py",
   "mimetype": "text/x-python",
   "name": "python",
   "nbconvert_exporter": "python",
   "pygments_lexer": "ipython3",
   "version": "3.10.6"
  }
 },
 "nbformat": 4,
 "nbformat_minor": 5
}
