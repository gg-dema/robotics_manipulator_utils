{
 "cells": [
  {
   "cell_type": "code",
   "execution_count": 13,
   "id": "11a5b33b",
   "metadata": {},
   "outputs": [],
   "source": [
    "import numpy as np\n",
    "import pydot\n",
    "from IPython.display import HTML, SVG\n",
    "\n",
    "from manipulation import FindResource\n",
    "from manipulation.scenarios import MakeManipulationStation\n",
    "\n",
    "from pydrake.all import StartMeshcat\n",
    "from pydrake.geometry import MeshcatVisualizer\n",
    "from pydrake.systems.analysis import Simulator\n",
    "from pydrake.systems.framework import (DiagramBuilder, \n",
    "                                      GenerateHtml)"
   ]
  },
  {
   "cell_type": "code",
   "execution_count": 5,
   "id": "63fa913c",
   "metadata": {},
   "outputs": [
    {
     "name": "stderr",
     "output_type": "stream",
     "text": [
      "INFO:drake:Meshcat listening for connections at http://localhost:7002\n"
     ]
    }
   ],
   "source": [
    "meshcat = StartMeshcat()"
   ]
  },
  {
   "cell_type": "code",
   "execution_count": 6,
   "id": "8c2bc2cd",
   "metadata": {},
   "outputs": [],
   "source": [
    "station = MakeManipulationStation(\n",
    "    filename=FindResource('models/clutter.dmd.yaml')\n",
    ")\n",
    "plant = station.GetSubsystemByName('plant')"
   ]
  },
  {
   "cell_type": "code",
   "execution_count": 7,
   "id": "f1c8a309",
   "metadata": {},
   "outputs": [
    {
     "data": {
      "text/plain": [
       "<pydrake.systems.analysis.SimulatorStatus at 0x7fea7df51fb0>"
      ]
     },
     "execution_count": 7,
     "metadata": {},
     "output_type": "execute_result"
    }
   ],
   "source": [
    "builder = DiagramBuilder()\n",
    "builder.AddSystem(station)\n",
    "\n",
    "MeshcatVisualizer.AddToBuilder(\n",
    "    builder, station.GetOutputPort('query_object'), meshcat\n",
    ")\n",
    "\n",
    "diagram = builder.Build()\n",
    "simulator = Simulator(diagram)\n",
    "simulator.Initialize()"
   ]
  },
  {
   "cell_type": "code",
   "execution_count": 8,
   "id": "32cd7718",
   "metadata": {},
   "outputs": [],
   "source": [
    "context = diagram.CreateDefaultContext()\n",
    "plant_context = plant.GetMyMutableContextFromRoot(context)\n",
    "station_context = station.GetMyMutableContextFromRoot(context)"
   ]
  },
  {
   "cell_type": "code",
   "execution_count": 14,
   "id": "6e77b7a6",
   "metadata": {},
   "outputs": [
    {
     "data": {
      "image/svg+xml": [
       "<svg xmlns=\"http://www.w3.org/2000/svg\" xmlns:xlink=\"http://www.w3.org/1999/xlink\" width=\"911pt\" height=\"457pt\" viewBox=\"0.00 0.00 911.00 457.00\">\n",
       "<g id=\"graph0\" class=\"graph\" transform=\"scale(1 1) rotate(0) translate(4 453)\">\n",
       "<title>_93960506744672</title>\n",
       "<polygon fill=\"white\" stroke=\"transparent\" points=\"-4,4 -4,-453 907,-453 907,4 -4,4\"/>\n",
       "<g id=\"clust1\" class=\"cluster\">\n",
       "<title>cluster93960506744672diagram</title>\n",
       "<polygon fill=\"none\" stroke=\"black\" points=\"8,-8 8,-441 895,-441 895,-8 8,-8\"/>\n",
       "<text text-anchor=\"middle\" x=\"451.5\" y=\"-425.8\" font-family=\"Times,serif\" font-size=\"14.00\">diagram</text>\n",
       "</g>\n",
       "<g id=\"clust4\" class=\"cluster\">\n",
       "<title>cluster93960506744672subsystems</title>\n",
       "<polygon fill=\"none\" stroke=\"white\" points=\"16,-16 16,-410 887,-410 887,-16 16,-16\"/>\n",
       "</g>\n",
       "<!-- 93960506420800 -->\n",
       "<g id=\"node1\" class=\"node\">\n",
       "<title>93960506420800</title>\n",
       "<polygon fill=\"none\" stroke=\"black\" points=\"24,-79 24,-401 421,-401 421,-79 24,-79\"/>\n",
       "<text text-anchor=\"middle\" x=\"222.5\" y=\"-385.8\" font-family=\"Times,serif\" font-size=\"14.00\">ManipulationStation</text>\n",
       "<polyline fill=\"none\" stroke=\"black\" points=\"24,-378 421,-378 \"/>\n",
       "<text text-anchor=\"middle\" x=\"121\" y=\"-337.3\" font-family=\"Times,serif\" font-size=\"14.00\">iiwa_position</text>\n",
       "<polyline fill=\"none\" stroke=\"black\" points=\"24,-304 218,-304 \"/>\n",
       "<text text-anchor=\"middle\" x=\"121\" y=\"-262.8\" font-family=\"Times,serif\" font-size=\"14.00\">iiwa_feedforward_torque</text>\n",
       "<polyline fill=\"none\" stroke=\"black\" points=\"24,-229 218,-229 \"/>\n",
       "<text text-anchor=\"middle\" x=\"121\" y=\"-187.8\" font-family=\"Times,serif\" font-size=\"14.00\">wsg_position</text>\n",
       "<polyline fill=\"none\" stroke=\"black\" points=\"24,-154 218,-154 \"/>\n",
       "<text text-anchor=\"middle\" x=\"121\" y=\"-112.8\" font-family=\"Times,serif\" font-size=\"14.00\">wsg_force_limit</text>\n",
       "<polyline fill=\"none\" stroke=\"black\" points=\"218,-79 218,-378 \"/>\n",
       "<text text-anchor=\"middle\" x=\"319.5\" y=\"-362.8\" font-family=\"Times,serif\" font-size=\"14.00\">iiwa_position_commanded</text>\n",
       "<polyline fill=\"none\" stroke=\"black\" points=\"218,-355 421,-355 \"/>\n",
       "<text text-anchor=\"middle\" x=\"319.5\" y=\"-339.8\" font-family=\"Times,serif\" font-size=\"14.00\">iiwa_position_measured</text>\n",
       "<polyline fill=\"none\" stroke=\"black\" points=\"218,-332 421,-332 \"/>\n",
       "<text text-anchor=\"middle\" x=\"319.5\" y=\"-316.8\" font-family=\"Times,serif\" font-size=\"14.00\">iiwa_velocity_estimated</text>\n",
       "<polyline fill=\"none\" stroke=\"black\" points=\"218,-309 421,-309 \"/>\n",
       "<text text-anchor=\"middle\" x=\"319.5\" y=\"-293.8\" font-family=\"Times,serif\" font-size=\"14.00\">iiwa_state_estimated</text>\n",
       "<polyline fill=\"none\" stroke=\"black\" points=\"218,-286 421,-286 \"/>\n",
       "<text text-anchor=\"middle\" x=\"319.5\" y=\"-270.8\" font-family=\"Times,serif\" font-size=\"14.00\">iiwa_torque_commanded</text>\n",
       "<polyline fill=\"none\" stroke=\"black\" points=\"218,-263 421,-263 \"/>\n",
       "<text text-anchor=\"middle\" x=\"319.5\" y=\"-247.8\" font-family=\"Times,serif\" font-size=\"14.00\">iiwa_torque_measured</text>\n",
       "<polyline fill=\"none\" stroke=\"black\" points=\"218,-240 421,-240 \"/>\n",
       "<text text-anchor=\"middle\" x=\"319.5\" y=\"-224.8\" font-family=\"Times,serif\" font-size=\"14.00\">iiwa_torque_external</text>\n",
       "<polyline fill=\"none\" stroke=\"black\" points=\"218,-217 421,-217 \"/>\n",
       "<text text-anchor=\"middle\" x=\"319.5\" y=\"-201.8\" font-family=\"Times,serif\" font-size=\"14.00\">wsg_state_measured</text>\n",
       "<polyline fill=\"none\" stroke=\"black\" points=\"218,-194 421,-194 \"/>\n",
       "<text text-anchor=\"middle\" x=\"319.5\" y=\"-178.8\" font-family=\"Times,serif\" font-size=\"14.00\">wsg_force_measured</text>\n",
       "<polyline fill=\"none\" stroke=\"black\" points=\"218,-171 421,-171 \"/>\n",
       "<text text-anchor=\"middle\" x=\"319.5\" y=\"-155.8\" font-family=\"Times,serif\" font-size=\"14.00\">query_object</text>\n",
       "<polyline fill=\"none\" stroke=\"black\" points=\"218,-148 421,-148 \"/>\n",
       "<text text-anchor=\"middle\" x=\"319.5\" y=\"-132.8\" font-family=\"Times,serif\" font-size=\"14.00\">contact_results</text>\n",
       "<polyline fill=\"none\" stroke=\"black\" points=\"218,-125 421,-125 \"/>\n",
       "<text text-anchor=\"middle\" x=\"319.5\" y=\"-109.8\" font-family=\"Times,serif\" font-size=\"14.00\">plant_continuous_state</text>\n",
       "<polyline fill=\"none\" stroke=\"black\" points=\"218,-102 421,-102 \"/>\n",
       "<text text-anchor=\"middle\" x=\"319.5\" y=\"-86.8\" font-family=\"Times,serif\" font-size=\"14.00\">body_poses</text>\n",
       "</g>\n",
       "<!-- 93960518915712 -->\n",
       "<g id=\"node2\" class=\"node\">\n",
       "<title>93960518915712</title>\n",
       "<polygon fill=\"none\" stroke=\"black\" points=\"457,-148 457,-194 879,-194 879,-148 457,-148\"/>\n",
       "<text text-anchor=\"middle\" x=\"668\" y=\"-178.8\" font-family=\"Times,serif\" font-size=\"14.00\">drake/geometry/MeshcatVisualizer@00005574e35a5680</text>\n",
       "<polyline fill=\"none\" stroke=\"black\" points=\"457,-171 879,-171 \"/>\n",
       "<text text-anchor=\"middle\" x=\"584\" y=\"-155.8\" font-family=\"Times,serif\" font-size=\"14.00\">query_object</text>\n",
       "<polyline fill=\"none\" stroke=\"black\" points=\"711,-148 711,-171 \"/>\n",
       "<text text-anchor=\"middle\" x=\"795\" y=\"-155.8\" font-family=\"Times,serif\" font-size=\"14.00\"> </text>\n",
       "</g>\n",
       "<!-- 93960506420800&#45;&gt;93960518915712 -->\n",
       "<g id=\"edge1\" class=\"edge\">\n",
       "<title>93960506420800:y9-&gt;93960518915712:u0</title>\n",
       "<path fill=\"none\" stroke=\"black\" d=\"M421,-159C433,-159 438.25,-159 446.88,-159\"/>\n",
       "<polygon fill=\"black\" stroke=\"black\" points=\"447,-162.5 457,-159 447,-155.5 447,-162.5\"/>\n",
       "</g>\n",
       "<!-- \\n -->\n",
       "<g id=\"node3\" class=\"node\">\n",
       "<title>\\n</title>\n",
       "<ellipse fill=\"none\" stroke=\"black\" cx=\"222.5\" cy=\"-42\" rx=\"27\" ry=\"18\"/>\n",
       "</g>\n",
       "</g>\n",
       "</svg>"
      ],
      "text/plain": [
       "<IPython.core.display.SVG object>"
      ]
     },
     "metadata": {},
     "output_type": "display_data"
    }
   ],
   "source": [
    "display(SVG(\n",
    "    pydot.graph_from_dot_data(\n",
    "        diagram.GetGraphvizString(max_depth=1)\n",
    "    )[0].create_svg()\n",
    "))"
   ]
  },
  {
   "cell_type": "code",
   "execution_count": 22,
   "id": "c3e8d3a9",
   "metadata": {},
   "outputs": [
    {
     "data": {
      "text/plain": [
       "array([-1.57,  0.1 ,  0.  , -1.2 ,  0.  ,  1.6 ,  0.  ])"
      ]
     },
     "execution_count": 22,
     "metadata": {},
     "output_type": "execute_result"
    }
   ],
   "source": [
    "q0 = np.array([-1.57, 0.1, 0, -1.2, 0, 1.6, 0])\n",
    "iiwa = plant.GetModelInstanceByName(\"iiwa\")\n",
    "plant.SetPositions(plant_context, iiwa, q0)\n",
    "station.GetOutputPort('iiwa_position_measured').Eval(station_context)"
   ]
  },
  {
   "cell_type": "code",
   "execution_count": 27,
   "id": "55616f11",
   "metadata": {},
   "outputs": [
    {
     "name": "stdout",
     "output_type": "stream",
     "text": [
      "[-1.57, 0.1, 0.0, -1.2, 0.0, 1.6, 0.0]\n",
      "[-1.57  0.1   0.   -1.2   0.    1.6   0.  ]\n"
     ]
    }
   ],
   "source": [
    "joint_angles = []\n",
    "for i in range(1, 8):\n",
    "    joint_angles.append(\n",
    "            plant.GetJointByName(f'iiwa_joint_{i}').get_angle(plant_context)\n",
    "    )\n",
    "\n",
    "q_general = plant.GetPositions(plant_context, iiwa)\n",
    "print(joint_angles)\n",
    "print(q_general)"
   ]
  },
  {
   "cell_type": "code",
   "execution_count": 28,
   "id": "0abe7949",
   "metadata": {},
   "outputs": [],
   "source": [
    "plant.SetVelocities(plant_context, iiwa, np.zeros(7,))"
   ]
  },
  {
   "cell_type": "code",
   "execution_count": 29,
   "id": "2a11ec54",
   "metadata": {},
   "outputs": [],
   "source": [
    "def get_velocity(station, station_context): \n",
    "    return station.GetOutputPort('iiwa_velocity_estimated').Eval(station_context)\n"
   ]
  },
  {
   "cell_type": "code",
   "execution_count": 31,
   "id": "c1f08631",
   "metadata": {},
   "outputs": [
    {
     "name": "stdout",
     "output_type": "stream",
     "text": [
      "Total score is 5/5.\n",
      "\n",
      "Score for Test get_velocity implementation is 5/5.\n"
     ]
    }
   ],
   "source": [
    "from manipulation.exercises.robot.test_manipulation_io import TestManipulationIO\n",
    "from manipulation.exercises.grader import Grader\n",
    "\n",
    "Grader.grade_output([TestManipulationIO], [locals()], 'results.json')\n",
    "Grader.print_test_results('results.json')"
   ]
  },
  {
   "cell_type": "code",
   "execution_count": 32,
   "id": "cd72bfac",
   "metadata": {},
   "outputs": [],
   "source": [
    "station.GetInputPort('iiwa_feedforward_torque').FixValue(\n",
    "    station_context, np.zeros(7, )\n",
    ")\n",
    "tau_no_ff = station.GetOutputPort('iiwa_torque_commanded').Eval(station_context)"
   ]
  },
  {
   "cell_type": "code",
   "execution_count": 33,
   "id": "8cb9926c",
   "metadata": {},
   "outputs": [
    {
     "name": "stdout",
     "output_type": "stream",
     "text": [
      "feedforward torque: [0. 0. 0. 0. 0. 0. 0.]\n",
      "commanded torque with no feedforward torque:[ 201.78302449 -304.19422994  180.39754534  260.12399618   23.98637583\n",
      " -155.37553482  -73.56331118]\n"
     ]
    }
   ],
   "source": [
    "print('feedforward torque: {}'.format(np.zeros(7,)))\n",
    "print('commanded torque with no feedforward torque:{}'.format(tau_no_ff))"
   ]
  },
  {
   "cell_type": "code",
   "execution_count": 39,
   "id": "fd85e530",
   "metadata": {},
   "outputs": [
    {
     "name": "stdout",
     "output_type": "stream",
     "text": [
      "feedforward torque: [3.1 3.2 3.3 3.4 3.5 3.6 3.7]\n",
      "the commanded torque: [ 204.88302449 -300.99422994  183.69754534  263.52399618   27.48637583\n",
      " -151.77553482  -69.86331118]\n"
     ]
    }
   ],
   "source": [
    "# same of before, but different input torque\n",
    "tau_ff = np.linspace(3.1, 3.7, 7)\n",
    "station.GetInputPort(\"iiwa_feedforward_torque\").FixValue(\n",
    "    station_context, tau_ff)\n",
    "torque_commanded = station.GetOutputPort(\"iiwa_torque_commanded\").Eval(\n",
    "    station_context)\n",
    "\n",
    "print('feedforward torque: {}'.format(tau_ff))\n",
    "print('the commanded torque: {}'.format(torque_commanded))"
   ]
  }
 ],
 "metadata": {
  "kernelspec": {
   "display_name": "robot_manipulator",
   "language": "python",
   "name": "robot_manipulator"
  },
  "language_info": {
   "codemirror_mode": {
    "name": "ipython",
    "version": 3
   },
   "file_extension": ".py",
   "mimetype": "text/x-python",
   "name": "python",
   "nbconvert_exporter": "python",
   "pygments_lexer": "ipython3",
   "version": "3.10.6"
  }
 },
 "nbformat": 4,
 "nbformat_minor": 5
}
