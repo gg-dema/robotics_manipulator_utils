{
 "cells": [
  {
   "cell_type": "code",
   "execution_count": 1,
   "id": "5e9a1025",
   "metadata": {},
   "outputs": [],
   "source": [
    "import numpy as np\n",
    "import logging \n",
    "#3D viewer from js\n",
    "from pydrake.geometry import MeshcatVisualizer, StartMeshcat\n",
    "from pydrake.math import RigidTransform, RotationMatrix\n",
    "from pydrake.systems.analysis import Simulator \n",
    "from pydrake.systems.framework import DiagramBuilder\n",
    "\n",
    "from manipulation import running_as_notebook\n",
    "from manipulation.meshcat_utils import MeshcatPoseSliders, WsgButton \n",
    "from manipulation.scenarios import (AddIiwaDifferentialIK, \n",
    "                                   MakeManipulationStation)"
   ]
  },
  {
   "cell_type": "code",
   "execution_count": null,
   "id": "2c2a138d",
   "metadata": {},
   "outputs": [],
   "source": []
  },
  {
   "cell_type": "code",
   "execution_count": 2,
   "id": "e642154f",
   "metadata": {},
   "outputs": [
    {
     "name": "stderr",
     "output_type": "stream",
     "text": [
      "INFO:drake:Meshcat listening for connections at http://localhost:7000\n"
     ]
    }
   ],
   "source": [
    "meshcat = StartMeshcat() #from pydrake.geometry"
   ]
  },
  {
   "cell_type": "code",
   "execution_count": 3,
   "id": "371c0531",
   "metadata": {},
   "outputs": [
    {
     "data": {
      "text/plain": [
       "7000"
      ]
     },
     "execution_count": 3,
     "metadata": {},
     "output_type": "execute_result"
    }
   ],
   "source": [
    "meshcat.port()"
   ]
  },
  {
   "cell_type": "code",
   "execution_count": null,
   "id": "11f6114e",
   "metadata": {},
   "outputs": [],
   "source": []
  },
  {
   "cell_type": "code",
   "execution_count": 4,
   "id": "b98ec854",
   "metadata": {},
   "outputs": [],
   "source": [
    "model_directives = \"\"\"\n",
    "directives:\n",
    "- add_model:\n",
    "    name: iiwa\n",
    "    file: package://drake/manipulation/models/iiwa_description/urdf/planar_iiwa14_spheres_dense_elbow_collision.urdf\n",
    "    default_joint_positions:\n",
    "        iiwa_joint_2: [0.1]\n",
    "        iiwa_joint_4: [-1.2]\n",
    "        iiwa_joint_6: [1.6]\n",
    "- add_weld:\n",
    "    parent: world\n",
    "    child: iiwa::iiwa_link_0\n",
    "- add_model:\n",
    "    name: wsg\n",
    "    file: package://drake/manipulation/models/wsg_50_description/sdf/schunk_wsg_50_with_tip.sdf\n",
    "- add_weld:\n",
    "    parent: iiwa::iiwa_link_7\n",
    "    child: wsg::body\n",
    "    X_PC:\n",
    "        translation: [0, 0, 0.09]\n",
    "        rotation: !Rpy { deg: [90, 0, 90]}\n",
    "- add_model:\n",
    "    name: foam_brick\n",
    "    file: package://drake/examples/manipulation_station/models/061_foam_brick.sdf\n",
    "    default_free_body_pose:\n",
    "        base_link:\n",
    "            translation: [0.6, 0, 0]\n",
    "- add_model:\n",
    "    name: robot_table\n",
    "    file: package://drake/examples/kuka_iiwa_arm/models/table/extra_heavy_duty_table_surface_only_collision.sdf\n",
    "- add_weld:\n",
    "    parent: world\n",
    "    child: robot_table::link\n",
    "    X_PC:\n",
    "        translation: [0, 0, -0.7645]\n",
    "- add_model:\n",
    "    name: work_table\n",
    "    file: package://drake/examples/kuka_iiwa_arm/models/table/extra_heavy_duty_table_surface_only_collision.sdf\n",
    "- add_weld:\n",
    "    parent: world\n",
    "    child: work_table::link\n",
    "    X_PC:\n",
    "        translation: [0.75, 0, -0.7645]\n",
    "\"\"\""
   ]
  },
  {
   "cell_type": "code",
   "execution_count": 10,
   "id": "d45bf2dd",
   "metadata": {},
   "outputs": [],
   "source": [
    "builder = DiagramBuilder()\n",
    "station = builder.AddSystem(MakeManipulationStation(model_directives, time_step=0.0001))\n"
   ]
  },
  {
   "cell_type": "code",
   "execution_count": null,
   "id": "168b11f5",
   "metadata": {},
   "outputs": [],
   "source": []
  },
  {
   "cell_type": "code",
   "execution_count": 4,
   "id": "01a8a08b",
   "metadata": {},
   "outputs": [],
   "source": [
    "def teleop_2d():\n",
    "    builder = DiagramBuilder() #system.framework\n",
    "    \n",
    "    time_step = 0.001\n",
    "    station = builder.AddSystem(\n",
    "        MakeManipulationStation(model_directives, time_step=time_step)\n",
    "    )\n",
    "    plant = station.GetSubsystemByName('plant')\n",
    "    controller_plant = station.GetSubsystemByName(\n",
    "        \"iiwa_controller\"\n",
    "    ).get_multibody_plant_for_control()\n",
    "    \n",
    "    \n",
    "    # still from pydrake\n",
    "    # rendering part: \n",
    "    visualizer = MeshcatVisualizer.AddToBuilder(\n",
    "        builder, station.GetOutputPort(\"query_object\"), meshcat\n",
    "    )\n",
    "    meshcat.Set2dRenderMode(xmin=-0.25, xmax=1.5, ymin=-0.1, ymax=1.3)\n",
    "    meshcat.DeleteAddedControls()\n",
    "    \n",
    "    # Differential Inverse Kinematics part ---> q' = J^-1 * r' : \n",
    "    # addIiwaDifferentialIK comes from manipulation \n",
    "    differential_ik = AddIiwaDifferentialIK(\n",
    "        builder, \n",
    "        controller_plant, \n",
    "        frame=controller_plant.GetFrameByName('iiwa_link_7')\n",
    "    )\n",
    "    # connect system ---> note that it's done by port\n",
    "    builder.Connect(\n",
    "        differential_ik.get_output_port(), \n",
    "        station.GetInputPort(\"iiwa_position\")\n",
    "    )\n",
    "    builder.Connect(\n",
    "        station.GetOutputPort(\"iiwa_state_estimated\"),\n",
    "        differential_ik.GetInputPort(\"robot_state\")\n",
    "    )\n",
    "    \n",
    "    \n",
    "    # Teleop widgets: \n",
    "    teleop = builder.AddSystem(\n",
    "        \n",
    "        MeshcatPoseSliders(\n",
    "            meshcat, \n",
    "            min_range=MeshcatPoseSliders.MinRange(roll=0, x=-0.6, z=0.0),\n",
    "            max_range=MeshcatPoseSliders.MaxRange(roll=2 * np.pi, x=0.8, z=1.1),\n",
    "            value=MeshcatPoseSliders.Value(pitch=0, yaw=np.pi / 2, y=0),\n",
    "            visible=MeshcatPoseSliders.Visible(pitch=False, yaw=False, y=False),\n",
    "            decrement_keycode=MeshcatPoseSliders.DecrementKey(\n",
    "                x=\"ArrowLeft\",\n",
    "                z=\"ArrowDown\"),\n",
    "            increment_keycode=MeshcatPoseSliders.IncrementKey(\n",
    "                x=\"ArrowRight\",\n",
    "                z=\"ArrowUp\"),\n",
    "            body_index=plant.GetBodyByName(\"iiwa_link_7\").index()\n",
    "        )\n",
    "    )\n",
    "    \n",
    "    builder.Connect(\n",
    "        teleop.get_output_port(0),\n",
    "        differential_ik.get_input_port(0)\n",
    "    )\n",
    "    builder.Connect(\n",
    "        station.GetOutputPort('body_poses'), \n",
    "        teleop.GetInputPort('body_poses')\n",
    "    )\n",
    "    # from manipulation \n",
    "    wsg_teleop = builder.AddSystem(WsgButton(meshcat))\n",
    "    builder.Connect(wsg_teleop.get_output_port(0), \n",
    "                   station.GetInputPort(\"wsg_position\"))\n",
    "    \n",
    "    diagram = builder.Build()\n",
    "    simulator = Simulator(diagram)\n",
    "    \n",
    "    \n",
    "    \n",
    "    \n",
    "    if running_as_notebook:  # Then we're not just running as a test on CI.\n",
    "        simulator.set_target_realtime_rate(1.0)\n",
    "        meshcat.AddButton(\"Stop Simulation\", \"Escape\")\n",
    "        print(\"Press Escape to stop the simulation\")\n",
    "        while meshcat.GetButtonClicks(\"Stop Simulation\") < 1:\n",
    "            simulator.AdvanceTo(simulator.get_context().get_time() + 2.0)\n",
    "        meshcat.DeleteButton(\"Stop Simulation\")\n",
    "    else:\n",
    "        simulator.AdvanceTo(0.1)\n",
    "    \n"
   ]
  },
  {
   "cell_type": "code",
   "execution_count": null,
   "id": "f505ad7f",
   "metadata": {},
   "outputs": [],
   "source": [
    "teleop_2d()"
   ]
  }
 ],
 "metadata": {
  "kernelspec": {
   "display_name": "robot_manipulator",
   "language": "python",
   "name": "robot_manipulator"
  },
  "language_info": {
   "codemirror_mode": {
    "name": "ipython",
    "version": 3
   },
   "file_extension": ".py",
   "mimetype": "text/x-python",
   "name": "python",
   "nbconvert_exporter": "python",
   "pygments_lexer": "ipython3",
   "version": "3.10.6"
  }
 },
 "nbformat": 4,
 "nbformat_minor": 5
}
