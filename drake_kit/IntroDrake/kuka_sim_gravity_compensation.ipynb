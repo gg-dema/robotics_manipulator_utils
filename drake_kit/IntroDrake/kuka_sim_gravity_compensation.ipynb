{
 "cells": [
  {
   "cell_type": "code",
   "execution_count": 113,
   "id": "d0d58e54",
   "metadata": {},
   "outputs": [],
   "source": [
    "import numpy as np\n",
    "from pydrake.geometry import StartMeshcat, MeshcatVisualizer\n",
    "from pydrake.multibody.plant import (AddMultibodyPlantSceneGraph, \n",
    "                                     MultibodyPlant)\n",
    "\n",
    "from pydrake.multibody.parsing import Parser\n",
    "from pydrake.systems.framework import DiagramBuilder\n",
    "from pydrake.systems.analysis import Simulator\n",
    "from pydrake.systems.controllers import InverseDynamicsController\n",
    "from pydrake.systems.controllers import InverseDynamics\n",
    "from pydrake.common import FindResourceOrThrow"
   ]
  },
  {
   "cell_type": "code",
   "execution_count": 2,
   "id": "1b2a5001",
   "metadata": {},
   "outputs": [
    {
     "name": "stderr",
     "output_type": "stream",
     "text": [
      "INFO:drake:Meshcat listening for connections at http://localhost:7004\n"
     ]
    }
   ],
   "source": [
    "meshcat = StartMeshcat()"
   ]
  },
  {
   "cell_type": "code",
   "execution_count": 41,
   "id": "c76f636f",
   "metadata": {},
   "outputs": [],
   "source": [
    "# generic system\n",
    "robot_path_fileDescription = FindResourceOrThrow(\"drake/manipulation/models/iiwa_description/sdf/iiwa14_no_collision.sdf\")\n",
    "\n",
    "plant = MultibodyPlant(time_step=1e-4)\n",
    "#load the robot inside the multibody_plant\n",
    "# multibody can contains several \n",
    "Parser(plant).AddModelFromFile(robot_path_fileDescription)\n",
    "\n",
    "plant.WeldFrames(plant.world_frame(), plant.GetFrameByName('iiwa_link_0'))\n",
    "plant.Finalize()"
   ]
  },
  {
   "cell_type": "code",
   "execution_count": 10,
   "id": "721c7364",
   "metadata": {},
   "outputs": [
    {
     "data": {
      "text/plain": [
       "pydrake.multibody.tree.BodyFrame_[float]"
      ]
     },
     "execution_count": 10,
     "metadata": {},
     "output_type": "execute_result"
    }
   ],
   "source": [
    ".GetFrameByName('iiwa_link_0'))"
   ]
  },
  {
   "cell_type": "code",
   "execution_count": 42,
   "id": "45a89d2a",
   "metadata": {},
   "outputs": [
    {
     "name": "stdout",
     "output_type": "stream",
     "text": [
      "[0.0, 0.0, 0.0, 0.0, 0.0, 0.0, 0.0, 0.0, 0.0, 0.0, 0.0, 0.0, 0.0, 0.0]\n",
      "random_config\n",
      "[-0.5191832628275186, -1.730375684753413, -0.24739189137669243, -0.42090212713912284, -0.16624825195448642, -0.42427593384013496, -0.11628720021119471, 0.0, 0.0, 0.0, 0.0, 0.0, 0.0, 0.0]\n"
     ]
    }
   ],
   "source": [
    "# generic drake framework: system ---> function f(context)\n",
    "# context ---> state\n",
    "\n",
    "context = plant.CreateDefaultContext()\n",
    "print(context.get_discrete_state_vector())\n",
    "# all 0 --> position and velocity for each var\n",
    "# aka q, q_dot --> 7dof times 2\n",
    "\n",
    "# set position of joint: \n",
    "print('random_config')\n",
    "plant.SetPositions(context, np.random.randn(7))\n",
    "print(context.get_discrete_state_vector())"
   ]
  },
  {
   "cell_type": "code",
   "execution_count": 43,
   "id": "a5dd3cdd",
   "metadata": {},
   "outputs": [
    {
     "data": {
      "text/plain": [
       "<pydrake.systems.framework.FixedInputPortValue at 0x7fa387be6170>"
      ]
     },
     "execution_count": 43,
     "metadata": {},
     "output_type": "execute_result"
    }
   ],
   "source": [
    "# input value for actuator: \n",
    "plant.get_actuation_input_port().FixValue(context, np.zeros(7))"
   ]
  },
  {
   "cell_type": "code",
   "execution_count": 44,
   "id": "14740beb",
   "metadata": {},
   "outputs": [
    {
     "name": "stdout",
     "output_type": "stream",
     "text": [
      "[-0.41354386093118506, -2.095336220256333, -2.9670833163318355, -0.32485017067098965, -1.4284979375027322, -1.1120102354358716, 2.960670058968681, 0.3342019796410753, 0.004247256040654124, 0.0008816438801614312, 3.122700312724296, -0.4363841592025109, 5.814237375298399, -2.089584418143337]\n",
      "look for convergence (q_dot=0) ---> 30 sec of simulation\n",
      "[1.0107507783745155, 2.09556966507684, 2.9671575580210523, 0.6012664220494293, -2.7743327122226265, -1.316653199330957, -0.015713574124220534, -0.12947732270186757, 0.002241860383486116, 0.0015961033794064106, 0.8438416405930916, -7.571533915418584, 7.2038563750007345, -2.729442972094217]\n"
     ]
    }
   ],
   "source": [
    "simulator = Simulator(plant, context)\n",
    "simulator.AdvanceTo(5.0)\n",
    "print(context.get_discrete_state_vector())\n",
    "\n",
    "# ps: notice that kuka now has also some velocity at this point\n",
    "# see if exist convergence increasing simulation time\n",
    "\n",
    "# create second context\n",
    "context = plant.CreateDefaultContext()\n",
    "plant.SetPositions(context, np.random.randn(7))\n",
    "plant.get_actuation_input_port().FixValue(context, np.zeros(7))\n",
    "simulator = Simulator(plant, context)\n",
    "simulator.AdvanceTo(50.0)\n",
    "print(\"look for convergence (q_dot=0) ---> 30 sec of simulation\")\n",
    "print(context.get_discrete_state_vector())"
   ]
  },
  {
   "cell_type": "code",
   "execution_count": 45,
   "id": "598675ad",
   "metadata": {},
   "outputs": [
    {
     "name": "stdout",
     "output_type": "stream",
     "text": [
      "look for convergence (q_dot=0) ---> 30 sec of simulation\n",
      "[-0.272982640916335, 2.095919789347157, 2.967360427336056, 1.1583029993270493, 0.6286653599194674, -0.3895968624270203, -2.29363825482834, -0.058800813252463745, 4.614775556230355e-05, -1.874022126271968e-05, -0.7083843812898154, 0.6895225948808736, 0.8737295527765317, -3.0508454910593357]\n"
     ]
    }
   ],
   "source": [
    "context = plant.CreateDefaultContext()\n",
    "plant.SetPositions(context, np.random.randn(7))\n",
    "plant.get_actuation_input_port().FixValue(context, np.zeros(7))\n",
    "simulator = Simulator(plant, context)\n",
    "simulator.AdvanceTo(50.0)\n",
    "print(\"look for convergence (q_dot=0) ---> 30 sec of simulation\")\n",
    "print(context.get_discrete_state_vector())"
   ]
  },
  {
   "cell_type": "code",
   "execution_count": 245,
   "id": "ef0870e7",
   "metadata": {},
   "outputs": [],
   "source": [
    "meshcat.Delete()\n",
    "meshcat.DeleteAddedControls()\n",
    "builder = DiagramBuilder()\n",
    "\n",
    "plant, scene_graph = AddMultibodyPlantSceneGraph(builder, time_step=1e-4)\n",
    "Parser(plant, scene_graph).AddModelFromFile(robot_path_fileDescription)\n",
    "plant.WeldFrames(plant.world_frame(), plant.GetFrameByName('iiwa_link_0'))\n",
    "plant.Finalize()\n",
    "\n",
    "\n"
   ]
  },
  {
   "cell_type": "code",
   "execution_count": 246,
   "id": "a1717086",
   "metadata": {},
   "outputs": [],
   "source": [
    "visualizer = MeshcatVisualizer.AddToBuilder(builder, scene_graph, meshcat)\n",
    "diagram = builder.Build()"
   ]
  },
  {
   "cell_type": "code",
   "execution_count": 247,
   "id": "e7a5cb75",
   "metadata": {},
   "outputs": [],
   "source": [
    "context = diagram.CreateDefaultContext()\n",
    "plant_context = plant.GetMyMutableContextFromRoot(context)\n",
    "plant.SetPositions(plant_context, np.random.randn(7))\n",
    "plant.get_actuation_input_port().FixValue(plant_context, np.zeros(7))\n",
    "diagram.ForcedPublish(context)\n"
   ]
  },
  {
   "cell_type": "code",
   "execution_count": 248,
   "id": "fb461c47",
   "metadata": {},
   "outputs": [
    {
     "data": {
      "text/plain": [
       "<pydrake.systems.analysis.SimulatorStatus at 0x7fa3863f2330>"
      ]
     },
     "execution_count": 248,
     "metadata": {},
     "output_type": "execute_result"
    }
   ],
   "source": [
    "simulator = Simulator(diagram, context)\n",
    "simulator.set_target_realtime_rate(1.0)\n",
    "simulator.AdvanceTo(5.0)"
   ]
  },
  {
   "cell_type": "markdown",
   "id": "eb36950f",
   "metadata": {},
   "source": [
    "<h3> Controller part </h3>"
   ]
  },
  {
   "cell_type": "code",
   "execution_count": 209,
   "id": "4cfa8c91",
   "metadata": {},
   "outputs": [],
   "source": [
    "##############################################\n",
    "##############################################\n",
    "##############################################\n",
    "\n",
    "meshcat.Delete()\n",
    "meshcat.DeleteAddedControls()\n",
    "\n",
    "#CONTROLLER MOUNT : \n",
    " \n",
    "builder = DiagramBuilder()\n",
    "plant, scene_graph = AddMultibodyPlantSceneGraph(builder, time_step=1e-4)\n",
    "# Set plant \n",
    "robot_model = Parser(plant, scene_graph).AddAllModelsFromFile(robot_path_fileDescription)[0]\n",
    "plant.WeldFrames(plant.world_frame(), plant.GetFrameByName('iiwa_link_0'))\n",
    "plant.Finalize()\n",
    "\n",
    "visualizer = MeshcatVisualizer.AddToBuilder(builder, scene_graph, meshcat)\n",
    "\n",
    "\n",
    "'''\n",
    "TEST GRAVITY COMPENSATION \n",
    "'''\n",
    "mode = InverseDynamics.InverseDynamicsMode(1)\n",
    "controller= builder.AddSystem(InverseDynamics(plant, mode=mode))\n",
    "controller.set_name('controller')\n",
    "builder.Connect(plant.get_state_output_port(robot_model), controller.get_input_port())\n",
    "builder.Connect(controller.get_output_port(), plant.get_actuation_input_port())\n",
    "'''\n",
    "PID CONTROLLER \n",
    "kp = [100] * plant.num_positions()\n",
    "ki = [1] * plant.num_positions()\n",
    "kd = [20] * plant.num_positions()\n",
    "controller = builder.AddSystem(InverseDynamicsController(plant, kp, ki, kd, False))\n",
    "controller.set_name(\"controller\")\n",
    "builder.Connect(plant.get_state_output_port(robot_model),controller.get_input_port_estimated_state())\n",
    "builder.Connect(controller.get_output_port_control(), plant.get_actuation_input_port())\n",
    "'''\n",
    "diagram = builder.Build()"
   ]
  },
  {
   "cell_type": "code",
   "execution_count": 197,
   "id": "7bf72fd4",
   "metadata": {},
   "outputs": [
    {
     "name": "stdout",
     "output_type": "stream",
     "text": [
      "::_::controller Context\n",
      "------------------------\n",
      "Time: 0\n",
      "\n"
     ]
    }
   ],
   "source": [
    "port = controller.GetInputPort('u0')\n",
    "context = diagram.CreateDefaultContext()\n",
    "context_controller = controller.GetMyMutableContextFromRoot(context)\n",
    "print(context_controller)"
   ]
  },
  {
   "cell_type": "code",
   "execution_count": 244,
   "id": "50349a42",
   "metadata": {},
   "outputs": [
    {
     "data": {
      "text/plain": [
       "<pydrake.systems.analysis.SimulatorStatus at 0x7fa3863c8c70>"
      ]
     },
     "execution_count": 244,
     "metadata": {},
     "output_type": "execute_result"
    }
   ],
   "source": [
    "\n",
    "context = diagram.CreateDefaultContext()\n",
    "plant_context = plant.GetMyMutableContextFromRoot(context)\n",
    "q0 = np.random.rand(7)\n",
    "q0_dot = np.zeros(7)\n",
    "x0 = np.hstack((q0, q0_dot))\n",
    "\n",
    "plant.SetPositions(plant_context, q0)\n",
    "controller.GetInputPort('u0').FixValue( # gravity comp\n",
    "#controller.GetInputPort('desired_state').FixValue( # pid\n",
    "    controller.GetMyMutableContextFromRoot(context), x0\n",
    ")\n",
    "\n",
    "\n",
    "\n",
    "sim = Simulator(diagram, context)\n",
    "sim.set_target_realtime_rate(1.0)\n",
    "sim.AdvanceTo(5.0)"
   ]
  }
 ],
 "metadata": {
  "kernelspec": {
   "display_name": "robot_manipulator",
   "language": "python",
   "name": "robot_manipulator"
  },
  "language_info": {
   "codemirror_mode": {
    "name": "ipython",
    "version": 3
   },
   "file_extension": ".py",
   "mimetype": "text/x-python",
   "name": "python",
   "nbconvert_exporter": "python",
   "pygments_lexer": "ipython3",
   "version": "3.10.6"
  }
 },
 "nbformat": 4,
 "nbformat_minor": 5
}
