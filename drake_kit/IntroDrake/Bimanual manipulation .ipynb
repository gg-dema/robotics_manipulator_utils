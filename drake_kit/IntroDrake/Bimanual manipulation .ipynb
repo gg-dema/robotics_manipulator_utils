{
 "cells": [
  {
   "cell_type": "code",
   "execution_count": 1,
   "id": "35a7c57d",
   "metadata": {},
   "outputs": [],
   "source": [
    "import pydot\n",
    "from IPython.display import SVG, display\n",
    "from pydrake.all import (DiagramBuilder, \n",
    "                        MeshcatVisualizer, \n",
    "                        Simulator, \n",
    "                        StartMeshcat)\n",
    "from manipulation.scenarios import MakeManipulationStation "
   ]
  },
  {
   "cell_type": "code",
   "execution_count": 2,
   "id": "9bd3c5d9",
   "metadata": {},
   "outputs": [
    {
     "name": "stderr",
     "output_type": "stream",
     "text": [
      "INFO:drake:Meshcat listening for connections at http://localhost:7000\n"
     ]
    }
   ],
   "source": [
    "meshcat = StartMeshcat()"
   ]
  },
  {
   "cell_type": "code",
   "execution_count": 3,
   "id": "6f0087f4",
   "metadata": {},
   "outputs": [],
   "source": [
    "model_directives = '''\n",
    "directives: \n",
    "- add_model: \n",
    "    name: iiwa0\n",
    "    file: package://drake/manipulation/models/iiwa_description/iiwa7/iiwa7_no_collision.sdf\n",
    "    default_joint_positions:\n",
    "        iiwa_joint_1: [-1.57]\n",
    "        iiwa_joint_2: [0.1]\n",
    "        iiwa_joint_3: [0]\n",
    "        iiwa_joint_4: [-1.2]\n",
    "        iiwa_joint_5: [0]\n",
    "        iiwa_joint_6: [1.6]\n",
    "        iiwa_joint_7: [0]\n",
    "- add_weld:\n",
    "    parent: world\n",
    "    child: iiwa0::iiwa_link_0\n",
    "    \n",
    "- add_model: \n",
    "    name: wsg0\n",
    "    file: package://drake/manipulation/models/wsg_50_description/sdf/schunk_wsg_50_with_tip.sdf\n",
    "- add_weld: \n",
    "    parent: iiwa0::iiwa_link_7\n",
    "    child: wsg0::body\n",
    "    X_PC:\n",
    "        translation: [0, 0, 0.09]\n",
    "        rotation: !Rpy {deg: [90, 0, 90]}\n",
    "\n",
    "- add_model:\n",
    "    name: iiwa1\n",
    "    file: package://drake/manipulation/models/iiwa_description/iiwa7/iiwa7_no_collision.sdf\n",
    "    default_joint_positions:\n",
    "        iiwa_joint_1: [-1.57]\n",
    "        iiwa_joint_2: [0.1]\n",
    "        iiwa_joint_3: [0]\n",
    "        iiwa_joint_4: [-1.2]\n",
    "        iiwa_joint_5: [0]\n",
    "        iiwa_joint_6: [ 1.6]\n",
    "        iiwa_joint_7: [0]\n",
    "- add_weld:\n",
    "    parent: world\n",
    "    child: iiwa1::iiwa_link_0\n",
    "    X_PC:\n",
    "        translation: [.6, 0, 0]\n",
    "        rotation: !Rpy { deg: [0, 0, 0]}\n",
    "- add_model:\n",
    "    name: wsg1\n",
    "    file: package://drake/manipulation/models/wsg_50_description/sdf/schunk_wsg_50_with_tip.sdf\n",
    "- add_weld:\n",
    "    parent: iiwa1::iiwa_link_7\n",
    "    child: wsg1::body\n",
    "    X_PC:\n",
    "        translation: [0, 0, 0.09]\n",
    "        rotation: !Rpy { deg: [90, 0, 90]}\n",
    "\n",
    "'''\n"
   ]
  },
  {
   "cell_type": "code",
   "execution_count": 5,
   "id": "95e0e722",
   "metadata": {},
   "outputs": [],
   "source": [
    "builder = DiagramBuilder()\n",
    "station = builder.AddSystem(\n",
    "    MakeManipulationStation(model_directives)\n",
    ")\n",
    "plant = station.GetSubsystemByName('plant')\n",
    "controller_plant = station.GetSubsystemByName(\n",
    "    'iiwa0_controller').get_multibody_plant_for_control()\n",
    "\n",
    "visualizer = MeshcatVisualizer.AddToBuilder(\n",
    "    builder, station.GetOutputPort('query_object'), meshcat\n",
    ")\n",
    "\n",
    "diagram = builder.Build()"
   ]
  },
  {
   "cell_type": "code",
   "execution_count": 6,
   "id": "b62abbaf",
   "metadata": {},
   "outputs": [
    {
     "data": {
      "image/svg+xml": [
       "<svg xmlns=\"http://www.w3.org/2000/svg\" xmlns:xlink=\"http://www.w3.org/1999/xlink\" width=\"929pt\" height=\"663pt\" viewBox=\"0.00 0.00 929.00 663.00\">\n",
       "<g id=\"graph0\" class=\"graph\" transform=\"scale(1 1) rotate(0) translate(4 659)\">\n",
       "<title>_93839929635728</title>\n",
       "<polygon fill=\"white\" stroke=\"transparent\" points=\"-4,4 -4,-659 925,-659 925,4 -4,4\"/>\n",
       "<g id=\"clust1\" class=\"cluster\">\n",
       "<title>cluster93839929635728diagram</title>\n",
       "<polygon fill=\"none\" stroke=\"black\" points=\"8,-8 8,-647 913,-647 913,-8 8,-8\"/>\n",
       "<text text-anchor=\"middle\" x=\"460.5\" y=\"-631.8\" font-family=\"Times,serif\" font-size=\"14.00\">93839929635728</text>\n",
       "</g>\n",
       "<g id=\"clust4\" class=\"cluster\">\n",
       "<title>cluster93839929635728subsystems</title>\n",
       "<polygon fill=\"none\" stroke=\"white\" points=\"16,-16 16,-616 905,-616 905,-16 16,-16\"/>\n",
       "</g>\n",
       "<!-- 93839929530160 -->\n",
       "<g id=\"node1\" class=\"node\">\n",
       "<title>93839929530160</title>\n",
       "<polygon fill=\"none\" stroke=\"black\" points=\"24,-78.5 24,-607.5 439,-607.5 439,-78.5 24,-78.5\"/>\n",
       "<text text-anchor=\"middle\" x=\"231.5\" y=\"-592.3\" font-family=\"Times,serif\" font-size=\"14.00\">ManipulationStation</text>\n",
       "<polyline fill=\"none\" stroke=\"black\" points=\"24,-584.5 439,-584.5 \"/>\n",
       "<text text-anchor=\"middle\" x=\"125.5\" y=\"-549.3\" font-family=\"Times,serif\" font-size=\"14.00\">iiwa0_position</text>\n",
       "<polyline fill=\"none\" stroke=\"black\" points=\"24,-521.5 227,-521.5 \"/>\n",
       "<text text-anchor=\"middle\" x=\"125.5\" y=\"-486.3\" font-family=\"Times,serif\" font-size=\"14.00\">iiwa0_feedforward_torque</text>\n",
       "<polyline fill=\"none\" stroke=\"black\" points=\"24,-458.5 227,-458.5 \"/>\n",
       "<text text-anchor=\"middle\" x=\"125.5\" y=\"-423.3\" font-family=\"Times,serif\" font-size=\"14.00\">wsg0_position</text>\n",
       "<polyline fill=\"none\" stroke=\"black\" points=\"24,-395.5 227,-395.5 \"/>\n",
       "<text text-anchor=\"middle\" x=\"125.5\" y=\"-359.8\" font-family=\"Times,serif\" font-size=\"14.00\">wsg0_force_limit</text>\n",
       "<polyline fill=\"none\" stroke=\"black\" points=\"24,-331.5 227,-331.5 \"/>\n",
       "<text text-anchor=\"middle\" x=\"125.5\" y=\"-296.3\" font-family=\"Times,serif\" font-size=\"14.00\">iiwa1_position</text>\n",
       "<polyline fill=\"none\" stroke=\"black\" points=\"24,-268.5 227,-268.5 \"/>\n",
       "<text text-anchor=\"middle\" x=\"125.5\" y=\"-233.3\" font-family=\"Times,serif\" font-size=\"14.00\">iiwa1_feedforward_torque</text>\n",
       "<polyline fill=\"none\" stroke=\"black\" points=\"24,-205.5 227,-205.5 \"/>\n",
       "<text text-anchor=\"middle\" x=\"125.5\" y=\"-170.3\" font-family=\"Times,serif\" font-size=\"14.00\">wsg1_position</text>\n",
       "<polyline fill=\"none\" stroke=\"black\" points=\"24,-142.5 227,-142.5 \"/>\n",
       "<text text-anchor=\"middle\" x=\"125.5\" y=\"-106.8\" font-family=\"Times,serif\" font-size=\"14.00\">wsg1_force_limit</text>\n",
       "<polyline fill=\"none\" stroke=\"black\" points=\"227,-78.5 227,-584.5 \"/>\n",
       "<text text-anchor=\"middle\" x=\"333\" y=\"-569.3\" font-family=\"Times,serif\" font-size=\"14.00\">iiwa0_position_commanded</text>\n",
       "<polyline fill=\"none\" stroke=\"black\" points=\"227,-561.5 439,-561.5 \"/>\n",
       "<text text-anchor=\"middle\" x=\"333\" y=\"-546.3\" font-family=\"Times,serif\" font-size=\"14.00\">iiwa0_position_measured</text>\n",
       "<polyline fill=\"none\" stroke=\"black\" points=\"227,-538.5 439,-538.5 \"/>\n",
       "<text text-anchor=\"middle\" x=\"333\" y=\"-523.3\" font-family=\"Times,serif\" font-size=\"14.00\">iiwa0_velocity_estimated</text>\n",
       "<polyline fill=\"none\" stroke=\"black\" points=\"227,-515.5 439,-515.5 \"/>\n",
       "<text text-anchor=\"middle\" x=\"333\" y=\"-500.3\" font-family=\"Times,serif\" font-size=\"14.00\">iiwa0_state_estimated</text>\n",
       "<polyline fill=\"none\" stroke=\"black\" points=\"227,-492.5 439,-492.5 \"/>\n",
       "<text text-anchor=\"middle\" x=\"333\" y=\"-477.3\" font-family=\"Times,serif\" font-size=\"14.00\">iiwa0_torque_commanded</text>\n",
       "<polyline fill=\"none\" stroke=\"black\" points=\"227,-469.5 439,-469.5 \"/>\n",
       "<text text-anchor=\"middle\" x=\"333\" y=\"-454.3\" font-family=\"Times,serif\" font-size=\"14.00\">iiwa0_torque_measured</text>\n",
       "<polyline fill=\"none\" stroke=\"black\" points=\"227,-446.5 439,-446.5 \"/>\n",
       "<text text-anchor=\"middle\" x=\"333\" y=\"-431.3\" font-family=\"Times,serif\" font-size=\"14.00\">iiwa0_torque_external</text>\n",
       "<polyline fill=\"none\" stroke=\"black\" points=\"227,-423.5 439,-423.5 \"/>\n",
       "<text text-anchor=\"middle\" x=\"333\" y=\"-408.3\" font-family=\"Times,serif\" font-size=\"14.00\">wsg0_state_measured</text>\n",
       "<polyline fill=\"none\" stroke=\"black\" points=\"227,-400.5 439,-400.5 \"/>\n",
       "<text text-anchor=\"middle\" x=\"333\" y=\"-385.3\" font-family=\"Times,serif\" font-size=\"14.00\">wsg0_force_measured</text>\n",
       "<polyline fill=\"none\" stroke=\"black\" points=\"227,-377.5 439,-377.5 \"/>\n",
       "<text text-anchor=\"middle\" x=\"333\" y=\"-362.3\" font-family=\"Times,serif\" font-size=\"14.00\">iiwa1_position_commanded</text>\n",
       "<polyline fill=\"none\" stroke=\"black\" points=\"227,-354.5 439,-354.5 \"/>\n",
       "<text text-anchor=\"middle\" x=\"333\" y=\"-339.3\" font-family=\"Times,serif\" font-size=\"14.00\">iiwa1_position_measured</text>\n",
       "<polyline fill=\"none\" stroke=\"black\" points=\"227,-331.5 439,-331.5 \"/>\n",
       "<text text-anchor=\"middle\" x=\"333\" y=\"-316.3\" font-family=\"Times,serif\" font-size=\"14.00\">iiwa1_velocity_estimated</text>\n",
       "<polyline fill=\"none\" stroke=\"black\" points=\"227,-308.5 439,-308.5 \"/>\n",
       "<text text-anchor=\"middle\" x=\"333\" y=\"-293.3\" font-family=\"Times,serif\" font-size=\"14.00\">iiwa1_state_estimated</text>\n",
       "<polyline fill=\"none\" stroke=\"black\" points=\"227,-285.5 439,-285.5 \"/>\n",
       "<text text-anchor=\"middle\" x=\"333\" y=\"-270.3\" font-family=\"Times,serif\" font-size=\"14.00\">iiwa1_torque_commanded</text>\n",
       "<polyline fill=\"none\" stroke=\"black\" points=\"227,-262.5 439,-262.5 \"/>\n",
       "<text text-anchor=\"middle\" x=\"333\" y=\"-247.3\" font-family=\"Times,serif\" font-size=\"14.00\">iiwa1_torque_measured</text>\n",
       "<polyline fill=\"none\" stroke=\"black\" points=\"227,-239.5 439,-239.5 \"/>\n",
       "<text text-anchor=\"middle\" x=\"333\" y=\"-224.3\" font-family=\"Times,serif\" font-size=\"14.00\">iiwa1_torque_external</text>\n",
       "<polyline fill=\"none\" stroke=\"black\" points=\"227,-216.5 439,-216.5 \"/>\n",
       "<text text-anchor=\"middle\" x=\"333\" y=\"-201.3\" font-family=\"Times,serif\" font-size=\"14.00\">wsg1_state_measured</text>\n",
       "<polyline fill=\"none\" stroke=\"black\" points=\"227,-193.5 439,-193.5 \"/>\n",
       "<text text-anchor=\"middle\" x=\"333\" y=\"-178.3\" font-family=\"Times,serif\" font-size=\"14.00\">wsg1_force_measured</text>\n",
       "<polyline fill=\"none\" stroke=\"black\" points=\"227,-170.5 439,-170.5 \"/>\n",
       "<text text-anchor=\"middle\" x=\"333\" y=\"-155.3\" font-family=\"Times,serif\" font-size=\"14.00\">query_object</text>\n",
       "<polyline fill=\"none\" stroke=\"black\" points=\"227,-147.5 439,-147.5 \"/>\n",
       "<text text-anchor=\"middle\" x=\"333\" y=\"-132.3\" font-family=\"Times,serif\" font-size=\"14.00\">contact_results</text>\n",
       "<polyline fill=\"none\" stroke=\"black\" points=\"227,-124.5 439,-124.5 \"/>\n",
       "<text text-anchor=\"middle\" x=\"333\" y=\"-109.3\" font-family=\"Times,serif\" font-size=\"14.00\">plant_continuous_state</text>\n",
       "<polyline fill=\"none\" stroke=\"black\" points=\"227,-101.5 439,-101.5 \"/>\n",
       "<text text-anchor=\"middle\" x=\"333\" y=\"-86.3\" font-family=\"Times,serif\" font-size=\"14.00\">body_poses</text>\n",
       "</g>\n",
       "<!-- 93839948014704 -->\n",
       "<g id=\"node2\" class=\"node\">\n",
       "<title>93839948014704</title>\n",
       "<polygon fill=\"none\" stroke=\"black\" points=\"475,-148 475,-194 897,-194 897,-148 475,-148\"/>\n",
       "<text text-anchor=\"middle\" x=\"686\" y=\"-178.8\" font-family=\"Times,serif\" font-size=\"14.00\">drake/geometry/MeshcatVisualizer@00005558d0c46470</text>\n",
       "<polyline fill=\"none\" stroke=\"black\" points=\"475,-171 897,-171 \"/>\n",
       "<text text-anchor=\"middle\" x=\"602\" y=\"-155.8\" font-family=\"Times,serif\" font-size=\"14.00\">query_object</text>\n",
       "<polyline fill=\"none\" stroke=\"black\" points=\"729,-148 729,-171 \"/>\n",
       "<text text-anchor=\"middle\" x=\"813\" y=\"-155.8\" font-family=\"Times,serif\" font-size=\"14.00\"> </text>\n",
       "</g>\n",
       "<!-- 93839929530160&#45;&gt;93839948014704 -->\n",
       "<g id=\"edge1\" class=\"edge\">\n",
       "<title>93839929530160:y18-&gt;93839948014704:u0</title>\n",
       "<path fill=\"none\" stroke=\"black\" d=\"M439,-159C451,-159 456.25,-159 464.88,-159\"/>\n",
       "<polygon fill=\"black\" stroke=\"black\" points=\"465,-162.5 475,-159 465,-155.5 465,-162.5\"/>\n",
       "</g>\n",
       "<!-- \\n -->\n",
       "<g id=\"node3\" class=\"node\">\n",
       "<title>\\n</title>\n",
       "<ellipse fill=\"none\" stroke=\"black\" cx=\"231.5\" cy=\"-42\" rx=\"27\" ry=\"18\"/>\n",
       "</g>\n",
       "</g>\n",
       "</svg>"
      ],
      "text/plain": [
       "<IPython.core.display.SVG object>"
      ]
     },
     "metadata": {},
     "output_type": "display_data"
    }
   ],
   "source": [
    "display(SVG(\n",
    "    pydot.graph_from_dot_data(\n",
    "        diagram.GetGraphvizString(max_depth=1)\n",
    "    )[0].create_svg()\n",
    "))"
   ]
  },
  {
   "cell_type": "code",
   "execution_count": 7,
   "id": "49727b27",
   "metadata": {},
   "outputs": [],
   "source": [
    "simulator = Simulator(diagram)\n",
    "context = simulator.get_mutable_context()\n",
    "station_context = station.GetMyMutableContextFromRoot(context)\n",
    "plant_context = plant.GetMyMutableContextFromRoot(context)"
   ]
  },
  {
   "cell_type": "code",
   "execution_count": 10,
   "id": "e9e8cd8d",
   "metadata": {},
   "outputs": [
    {
     "data": {
      "text/plain": [
       "<pydrake.systems.framework.FixedInputPortValue at 0x7f67bf5262b0>"
      ]
     },
     "execution_count": 10,
     "metadata": {},
     "output_type": "execute_result"
    }
   ],
   "source": [
    "q0 = plant.GetPositions(plant_context, plant.GetModelInstanceByName('iiwa0'))\n",
    "\n",
    "station.GetInputPort('iiwa0_position').FixValue(station_context, q0)\n",
    "station.GetInputPort('iiwa1_position').FixValue(station_context, q0)\n",
    "\n",
    "station.GetInputPort('wsg0_position').FixValue(station_context, [0])\n",
    "station.GetInputPort('wsg1_position').FixValue(station_context, [0])\n"
   ]
  },
  {
   "cell_type": "code",
   "execution_count": 11,
   "id": "d0833b12",
   "metadata": {},
   "outputs": [
    {
     "data": {
      "text/plain": [
       "<pydrake.systems.analysis.SimulatorStatus at 0x7f67bf41fb30>"
      ]
     },
     "execution_count": 11,
     "metadata": {},
     "output_type": "execute_result"
    }
   ],
   "source": [
    "simulator.AdvanceTo(0.1)"
   ]
  }
 ],
 "metadata": {
  "kernelspec": {
   "display_name": "robot_manipulator",
   "language": "python",
   "name": "robot_manipulator"
  },
  "language_info": {
   "codemirror_mode": {
    "name": "ipython",
    "version": 3
   },
   "file_extension": ".py",
   "mimetype": "text/x-python",
   "name": "python",
   "nbconvert_exporter": "python",
   "pygments_lexer": "ipython3",
   "version": "3.10.6"
  }
 },
 "nbformat": 4,
 "nbformat_minor": 5
}
