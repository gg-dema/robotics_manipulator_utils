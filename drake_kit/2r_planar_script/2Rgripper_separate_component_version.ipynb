{
 "cells": [
  {
   "cell_type": "code",
   "execution_count": 1,
   "id": "a78486ee",
   "metadata": {},
   "outputs": [],
   "source": [
    "import numpy as np\n",
    "import os\n",
    "\n",
    "import pydot\n",
    "from IPython.display import HTML, SVG, display\n",
    "\n",
    "from pydrake.common import temp_directory, FindResourceOrThrow\n",
    "from pydrake.geometry import (\n",
    "    SceneGraph,\n",
    "    MeshcatVisualizer, MeshcatVisualizerParams, \n",
    "    Role, StartMeshcat\n",
    ")\n",
    "\n",
    "from pydrake.math import RigidTransform, RollPitchYaw\n",
    "from pydrake.multibody.parsing import Parser\n",
    "from pydrake.multibody.plant import MultibodyPlant\n",
    "from pydrake.multibody.plant import AddMultibodyPlantSceneGraph\n",
    "from pydrake.systems.analysis import Simulator\n",
    "from pydrake.systems.framework import DiagramBuilder\n",
    "from pydrake.visualization import ModelVisualizer\n",
    "\n",
    "from manipulation.scenarios import AddMultibodyTriad, AddPackagePaths"
   ]
  },
  {
   "cell_type": "code",
   "execution_count": 2,
   "id": "55417e97",
   "metadata": {},
   "outputs": [
    {
     "name": "stderr",
     "output_type": "stream",
     "text": [
      "INFO:drake:Meshcat listening for connections at http://localhost:7002\n"
     ]
    }
   ],
   "source": [
    "meshcat = StartMeshcat()"
   ]
  },
  {
   "cell_type": "code",
   "execution_count": 3,
   "id": "2ded4c93",
   "metadata": {},
   "outputs": [],
   "source": [
    "hand_url = FindResourceOrThrow(\n",
    "    \"drake/manipulation/models/wsg_50_description/sdf/schunk_wsg_50_with_tip.sdf\"\n",
    ")\n",
    "arm_url = '../robot_models/Planar-v2.sdf'\n",
    "\n",
    "full_2r_directives = '''\n",
    "directives: \n",
    "- add_model: \n",
    "    name: 2R_planar_robot\n",
    "    file: file:///home/dema/PycharmProjects/robot_manipulator/robot_models/Planar-v2.sdf\n",
    "    default_joint_positions: \n",
    "        q1: [0]\n",
    "        q2: [0]\n",
    "\n",
    "\n",
    "- add_model: \n",
    "    name: end_effector\n",
    "    file: file:///home/dema/PycharmProjects/robot_manipulator/lib/python3.10/site-packages/pydrake/common/../lib/../share/drake/manipulation/models/wsg_50_description/sdf/schunk_wsg_50_with_tip.sdf\n",
    "- add_weld: \n",
    "    parent: 2R_planar_robot::l2\n",
    "    child: end_effector::body_frame\n",
    "    X_PC: \n",
    "        translation: [0.5, 0, 0]\n",
    "        rotation: !Rpy {deg: [0, 0, -90]}\n",
    "'''\n",
    "\n",
    "builder = DiagramBuilder()\n",
    "time_step = 0.003\n",
    "plant, scene_graph = AddMultibodyPlantSceneGraph(builder, time_step)\n",
    "\n",
    "parser = Parser(plant)\n",
    "#parser.AddModelFromFile(\"../robot_models/Planar-v2.sdf\", 'sdf')\n",
    "parser.AddModelsFromString(full_2r_directives, '.dmd.yaml')\n",
    "\n",
    "plant.Finalize()\n",
    "\n",
    "BODY_NAMES = ['l1', 'l2', 'body']\n",
    "for body_name in BODY_NAMES:  \n",
    "    AddMultibodyTriad(plant.GetFrameByName(body_name), scene_graph)\n",
    "\n",
    "    \n",
    "\n",
    "visualizer = MeshcatVisualizer.AddToBuilder(\n",
    "    builder, \n",
    "    scene_graph.get_query_output_port(),\n",
    "    meshcat\n",
    ")\n",
    "\n",
    "diagram = builder.Build()\n",
    "diagram_context = diagram.CreateDefaultContext()\n",
    "    \n",
    "diagram.ForcedPublish(diagram_context)\n",
    "\n",
    "\n",
    "\n"
   ]
  },
  {
   "cell_type": "code",
   "execution_count": 9,
   "id": "eb895f7e",
   "metadata": {},
   "outputs": [
    {
     "data": {
      "text/plain": [
       "<pydrake.systems.analysis.SimulatorStatus at 0x7f842637dab0>"
      ]
     },
     "execution_count": 9,
     "metadata": {},
     "output_type": "execute_result"
    }
   ],
   "source": [
    "# kuka control mode\n",
    "plant = MultibodyPlant(time_step=1e-4)\n",
    "parser = Parser(plant)\n",
    "parser.AddModelFromFile(\"../../robot_models/Planar-v2.sdf\", 'sdf')\n",
    "plant.Finalize()\n",
    "\n",
    "context = plant.CreateDefaultContext()\n",
    "plant.get_actuation_input_port().FixValue(context, np.zeros(2))\n",
    "\n",
    "simulator = Simulator(plant, context)\n",
    "simulator.AdvanceTo(0.5)\n",
    "\n"
   ]
  },
  {
   "cell_type": "code",
   "execution_count": null,
   "id": "62f9e7f3",
   "metadata": {},
   "outputs": [],
   "source": []
  },
  {
   "cell_type": "code",
   "execution_count": 10,
   "id": "2139375b",
   "metadata": {},
   "outputs": [],
   "source": []
  },
  {
   "cell_type": "code",
   "execution_count": 10,
   "id": "28781dcc",
   "metadata": {},
   "outputs": [
    {
     "data": {
      "text/plain": [
       "<pydrake.systems.framework.FixedInputPortValue at 0x7f842637ddf0>"
      ]
     },
     "execution_count": 10,
     "metadata": {},
     "output_type": "execute_result"
    }
   ],
   "source": [
    "default_context = plant.CreateDefaultContext()\n",
    "mutable_context = plant.GetMyMutableContextFromRoot(default_context)\n",
    "plant.get_actuation_input_port().FixValue(mutable_context, np.zeros(2))"
   ]
  },
  {
   "cell_type": "code",
   "execution_count": 11,
   "id": "0b6c8df2",
   "metadata": {},
   "outputs": [
    {
     "data": {
      "text/plain": [
       "<pydrake.systems.analysis.SimulatorStatus at 0x7f8473b9c370>"
      ]
     },
     "execution_count": 11,
     "metadata": {},
     "output_type": "execute_result"
    }
   ],
   "source": [
    "simulator = Simulator(plant, mutable_context)\n",
    "simulator.AdvanceTo(5.0)"
   ]
  },
  {
   "cell_type": "code",
   "execution_count": 12,
   "id": "efbcab3b",
   "metadata": {},
   "outputs": [
    {
     "name": "stderr",
     "output_type": "stream",
     "text": [
      "WARNING:drake:OutputPort[2] (continuous_state) of System ::_::plant (MultibodyPlant<double>) is deprecated: Use the port named 'state' instead; the 'continuous_state' alias will be removed on or after 2023-03-01.\n",
      "WARNING:drake:OutputPort[8] (WorldModelInstance_continuous_state) of System ::_::plant (MultibodyPlant<double>) is deprecated: Use the port suffixed with '_state' instead; the '_continuous_state' alias will be removed on or after 2023-03-01.\n",
      "WARNING:drake:OutputPort[11] (DefaultModelInstance_continuous_state) of System ::_::plant (MultibodyPlant<double>) is deprecated: Use the port suffixed with '_state' instead; the '_continuous_state' alias will be removed on or after 2023-03-01.\n",
      "WARNING:drake:OutputPort[14] (2R_planar_robot_continuous_state) of System ::_::plant (MultibodyPlant<double>) is deprecated: Use the port suffixed with '_state' instead; the '_continuous_state' alias will be removed on or after 2023-03-01.\n",
      "WARNING:drake:OutputPort[17] (end_effector_continuous_state) of System ::_::plant (MultibodyPlant<double>) is deprecated: Use the port suffixed with '_state' instead; the '_continuous_state' alias will be removed on or after 2023-03-01.\n"
     ]
    }
   ],
   "source": [
    "svg = pydot.graph_from_dot_data(diagram.GetGraphvizString())[0].create_svg()\n",
    "with open('2r_svg_graph.png', 'wb') as f:\n",
    "    f.write(svg)"
   ]
  },
  {
   "cell_type": "code",
   "execution_count": 11,
   "id": "d1ef87c5",
   "metadata": {},
   "outputs": [],
   "source": []
  },
  {
   "cell_type": "code",
   "execution_count": 13,
   "id": "62d66cb6",
   "metadata": {},
   "outputs": [
    {
     "ename": "NameError",
     "evalue": "name 'def_context' is not defined",
     "output_type": "error",
     "traceback": [
      "\u001b[0;31m---------------------------------------------------------------------------\u001b[0m",
      "\u001b[0;31mNameError\u001b[0m                                 Traceback (most recent call last)",
      "Cell \u001b[0;32mIn[13], line 1\u001b[0m\n\u001b[0;32m----> 1\u001b[0m simulator \u001b[38;5;241m=\u001b[39m Simulator(diagram, \u001b[43mdef_context\u001b[49m)\n\u001b[1;32m      2\u001b[0m simulator\u001b[38;5;241m.\u001b[39mAdvanceTo(\u001b[38;5;241m5.0\u001b[39m)\n",
      "\u001b[0;31mNameError\u001b[0m: name 'def_context' is not defined"
     ]
    }
   ],
   "source": [
    "\n",
    "simulator = Simulator(diagram, def_context)\n",
    "simulator.AdvanceTo(5.0)\n"
   ]
  },
  {
   "cell_type": "code",
   "execution_count": null,
   "id": "6b8fb570",
   "metadata": {},
   "outputs": [],
   "source": []
  }
 ],
 "metadata": {
  "kernelspec": {
   "display_name": "robot_manipulator",
   "language": "python",
   "name": "robot_manipulator"
  },
  "language_info": {
   "codemirror_mode": {
    "name": "ipython",
    "version": 3
   },
   "file_extension": ".py",
   "mimetype": "text/x-python",
   "name": "python",
   "nbconvert_exporter": "python",
   "pygments_lexer": "ipython3",
   "version": "3.10.6"
  }
 },
 "nbformat": 4,
 "nbformat_minor": 5
}
