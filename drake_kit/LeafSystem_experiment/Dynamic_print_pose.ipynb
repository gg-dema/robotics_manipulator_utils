{
 "cells": [
  {
   "cell_type": "code",
   "execution_count": 1,
   "id": "867fd2cb",
   "metadata": {},
   "outputs": [],
   "source": [
    "import numpy as np\n",
    "from IPython.display import clear_output, display\n",
    "from pydrake.all import (AbstractValue, AddMultibodyPlantSceneGraph,\n",
    "                         DiagramBuilder, JointSliders, LeafSystem,\n",
    "                         MeshcatVisualizer, Parser, RigidTransform,\n",
    "                         RollPitchYaw, StartMeshcat)\n",
    "\n",
    "from manipulation import FindResource, running_as_notebook\n",
    "from manipulation.scenarios import AddMultibodyTriad, AddPackagePaths\n"
   ]
  },
  {
   "cell_type": "code",
   "execution_count": 2,
   "id": "90fce946",
   "metadata": {},
   "outputs": [
    {
     "name": "stderr",
     "output_type": "stream",
     "text": [
      "INFO:drake:Meshcat listening for connections at http://localhost:7005\n"
     ]
    }
   ],
   "source": [
    "meshcat = StartMeshcat()"
   ]
  },
  {
   "cell_type": "code",
   "execution_count": 14,
   "id": "ed9e52f0",
   "metadata": {},
   "outputs": [],
   "source": [
    "class PrintPose(LeafSystem):\n",
    "    \n",
    "    def __init__(self, body_index): \n",
    "        LeafSystem.__init__(self)\n",
    "        self._body_index = body_index\n",
    "        # abstract input aka idk the input shape (matrix, tensor, scalar)\n",
    "        self.DeclareAbstractInputPort(\n",
    "            'body_pose',\n",
    "            AbstractValue.Make([RigidTransform()])\n",
    "        )\n",
    "        \n",
    "        #setting a publish event on a schedule\n",
    "        self.DeclareForcedPublishEvent(self.Publish)\n",
    "        \n",
    "    def Publish(self, context): \n",
    "        pose = self.get_input_port().Eval(context)[self._body_index]\n",
    "        \n",
    "        # print part\n",
    "        print(pose)\n",
    "        print('gripper pose at: ' +np.array2string(\n",
    "            pose.translation(), formatter={'float': lambda x: \"{:3.2f}\".format(x)}\n",
    "        ))\n",
    "        print('gripper roll-pitch-yaw (Rad): ' + np.array2string(\n",
    "            RollPitchYaw(pose.rotation()).vector(), \n",
    "            formatter={'float': lambda x: \"{:3.2f}\".format(x)}\n",
    "        ))\n",
    "        \n",
    "        clear_output(wait=True) # print just the last result\n",
    "        \n",
    "\n"
   ]
  },
  {
   "cell_type": "code",
   "execution_count": null,
   "id": "991266d8",
   "metadata": {},
   "outputs": [
    {
     "name": "stdout",
     "output_type": "stream",
     "text": [
      "RigidTransform(\n",
      "  R=RotationMatrix([\n",
      "    [6.123377970758711e-17, -6.123189642323984e-17, 1.0000000000000004],\n",
      "    [1.0000000000000004, -9.808978045275118e-17, -6.123220754656784e-17],\n",
      "    [-9.808982757910806e-17, 1.0000000000000007, 6.12323514879913e-17],\n",
      "  ]),\n",
      "  p=[3.295969108337938e-22, 1.425863531256601e-17, 1.31],\n",
      ")\n",
      "gripper pose at: [0.00 0.00 1.31]\n",
      "gripper roll-pitch-yaw (Rad): [1.57 0.00 1.57]\n"
     ]
    }
   ],
   "source": [
    "def gripper_forward_kinematics_exe(): \n",
    "    \n",
    "    builder = DiagramBuilder()\n",
    "    plant, scene_graph = AddMultibodyPlantSceneGraph(builder, time_step=0)\n",
    "    parser = Parser(plant)\n",
    "    AddPackagePaths(parser) # allow to search for extra pkg in given dir\n",
    "    parser.AddAllModelsFromFile(FindResource(\"models/iiwa_and_wsg.dmd.yaml\"))\n",
    "    plant.Finalize()\n",
    "    \n",
    "    #draw frames: \n",
    "    \n",
    "    BODY_NAMES =  [f'iiwa_link_{i}' for i in range(1,7)]\n",
    "    BODY_NAMES.append('body')\n",
    "    \n",
    "    for body_name in BODY_NAMES: \n",
    "        AddMultibodyTriad(plant.GetFrameByName(body_name), scene_graph)\n",
    "    \n",
    "    \n",
    "    # visualizer\n",
    "    meshcat.Delete()\n",
    "    meshcat.DeleteAddedControls()\n",
    "    visualizer = MeshcatVisualizer.AddToBuilder(\n",
    "        builder, scene_graph.get_query_output_port(), meshcat\n",
    "    )\n",
    "    \n",
    "    \n",
    "    # CONNECT PRINT POSE SYSTEM \n",
    "    wsg = plant.GetModelInstanceByName(\"wsg\")\n",
    "    gripper = plant.GetBodyByName('body', wsg)\n",
    "    print_pose = builder.AddSystem(PrintPose(gripper.index()))\n",
    "    builder.Connect(\n",
    "        plant.get_body_poses_output_port(), \n",
    "        print_pose.get_input_port()\n",
    "    )\n",
    "    \n",
    "    # gui for meshcat : jointSlider allow me to controll the joint manually\n",
    "    default_interactive_timeout = None\n",
    "    sliders = builder.AddSystem(JointSliders(meshcat, plant))\n",
    "    diagram = builder.Build()\n",
    "    sliders.Run(diagram, default_interactive_timeout)\n",
    "    meshcat.DeleteAddedControls()\n",
    "    \n",
    "    \n",
    "gripper_forward_kinematics_exe()"
   ]
  }
 ],
 "metadata": {
  "kernelspec": {
   "display_name": "robot_manipulator",
   "language": "python",
   "name": "robot_manipulator"
  },
  "language_info": {
   "codemirror_mode": {
    "name": "ipython",
    "version": 3
   },
   "file_extension": ".py",
   "mimetype": "text/x-python",
   "name": "python",
   "nbconvert_exporter": "python",
   "pygments_lexer": "ipython3",
   "version": "3.10.6"
  }
 },
 "nbformat": 4,
 "nbformat_minor": 5
}
