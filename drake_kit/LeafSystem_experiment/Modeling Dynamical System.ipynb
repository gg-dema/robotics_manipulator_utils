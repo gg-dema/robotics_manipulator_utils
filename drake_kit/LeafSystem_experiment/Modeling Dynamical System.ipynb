{
 "cells": [
  {
   "cell_type": "markdown",
   "id": "12fd28f0",
   "metadata": {},
   "source": [
    "# basic continuous/discreate leaft system\n",
    "ci sono problemi con il logger, sembra che la classe utilizzata (<code>LogOutput</code>)non esista piu in drake, e che sia stata sostituita con \n",
    "<code>LogVectorOutput</code>"
   ]
  },
  {
   "cell_type": "code",
   "execution_count": 1,
   "id": "22f3f91b",
   "metadata": {},
   "outputs": [],
   "source": [
    "%%capture\n",
    "try:\n",
    "    import pydrake\n",
    "except ImportError:\n",
    "# TODO(russt): switch to this drake URL.\n",
    "    !curl -s https://raw.githubusercontent.com/RobotLocomotion/drake/master/setup/jupyter_setup.py > jupyter_setup.py\n",
    "  #  !curl -s https://raw.githubusercontent.com/RussTedrake/underactuated/master/scripts/setup/jupyter_setup.py > jupyter_setup.py\n",
    "    from jupyter_setup import setup_drake\n",
    "    setup_drake() \n",
    "    "
   ]
  },
  {
   "cell_type": "code",
   "execution_count": 2,
   "id": "2651c19d",
   "metadata": {},
   "outputs": [],
   "source": [
    "from pydrake.symbolic import Variable\n",
    "from pydrake.systems.primitives import SymbolicVectorSystem\n",
    "\n",
    "q = Variable('q')\n",
    "discrete_vect_sys = SymbolicVectorSystem(\n",
    "    state=[q], dynamics=[q**3], output=[q]\n",
    ")"
   ]
  },
  {
   "cell_type": "code",
   "execution_count": 68,
   "id": "e8bf2203",
   "metadata": {},
   "outputs": [
    {
     "data": {
      "text/plain": [
       "Text(0, 0.5, 'y(t)')"
      ]
     },
     "execution_count": 68,
     "metadata": {},
     "output_type": "execute_result"
    },
    {
     "data": {
      "image/png": "[encoded data removed]",
      "text/plain": [
       "<Figure size 640x480 with 1 Axes>"
      ]
     },
     "metadata": {},
     "output_type": "display_data"
    }
   ],
   "source": [
    "from pydrake.systems.framework import BasicVector, LeafSystem\n",
    "\n",
    "# ---------------------------------\n",
    "class SimpleContinuousTimeSystem(LeafSystem): \n",
    "\n",
    "    \n",
    "    def __init__(self):         \n",
    "        LeafSystem.__init__(self)\n",
    "        self.DeclareContinuousState(1)\n",
    "        self.DeclareVectorOutputPort(\n",
    "            'q_dot', \n",
    "            BasicVector(1),\n",
    "            self.CopyStateOutput\n",
    "        )\n",
    "        self.DeclareVectorInputPort(\n",
    "            'q', \n",
    "            BasicVector(1)\n",
    "        )\n",
    "        \n",
    "    def DoCalcTimeDerivatives(self, context, derivatives): \n",
    "        q = context.get_continuous_state_vector().GetAtIndex(0)\n",
    "        q_dot = -q + q**3\n",
    "        derivatives.get_mutable_vector().SetAtIndex(0, q_dot)\n",
    "    \n",
    "    \n",
    "    def CopyStateOutput(self, context, output): \n",
    "        q = context.get_continuous_state_vector().CopyToVector()\n",
    "        output.SetFromVector(q)\n",
    "\n",
    "# ---------------------------------\n",
    "# TEST-CONTINUOS_TIME\n",
    "system = SimpleContinuousTimeSystem()\n",
    "\n",
    "from pydrake.systems.analysis import Simulator\n",
    "from pydrake.systems.framework import DiagramBuilder\n",
    "from pydrake.systems.primitives import LogVectorOutput\n",
    "\n",
    "\n",
    "builder = DiagramBuilder()\n",
    "system = builder.AddSystem(SimpleContinuousTimeSystem())\n",
    "logger = LogVectorOutput(system.get_output_port(0), builder)\n",
    "diagram = builder.Build()\n",
    "\n",
    "# Set the initial conditions, x(0).\n",
    "context = diagram.CreateDefaultContext()\n",
    "context.SetContinuousState([0.9])\n",
    "\n",
    "# Create the simulator, and simulate for 10 seconds.\n",
    "simulator = Simulator(diagram, context)\n",
    "simulator.AdvanceTo(10)\n",
    "\n",
    "# ---------------------------------\n",
    "# PLOT \n",
    "log = logger.FindLog(context)\n",
    "plt.figure()\n",
    "plt.plot(log.sample_times(), log.data().transpose())\n",
    "plt.xlabel('t')\n",
    "plt.ylabel('y(t)')\n",
    "# ---------------------------------"
   ]
  },
  {
   "cell_type": "code",
   "execution_count": 28,
   "id": "dc5f993c",
   "metadata": {},
   "outputs": [
    {
     "name": "stderr",
     "output_type": "stream",
     "text": [
      "/tmp/ipykernel_12491/268704989.py:11: DrakeDeprecationWarning: (Deprecated.)\n",
      "\n",
      "Deprecated:\n",
      "    Use DeclarePeriodicDiscreteUpdateNoHandler() instead This will be\n",
      "    removed from Drake on or after 2023-03-01.\n",
      "  self.DeclarePeriodicDiscreteUpdate(1.0)\n"
     ]
    }
   ],
   "source": [
    "\n",
    "class SimpleDiscreteTimeSystem(LeafSystem): \n",
    "    \n",
    "    def __init__(self): \n",
    "        LeafSystem.__init__(self)\n",
    "        self.DeclareDiscreteState(1)\n",
    "        self.DeclareVectorOutputPort(\n",
    "            'q_prime', \n",
    "            BasicVector(1), \n",
    "            self.CopyStateOut\n",
    "        )\n",
    "        self.DeclarePeriodicDiscreteUpdate(1.0)\n",
    "        \n",
    "    def DoCalcDiscreteVariableUpdates(self, context, events, discrete_state):\n",
    "        q = context.get_discrete_state_vector().GetAIndex(0)\n",
    "        q_prime = q**3\n",
    "        discrete_state.get_mutable_vector().SetAtIndex(0, q_prime)\n",
    "    \n",
    "    def CopyStateOut(self, context, output):\n",
    "        q = context.get_discrete_state_vector().CopyToVector()\n",
    "        output.SetFromVector(x)\n",
    "\n",
    "        \n",
    "# ---------------------------------\n",
    "# TEST-DISCRETE TIME \n",
    "discrete_system = SimpleDiscreteTimeSystem()\n",
    "\n",
    "\n",
    "# ---------------------------------"
   ]
  },
  {
   "cell_type": "code",
   "execution_count": 69,
   "id": "cb0cb19d",
   "metadata": {},
   "outputs": [],
   "source": [
    "from IPython.display import HTML\n",
    "import numpy as np\n",
    "\n",
    "from pydrake.systems.framework import DiagramBuilder\n",
    "from pydrake.systems.analysis import Simulator\n",
    "from pydrake.examples.pendulum import PendulumPlant\n",
    "from pydrake.systems.controllers import PidController\n",
    "from pydrake.systems.framework import GenerateHtml\n",
    "from pydrake.systems.primitives import LogVectorOutput\n",
    "\n"
   ]
  },
  {
   "cell_type": "code",
   "execution_count": 76,
   "id": "6acc3619",
   "metadata": {},
   "outputs": [
    {
     "ename": "TypeError",
     "evalue": "__init__(): incompatible constructor arguments. The following argument types are supported:\n    1. pydrake.systems.primitives.ConstantVectorSource_[float](source_value: numpy.ndarray[numpy.float64[m, 1]])\n\nInvoked with: BasicVector_[float]([0.0])",
     "output_type": "error",
     "traceback": [
      "\u001b[0;31m---------------------------------------------------------------------------\u001b[0m",
      "\u001b[0;31mTypeError\u001b[0m                                 Traceback (most recent call last)",
      "Cell \u001b[0;32mIn[76], line 22\u001b[0m\n\u001b[1;32m     13\u001b[0m builder\u001b[38;5;241m.\u001b[39mConnect(\n\u001b[1;32m     14\u001b[0m     pendulum\u001b[38;5;241m.\u001b[39mget_state_output_port(), \n\u001b[1;32m     15\u001b[0m     controller\u001b[38;5;241m.\u001b[39mget_input_port_estimated_state()\n\u001b[1;32m     16\u001b[0m )\n\u001b[1;32m     17\u001b[0m builder\u001b[38;5;241m.\u001b[39mConnect(\n\u001b[1;32m     18\u001b[0m     controller\u001b[38;5;241m.\u001b[39mget_output_port(), pendulum\u001b[38;5;241m.\u001b[39mget_input_port()\n\u001b[1;32m     19\u001b[0m )\n\u001b[1;32m     21\u001b[0m const \u001b[38;5;241m=\u001b[39m builder\u001b[38;5;241m.\u001b[39mAddSystem(\n\u001b[0;32m---> 22\u001b[0m     \u001b[43mConstantVectorSource\u001b[49m\u001b[43m(\u001b[49m\n\u001b[1;32m     23\u001b[0m \u001b[43m    \u001b[49m\u001b[43mBasicVector\u001b[49m\u001b[43m(\u001b[49m\u001b[43m[\u001b[49m\u001b[38;5;241;43m0.\u001b[39;49m\u001b[43m]\u001b[49m\u001b[43m)\u001b[49m\n\u001b[1;32m     24\u001b[0m \u001b[43m    \u001b[49m\u001b[43m)\u001b[49m\n\u001b[1;32m     25\u001b[0m )\n\u001b[1;32m     26\u001b[0m builder\u001b[38;5;241m.\u001b[39mConnect(const\u001b[38;5;241m.\u001b[39mget_output_port(), \n\u001b[1;32m     27\u001b[0m                controller\u001b[38;5;241m.\u001b[39mget_input_port(\u001b[38;5;241m0\u001b[39m))\n\u001b[1;32m     29\u001b[0m builder\u001b[38;5;241m.\u001b[39mExportInput(controller\u001b[38;5;241m.\u001b[39mget_input_port_desired_state())\n",
      "\u001b[0;31mTypeError\u001b[0m: __init__(): incompatible constructor arguments. The following argument types are supported:\n    1. pydrake.systems.primitives.ConstantVectorSource_[float](source_value: numpy.ndarray[numpy.float64[m, 1]])\n\nInvoked with: BasicVector_[float]([0.0])"
     ]
    }
   ],
   "source": [
    "builder = DiagramBuilder()\n",
    "\n",
    "pendulum = builder.AddSystem(PendulumPlant())\n",
    "pendulum.set_name(\"pendulum\")\n",
    "\n",
    "controller = builder.AddSystem(PidController(\n",
    "    kp=[10.], \n",
    "    ki=[1.], \n",
    "    kd=[1.]\n",
    "))\n",
    "controller.set_name('controller')\n",
    "\n",
    "builder.Connect(\n",
    "    pendulum.get_state_output_port(), \n",
    "    controller.get_input_port_estimated_state()\n",
    ")\n",
    "builder.Connect(\n",
    "    controller.get_output_port(), pendulum.get_input_port()\n",
    ")\n",
    "\n",
    "builder.ExportInput(controller.get_input_port_desired_state())\n",
    "\n",
    "logger = LogVectorOutput(pendulum.get_output_port(), builder)\n",
    "logger.set_name('logger')\n",
    "\n",
    "diagram = builder.Build()\n",
    "diagram.set_name('diagram')\n",
    "\n",
    "HTML(GenerateHtml(diagram))\n",
    "\n"
   ]
  },
  {
   "cell_type": "code",
   "execution_count": 75,
   "id": "8acd8e2f",
   "metadata": {},
   "outputs": [],
   "source": [
    "from pydrake.systems.primitives import ConstantVectorSource"
   ]
  },
  {
   "cell_type": "code",
   "execution_count": 74,
   "id": "3d9869fc",
   "metadata": {},
   "outputs": [
    {
     "ename": "TypeError",
     "evalue": "FixValue(): incompatible function arguments. The following argument types are supported:\n    1. (self: pydrake.systems.framework.InputPort_[float], context: pydrake.systems.framework.Context_[float], value: pydrake.common.value.AbstractValue) -> pydrake.systems.framework.FixedInputPortValue\n    2. (self: pydrake.systems.framework.InputPort_[float], context: pydrake.systems.framework.Context_[float], value: object) -> pydrake.systems.framework.FixedInputPortValue\n\nInvoked with: <pydrake.systems.framework.InputPort_[float] object at 0x7f11a5fd13b0>, 0, 0.0",
     "output_type": "error",
     "traceback": [
      "\u001b[0;31m---------------------------------------------------------------------------\u001b[0m",
      "\u001b[0;31mTypeError\u001b[0m                                 Traceback (most recent call last)",
      "Cell \u001b[0;32mIn[74], line 8\u001b[0m\n\u001b[1;32m      5\u001b[0m pendulum_context \u001b[38;5;241m=\u001b[39m diagram\u001b[38;5;241m.\u001b[39mGetMutableSubsystemContext(pendulum, context)\n\u001b[1;32m      7\u001b[0m port \u001b[38;5;241m=\u001b[39m system\u001b[38;5;241m.\u001b[39mget_input_port()\n\u001b[0;32m----> 8\u001b[0m \u001b[43mport\u001b[49m\u001b[38;5;241;43m.\u001b[39;49m\u001b[43mFixValue\u001b[49m\u001b[43m(\u001b[49m\u001b[38;5;241;43m0\u001b[39;49m\u001b[43m,\u001b[49m\u001b[43m \u001b[49m\u001b[38;5;241;43m0.\u001b[39;49m\u001b[43m)\u001b[49m\n\u001b[1;32m     10\u001b[0m logger\u001b[38;5;241m.\u001b[39mreset()\n\u001b[1;32m     11\u001b[0m simulator\u001b[38;5;241m.\u001b[39mAdvanceTo(\u001b[38;5;241m20\u001b[39m)\n",
      "\u001b[0;31mTypeError\u001b[0m: FixValue(): incompatible function arguments. The following argument types are supported:\n    1. (self: pydrake.systems.framework.InputPort_[float], context: pydrake.systems.framework.Context_[float], value: pydrake.common.value.AbstractValue) -> pydrake.systems.framework.FixedInputPortValue\n    2. (self: pydrake.systems.framework.InputPort_[float], context: pydrake.systems.framework.Context_[float], value: object) -> pydrake.systems.framework.FixedInputPortValue\n\nInvoked with: <pydrake.systems.framework.InputPort_[float] object at 0x7f11a5fd13b0>, 0, 0.0"
     ]
    }
   ],
   "source": [
    "simulator = Simulator(diagram)\n",
    "context = simulator.get_mutable_context()\n",
    "\n",
    "desired_angle = np.pi/2\n",
    "pendulum_context = diagram.GetMutableSubsystemContext(pendulum, context)\n",
    "\n",
    "port = system.get_input_port()\n",
    "port.FixValue(0, 0.)\n",
    "\n",
    "logger.reset()\n",
    "simulator.AdvanceTo(20)\n",
    "t = logger.sample_times()"
   ]
  },
  {
   "cell_type": "markdown",
   "id": "35c20cfe",
   "metadata": {},
   "source": [
    "<h5> INVERTED PENDULUM</h5>"
   ]
  },
  {
   "cell_type": "code",
   "execution_count": 11,
   "id": "45fe4f3a",
   "metadata": {},
   "outputs": [],
   "source": [
    "from pydrake.systems.framework import VectorSystem"
   ]
  },
  {
   "cell_type": "code",
   "execution_count": 13,
   "id": "8ca1190b",
   "metadata": {},
   "outputs": [],
   "source": [
    "class SimpleContinuosTimeSystem(VectorSystem): \n",
    "    \n",
    "    def __init__(self): \n",
    "        VectorSystem.__init__(self, 0, 1)\n",
    "        self._DeclareContinuosState(1)\n",
    "        \n",
    "    def _DoCalcVectorTimeDerivative(self, context, u, x, xdot): \n",
    "        xdot[:] = -xypl + x**3\n",
    "    \n",
    "    def _DoCalcVectorOutput(self, context, u, x, y): \n",
    "        y[:] = x"
   ]
  },
  {
   "cell_type": "code",
   "execution_count": 14,
   "id": "652a13a5",
   "metadata": {},
   "outputs": [
    {
     "ename": "ImportError",
     "evalue": "cannot import name 'SignalLogger' from 'pydrake.all' (/home/dema/PycharmProjects/robot_manipulator/lib/python3.10/site-packages/pydrake/all.py)",
     "output_type": "error",
     "traceback": [
      "\u001b[0;31m---------------------------------------------------------------------------\u001b[0m",
      "\u001b[0;31mImportError\u001b[0m                               Traceback (most recent call last)",
      "Cell \u001b[0;32mIn[14], line 2\u001b[0m\n\u001b[1;32m      1\u001b[0m \u001b[38;5;28;01mimport\u001b[39;00m \u001b[38;5;21;01mmatplotlib\u001b[39;00m\u001b[38;5;21;01m.\u001b[39;00m\u001b[38;5;21;01mpyplot\u001b[39;00m \u001b[38;5;28;01mas\u001b[39;00m \u001b[38;5;21;01mplt\u001b[39;00m\n\u001b[0;32m----> 2\u001b[0m \u001b[38;5;28;01mfrom\u001b[39;00m \u001b[38;5;21;01mpydrake\u001b[39;00m\u001b[38;5;21;01m.\u001b[39;00m\u001b[38;5;21;01mall\u001b[39;00m \u001b[38;5;28;01mimport\u001b[39;00m (DiagramBuilder, SignalLogger, Simulator)\n",
      "\u001b[0;31mImportError\u001b[0m: cannot import name 'SignalLogger' from 'pydrake.all' (/home/dema/PycharmProjects/robot_manipulator/lib/python3.10/site-packages/pydrake/all.py)"
     ]
    }
   ],
   "source": [
    "import matplotlib.pyplot as plt\n",
    "from pydrake.all import (DiagramBuilder, SignalLogger, Simulator)b"
   ]
  },
  {
   "cell_type": "code",
   "execution_count": 15,
   "id": "b76dc586",
   "metadata": {},
   "outputs": [],
   "source": [
    "from pydrake.systems.primitives import LogVectorOutput"
   ]
  },
  {
   "cell_type": "markdown",
   "id": "1ef8aa7e",
   "metadata": {},
   "source": [
    "# JACOB HACKETT tutorial\n",
    "directly use of <code>LogVectorOutput</code>"
   ]
  },
  {
   "cell_type": "code",
   "execution_count": 8,
   "id": "7dc3e87b",
   "metadata": {},
   "outputs": [],
   "source": [
    "import pydrake.symbolic\n",
    "from pydrake.symbolic import Variable\n",
    "from pydrake.systems.primitives import SymbolicVectorSystem\n",
    "\n",
    "# CONST PARAMS: \n",
    "g = 9.81\n",
    "L = 1\n",
    "\n",
    "# SYMBOLIC PARAMS\n",
    "theta = Variable('theta')\n",
    "theta_dot = Variable('theta_dot')\n",
    "\n",
    "states = [theta, theta_dot]\n",
    "odes =  [theta_dot, -g/L*pydrake.symbolic.sin(theta)]\n",
    "\n",
    "continuous_vector_system = SymbolicVectorSystem(\n",
    "    state=states, \n",
    "    dynamics=odes, \n",
    "    output=states\n",
    ")\n"
   ]
  },
  {
   "cell_type": "code",
   "execution_count": 9,
   "id": "c0b5b6a6",
   "metadata": {},
   "outputs": [],
   "source": [
    "import numpy as np\n",
    "from pydrake.systems.analysis import Simulator\n",
    "from pydrake.systems.framework import DiagramBuilder\n",
    "from pydrake.systems.primitives import LogVectorOutput\n",
    "\n",
    "builder = DiagramBuilder()\n",
    "system = builder.AddSystem(continuous_vector_system)\n",
    "logger = LogVectorOutput(system.get_output_port(0), builder)\n",
    "diagram = builder.Build()\n",
    "\n"
   ]
  },
  {
   "cell_type": "code",
   "execution_count": 10,
   "id": "bed9bca9",
   "metadata": {},
   "outputs": [],
   "source": [
    "context = diagram.CreateDefaultContext()\n",
    "context.SetContinuousState([\n",
    "    np.pi/4.0,   # theta(0)\n",
    "    0.0          # theta_dot(0)\n",
    "])\n"
   ]
  },
  {
   "cell_type": "code",
   "execution_count": 11,
   "id": "547ad212",
   "metadata": {},
   "outputs": [],
   "source": [
    "simulator = Simulator(diagram, context)\n",
    "simulator.AdvanceTo(10)\n",
    "\n",
    "\n",
    "log = logger.FindLog(context)\n",
    "time = log.sample_times()\n",
    "data = log.data().transpose()\n",
    "theta = data[:, 0]\n",
    "theta_dot = data[:, 1]"
   ]
  },
  {
   "cell_type": "markdown",
   "id": "4a440a4b",
   "metadata": {},
   "source": [
    "## Animation"
   ]
  },
  {
   "cell_type": "code",
   "execution_count": 12,
   "id": "19ae50b7",
   "metadata": {},
   "outputs": [],
   "source": [
    "simulation_size = len(time)\n",
    "x = np.zeros(simulation_size)\n",
    "y = np.zeros(simulation_size)\n",
    "\n",
    "for i in range(simulation_size): \n",
    "    x[i] = L*np.sin(theta[i])\n",
    "    y[i] = -L*np.cos(theta[i])\n",
    "\n",
    "time_steps = []\n",
    "average_time_step = 0\n",
    "for i in range(simulation_size -1): \n",
    "    timestep = abs(time[i] - time[i+1])\n",
    "    time_steps.append(timestep)\n",
    "\n",
    "average_time_step = sum(time_steps)/len(time_steps)"
   ]
  },
  {
   "cell_type": "code",
   "execution_count": 16,
   "id": "65b7409f",
   "metadata": {},
   "outputs": [
    {
     "ename": "FileNotFoundError",
     "evalue": "[Errno 2] No such file or directory: 'ffmpeg'",
     "output_type": "error",
     "traceback": [
      "\u001b[0;31m---------------------------------------------------------------------------\u001b[0m",
      "\u001b[0;31mFileNotFoundError\u001b[0m                         Traceback (most recent call last)",
      "Cell \u001b[0;32mIn[16], line 26\u001b[0m\n\u001b[1;32m     23\u001b[0m writeObj \u001b[38;5;241m=\u001b[39m FFMpegFileWriter(fps\u001b[38;5;241m=\u001b[39mFPS)\n\u001b[1;32m     24\u001b[0m video_path_1 \u001b[38;5;241m=\u001b[39m \u001b[38;5;124m'\u001b[39m\u001b[38;5;124m./\u001b[39m\u001b[38;5;124m'\u001b[39m\u001b[38;5;241m+\u001b[39mvideo_title\u001b[38;5;241m+\u001b[39m\u001b[38;5;124m'\u001b[39m\u001b[38;5;124m.mp4\u001b[39m\u001b[38;5;124m'\u001b[39m\n\u001b[0;32m---> 26\u001b[0m \u001b[38;5;28;01mwith\u001b[39;00m writeObj\u001b[38;5;241m.\u001b[39msaving(fig, video_path_1, dpi): \n\u001b[1;32m     28\u001b[0m     \u001b[38;5;28;01mfor\u001b[39;00m i \u001b[38;5;129;01min\u001b[39;00m \u001b[38;5;28mrange\u001b[39m(\u001b[38;5;241m0\u001b[39m, simulation_size, sample_rate): \n\u001b[1;32m     29\u001b[0m         x_data_points \u001b[38;5;241m=\u001b[39m [\u001b[38;5;241m0\u001b[39m, x[i]]\n",
      "File \u001b[0;32m/usr/lib/python3.10/contextlib.py:142\u001b[0m, in \u001b[0;36m_GeneratorContextManager.__exit__\u001b[0;34m(self, typ, value, traceback)\u001b[0m\n\u001b[1;32m    140\u001b[0m \u001b[38;5;28;01mif\u001b[39;00m typ \u001b[38;5;129;01mis\u001b[39;00m \u001b[38;5;28;01mNone\u001b[39;00m:\n\u001b[1;32m    141\u001b[0m     \u001b[38;5;28;01mtry\u001b[39;00m:\n\u001b[0;32m--> 142\u001b[0m         \u001b[38;5;28;43mnext\u001b[39;49m\u001b[43m(\u001b[49m\u001b[38;5;28;43mself\u001b[39;49m\u001b[38;5;241;43m.\u001b[39;49m\u001b[43mgen\u001b[49m\u001b[43m)\u001b[49m\n\u001b[1;32m    143\u001b[0m     \u001b[38;5;28;01mexcept\u001b[39;00m \u001b[38;5;167;01mStopIteration\u001b[39;00m:\n\u001b[1;32m    144\u001b[0m         \u001b[38;5;28;01mreturn\u001b[39;00m \u001b[38;5;28;01mFalse\u001b[39;00m\n",
      "File \u001b[0;32m~/PycharmProjects/robot_manipulator/lib/python3.10/site-packages/matplotlib/animation.py:233\u001b[0m, in \u001b[0;36mAbstractMovieWriter.saving\u001b[0;34m(self, fig, outfile, dpi, *args, **kwargs)\u001b[0m\n\u001b[1;32m    231\u001b[0m     \u001b[38;5;28;01myield\u001b[39;00m \u001b[38;5;28mself\u001b[39m\n\u001b[1;32m    232\u001b[0m \u001b[38;5;28;01mfinally\u001b[39;00m:\n\u001b[0;32m--> 233\u001b[0m     \u001b[38;5;28;43mself\u001b[39;49m\u001b[38;5;241;43m.\u001b[39;49m\u001b[43mfinish\u001b[49m\u001b[43m(\u001b[49m\u001b[43m)\u001b[49m\n",
      "File \u001b[0;32m~/PycharmProjects/robot_manipulator/lib/python3.10/site-packages/matplotlib/animation.py:469\u001b[0m, in \u001b[0;36mFileMovieWriter.finish\u001b[0;34m(self)\u001b[0m\n\u001b[1;32m    465\u001b[0m \u001b[38;5;28;01mdef\u001b[39;00m \u001b[38;5;21mfinish\u001b[39m(\u001b[38;5;28mself\u001b[39m):\n\u001b[1;32m    466\u001b[0m     \u001b[38;5;66;03m# Call run here now that all frame grabbing is done. All temp files\u001b[39;00m\n\u001b[1;32m    467\u001b[0m     \u001b[38;5;66;03m# are available to be assembled.\u001b[39;00m\n\u001b[1;32m    468\u001b[0m     \u001b[38;5;28;01mtry\u001b[39;00m:\n\u001b[0;32m--> 469\u001b[0m         \u001b[38;5;28;43mself\u001b[39;49m\u001b[38;5;241;43m.\u001b[39;49m\u001b[43m_run\u001b[49m\u001b[43m(\u001b[49m\u001b[43m)\u001b[49m\n\u001b[1;32m    470\u001b[0m         \u001b[38;5;28msuper\u001b[39m()\u001b[38;5;241m.\u001b[39mfinish()\n\u001b[1;32m    471\u001b[0m     \u001b[38;5;28;01mfinally\u001b[39;00m:\n",
      "File \u001b[0;32m~/PycharmProjects/robot_manipulator/lib/python3.10/site-packages/matplotlib/animation.py:328\u001b[0m, in \u001b[0;36mMovieWriter._run\u001b[0;34m(self)\u001b[0m\n\u001b[1;32m    325\u001b[0m _log\u001b[38;5;241m.\u001b[39minfo(\u001b[38;5;124m'\u001b[39m\u001b[38;5;124mMovieWriter._run: running command: \u001b[39m\u001b[38;5;132;01m%s\u001b[39;00m\u001b[38;5;124m'\u001b[39m,\n\u001b[1;32m    326\u001b[0m           cbook\u001b[38;5;241m.\u001b[39m_pformat_subprocess(command))\n\u001b[1;32m    327\u001b[0m PIPE \u001b[38;5;241m=\u001b[39m subprocess\u001b[38;5;241m.\u001b[39mPIPE\n\u001b[0;32m--> 328\u001b[0m \u001b[38;5;28mself\u001b[39m\u001b[38;5;241m.\u001b[39m_proc \u001b[38;5;241m=\u001b[39m \u001b[43msubprocess\u001b[49m\u001b[38;5;241;43m.\u001b[39;49m\u001b[43mPopen\u001b[49m\u001b[43m(\u001b[49m\n\u001b[1;32m    329\u001b[0m \u001b[43m    \u001b[49m\u001b[43mcommand\u001b[49m\u001b[43m,\u001b[49m\u001b[43m \u001b[49m\u001b[43mstdin\u001b[49m\u001b[38;5;241;43m=\u001b[39;49m\u001b[43mPIPE\u001b[49m\u001b[43m,\u001b[49m\u001b[43m \u001b[49m\u001b[43mstdout\u001b[49m\u001b[38;5;241;43m=\u001b[39;49m\u001b[43mPIPE\u001b[49m\u001b[43m,\u001b[49m\u001b[43m \u001b[49m\u001b[43mstderr\u001b[49m\u001b[38;5;241;43m=\u001b[39;49m\u001b[43mPIPE\u001b[49m\u001b[43m,\u001b[49m\n\u001b[1;32m    330\u001b[0m \u001b[43m    \u001b[49m\u001b[43mcreationflags\u001b[49m\u001b[38;5;241;43m=\u001b[39;49m\u001b[43msubprocess_creation_flags\u001b[49m\u001b[43m)\u001b[49m\n",
      "File \u001b[0;32m/usr/lib/python3.10/subprocess.py:969\u001b[0m, in \u001b[0;36mPopen.__init__\u001b[0;34m(self, args, bufsize, executable, stdin, stdout, stderr, preexec_fn, close_fds, shell, cwd, env, universal_newlines, startupinfo, creationflags, restore_signals, start_new_session, pass_fds, user, group, extra_groups, encoding, errors, text, umask, pipesize)\u001b[0m\n\u001b[1;32m    965\u001b[0m         \u001b[38;5;28;01mif\u001b[39;00m \u001b[38;5;28mself\u001b[39m\u001b[38;5;241m.\u001b[39mtext_mode:\n\u001b[1;32m    966\u001b[0m             \u001b[38;5;28mself\u001b[39m\u001b[38;5;241m.\u001b[39mstderr \u001b[38;5;241m=\u001b[39m io\u001b[38;5;241m.\u001b[39mTextIOWrapper(\u001b[38;5;28mself\u001b[39m\u001b[38;5;241m.\u001b[39mstderr,\n\u001b[1;32m    967\u001b[0m                     encoding\u001b[38;5;241m=\u001b[39mencoding, errors\u001b[38;5;241m=\u001b[39merrors)\n\u001b[0;32m--> 969\u001b[0m     \u001b[38;5;28;43mself\u001b[39;49m\u001b[38;5;241;43m.\u001b[39;49m\u001b[43m_execute_child\u001b[49m\u001b[43m(\u001b[49m\u001b[43margs\u001b[49m\u001b[43m,\u001b[49m\u001b[43m \u001b[49m\u001b[43mexecutable\u001b[49m\u001b[43m,\u001b[49m\u001b[43m \u001b[49m\u001b[43mpreexec_fn\u001b[49m\u001b[43m,\u001b[49m\u001b[43m \u001b[49m\u001b[43mclose_fds\u001b[49m\u001b[43m,\u001b[49m\n\u001b[1;32m    970\u001b[0m \u001b[43m                        \u001b[49m\u001b[43mpass_fds\u001b[49m\u001b[43m,\u001b[49m\u001b[43m \u001b[49m\u001b[43mcwd\u001b[49m\u001b[43m,\u001b[49m\u001b[43m \u001b[49m\u001b[43menv\u001b[49m\u001b[43m,\u001b[49m\n\u001b[1;32m    971\u001b[0m \u001b[43m                        \u001b[49m\u001b[43mstartupinfo\u001b[49m\u001b[43m,\u001b[49m\u001b[43m \u001b[49m\u001b[43mcreationflags\u001b[49m\u001b[43m,\u001b[49m\u001b[43m \u001b[49m\u001b[43mshell\u001b[49m\u001b[43m,\u001b[49m\n\u001b[1;32m    972\u001b[0m \u001b[43m                        \u001b[49m\u001b[43mp2cread\u001b[49m\u001b[43m,\u001b[49m\u001b[43m \u001b[49m\u001b[43mp2cwrite\u001b[49m\u001b[43m,\u001b[49m\n\u001b[1;32m    973\u001b[0m \u001b[43m                        \u001b[49m\u001b[43mc2pread\u001b[49m\u001b[43m,\u001b[49m\u001b[43m \u001b[49m\u001b[43mc2pwrite\u001b[49m\u001b[43m,\u001b[49m\n\u001b[1;32m    974\u001b[0m \u001b[43m                        \u001b[49m\u001b[43merrread\u001b[49m\u001b[43m,\u001b[49m\u001b[43m \u001b[49m\u001b[43merrwrite\u001b[49m\u001b[43m,\u001b[49m\n\u001b[1;32m    975\u001b[0m \u001b[43m                        \u001b[49m\u001b[43mrestore_signals\u001b[49m\u001b[43m,\u001b[49m\n\u001b[1;32m    976\u001b[0m \u001b[43m                        \u001b[49m\u001b[43mgid\u001b[49m\u001b[43m,\u001b[49m\u001b[43m \u001b[49m\u001b[43mgids\u001b[49m\u001b[43m,\u001b[49m\u001b[43m \u001b[49m\u001b[43muid\u001b[49m\u001b[43m,\u001b[49m\u001b[43m \u001b[49m\u001b[43mumask\u001b[49m\u001b[43m,\u001b[49m\n\u001b[1;32m    977\u001b[0m \u001b[43m                        \u001b[49m\u001b[43mstart_new_session\u001b[49m\u001b[43m)\u001b[49m\n\u001b[1;32m    978\u001b[0m \u001b[38;5;28;01mexcept\u001b[39;00m:\n\u001b[1;32m    979\u001b[0m     \u001b[38;5;66;03m# Cleanup if the child failed starting.\u001b[39;00m\n\u001b[1;32m    980\u001b[0m     \u001b[38;5;28;01mfor\u001b[39;00m f \u001b[38;5;129;01min\u001b[39;00m \u001b[38;5;28mfilter\u001b[39m(\u001b[38;5;28;01mNone\u001b[39;00m, (\u001b[38;5;28mself\u001b[39m\u001b[38;5;241m.\u001b[39mstdin, \u001b[38;5;28mself\u001b[39m\u001b[38;5;241m.\u001b[39mstdout, \u001b[38;5;28mself\u001b[39m\u001b[38;5;241m.\u001b[39mstderr)):\n",
      "File \u001b[0;32m/usr/lib/python3.10/subprocess.py:1845\u001b[0m, in \u001b[0;36mPopen._execute_child\u001b[0;34m(self, args, executable, preexec_fn, close_fds, pass_fds, cwd, env, startupinfo, creationflags, shell, p2cread, p2cwrite, c2pread, c2pwrite, errread, errwrite, restore_signals, gid, gids, uid, umask, start_new_session)\u001b[0m\n\u001b[1;32m   1843\u001b[0m     \u001b[38;5;28;01mif\u001b[39;00m errno_num \u001b[38;5;241m!=\u001b[39m \u001b[38;5;241m0\u001b[39m:\n\u001b[1;32m   1844\u001b[0m         err_msg \u001b[38;5;241m=\u001b[39m os\u001b[38;5;241m.\u001b[39mstrerror(errno_num)\n\u001b[0;32m-> 1845\u001b[0m     \u001b[38;5;28;01mraise\u001b[39;00m child_exception_type(errno_num, err_msg, err_filename)\n\u001b[1;32m   1846\u001b[0m \u001b[38;5;28;01mraise\u001b[39;00m child_exception_type(err_msg)\n",
      "\u001b[0;31mFileNotFoundError\u001b[0m: [Errno 2] No such file or directory: 'ffmpeg'"
     ]
    },
    {
     "data": {
      "image/png": "[encoded data removed]",
      "text/plain": [
       "<Figure size 640x480 with 1 Axes>"
      ]
     },
     "metadata": {},
     "output_type": "display_data"
    }
   ],
   "source": [
    "import os\n",
    "import matplotlib.pyplot as plt\n",
    "from matplotlib.animation import FFMpegFileWriter\n",
    "from matplotlib.patches import Circle\n",
    "\n",
    "fig, ax = plt.subplots()\n",
    "plot, = ax.plot([], [], color='cornflowerblue')\n",
    "ax.axis('equal')\n",
    "ax.set_xlim([-3, 3])\n",
    "ax.set_ylim([-3, 3])\n",
    "ax.set_xlabel('X')\n",
    "ax.set_ylabel('Y')\n",
    "video_title = 'pendulum'\n",
    "\n",
    "\n",
    "c = Circle( (0, 0), radius=0.1, color='cornflowerblue')\n",
    "ax.add_patch(c)\n",
    "\n",
    "FPS = 20 # frame per sec\n",
    "dt = average_time_step\n",
    "sample_rate = int(1/(FPS*dt))\n",
    "dpi = 300 # video quality\n",
    "writeObj = FFMpegFileWriter(fps=FPS)\n",
    "video_path_1 = './'+video_title+'.mp4'\n",
    "\n",
    "with writeObj.saving(fig, video_path_1, dpi): \n",
    "    \n",
    "    for i in range(0, simulation_size, sample_rate): \n",
    "        x_data_points = [0, x[i]]\n",
    "        y_data_points = [0, y[i]]\n",
    "        plot.set_data(x_data_points, y_data_points)\n",
    "        \n",
    "        patch_center = x[i], y[i]\n",
    "        c.center = patch_center\n",
    "        \n",
    "        fig.canvas.draw()\n",
    "        writeObj.grab_frame()\n",
    "        "
   ]
  },
  {
   "cell_type": "code",
   "execution_count": null,
   "id": "a7766ff5",
   "metadata": {},
   "outputs": [],
   "source": [
    "from I"
   ]
  }
 ],
 "metadata": {
  "kernelspec": {
   "display_name": "robot_manipulator",
   "language": "python",
   "name": "robot_manipulator"
  },
  "language_info": {
   "codemirror_mode": {
    "name": "ipython",
    "version": 3
   },
   "file_extension": ".py",
   "mimetype": "text/x-python",
   "name": "python",
   "nbconvert_exporter": "python",
   "pygments_lexer": "ipython3",
   "version": "3.10.6"
  }
 },
 "nbformat": 4,
 "nbformat_minor": 5
}
